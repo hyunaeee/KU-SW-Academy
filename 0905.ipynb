{
  "nbformat": 4,
  "nbformat_minor": 0,
  "metadata": {
    "colab": {
      "provenance": [],
      "authorship_tag": "ABX9TyOqENT7PModuJEcACrqiGUM",
      "include_colab_link": true
    },
    "kernelspec": {
      "name": "python3",
      "display_name": "Python 3"
    },
    "language_info": {
      "name": "python"
    }
  },
  "cells": [
    {
      "cell_type": "markdown",
      "metadata": {
        "id": "view-in-github",
        "colab_type": "text"
      },
      "source": [
        "<a href=\"https://colab.research.google.com/github/hyunaeee/KU-SW-Academy/blob/main/0905.ipynb\" target=\"_parent\"><img src=\"https://colab.research.google.com/assets/colab-badge.svg\" alt=\"Open In Colab\"/></a>"
      ]
    },
    {
      "cell_type": "code",
      "execution_count": null,
      "metadata": {
        "id": "PB4vEQ3aEL5Y"
      },
      "outputs": [],
      "source": [
        "import sqlite3"
      ]
    },
    {
      "cell_type": "code",
      "source": [
        "con = sqlite3.connect(':memory:')"
      ],
      "metadata": {
        "id": "EseeHI-PEqY6"
      },
      "execution_count": null,
      "outputs": []
    },
    {
      "cell_type": "code",
      "source": [
        "cur=con.cursor()"
      ],
      "metadata": {
        "id": "3MlJ3Rs_FF5w"
      },
      "execution_count": null,
      "outputs": []
    },
    {
      "cell_type": "code",
      "source": [
        "cur.execute('sql문 1개') -사용법 설명\n",
        "cur.executemany('sql문 1개가 반복실행')\n",
        "cur.executescript('sql문 여러개가 한번에 실행')"
      ],
      "metadata": {
        "colab": {
          "base_uri": "https://localhost:8080/",
          "height": 144
        },
        "id": "yWmhxyPuFJeG",
        "outputId": "e33bb2d1-f858-48e1-8b11-6efb48caa509"
      },
      "execution_count": null,
      "outputs": [
        {
          "output_type": "error",
          "ename": "SyntaxError",
          "evalue": "ignored",
          "traceback": [
            "\u001b[0;36m  File \u001b[0;32m\"<ipython-input-1-56c5c62c6cc8>\"\u001b[0;36m, line \u001b[0;32m1\u001b[0m\n\u001b[0;31m    cur.execute('sql문 1개') -사용법 설명\u001b[0m\n\u001b[0m                                ^\u001b[0m\n\u001b[0;31mSyntaxError\u001b[0m\u001b[0;31m:\u001b[0m invalid syntax\n"
          ]
        }
      ]
    },
    {
      "cell_type": "code",
      "source": [
        "cur.execute('''\n",
        "     CREATE TABLE CITY(\n",
        "        CNO INTEGER PRIMARY KEY,\n",
        "        CNAME TEXT\n",
        "     )\n",
        "''')"
      ],
      "metadata": {
        "colab": {
          "base_uri": "https://localhost:8080/"
        },
        "id": "7GAaxbfhFpZ0",
        "outputId": "69988a5f-26f3-4a8e-8ce2-b9506abc5d6b"
      },
      "execution_count": null,
      "outputs": [
        {
          "output_type": "execute_result",
          "data": {
            "text/plain": [
              "<sqlite3.Cursor at 0x7b2452b7c0c0>"
            ]
          },
          "metadata": {},
          "execution_count": 11
        }
      ]
    },
    {
      "cell_type": "code",
      "source": [
        "cur.execute('''\n",
        "    INSERT INTO CITY (CNO, CNAME)\n",
        "    VALUES(1, \"London\");\n",
        "''')"
      ],
      "metadata": {
        "colab": {
          "base_uri": "https://localhost:8080/"
        },
        "id": "r6Knxf5QFr-c",
        "outputId": "3903ddef-7bdc-4cc7-935b-35cf1a3e60b8"
      },
      "execution_count": null,
      "outputs": [
        {
          "output_type": "execute_result",
          "data": {
            "text/plain": [
              "<sqlite3.Cursor at 0x7b2452b7c0c0>"
            ]
          },
          "metadata": {},
          "execution_count": 12
        }
      ]
    },
    {
      "cell_type": "code",
      "source": [
        "cur.execute('''\n",
        "    INSERT INTO CITY\n",
        "    VALUES(2, \"Paris\")\n",
        "''')"
      ],
      "metadata": {
        "colab": {
          "base_uri": "https://localhost:8080/"
        },
        "id": "OeOmqnp0IhrE",
        "outputId": "cb9054ad-ef24-401f-86fe-f410fcfeed1c"
      },
      "execution_count": null,
      "outputs": [
        {
          "output_type": "execute_result",
          "data": {
            "text/plain": [
              "<sqlite3.Cursor at 0x7b2452b7c0c0>"
            ]
          },
          "metadata": {},
          "execution_count": 13
        }
      ]
    },
    {
      "cell_type": "code",
      "source": [
        "cur.execute('''\n",
        "    INSERT INTO CITY (CNAME)\n",
        "    VALUES(\"Rome\")\n",
        "''')"
      ],
      "metadata": {
        "colab": {
          "base_uri": "https://localhost:8080/"
        },
        "id": "M2UQuXe7IlnA",
        "outputId": "1a511073-0cc9-4a03-e143-5c7bbc364d5c"
      },
      "execution_count": null,
      "outputs": [
        {
          "output_type": "execute_result",
          "data": {
            "text/plain": [
              "<sqlite3.Cursor at 0x7b2452b7c0c0>"
            ]
          },
          "metadata": {},
          "execution_count": 14
        }
      ]
    },
    {
      "cell_type": "code",
      "source": [
        "cur.execute('''\n",
        "    INSERT INTO CITY\n",
        "    VALUES(NULL, \"Vienna\")\n",
        "''')"
      ],
      "metadata": {
        "colab": {
          "base_uri": "https://localhost:8080/"
        },
        "id": "UMaBz1nLIolQ",
        "outputId": "2fce6221-6af5-4b0b-806c-93073db71778"
      },
      "execution_count": null,
      "outputs": [
        {
          "output_type": "execute_result",
          "data": {
            "text/plain": [
              "<sqlite3.Cursor at 0x7b2452b7c0c0>"
            ]
          },
          "metadata": {},
          "execution_count": 15
        }
      ]
    },
    {
      "cell_type": "code",
      "source": [
        "cur.fetchone('Tuple/Record/Row 1개')- 설명\n",
        "cur.fetchmany('N개')\n",
        "cur.fetchall('All')"
      ],
      "metadata": {
        "colab": {
          "base_uri": "https://localhost:8080/",
          "height": 215
        },
        "id": "GZk_z7W1IuZw",
        "outputId": "18f3b054-5ba4-42e1-ef93-c4544131c24d"
      },
      "execution_count": null,
      "outputs": [
        {
          "output_type": "error",
          "ename": "TypeError",
          "evalue": "ignored",
          "traceback": [
            "\u001b[0;31m---------------------------------------------------------------------------\u001b[0m",
            "\u001b[0;31mTypeError\u001b[0m                                 Traceback (most recent call last)",
            "\u001b[0;32m<ipython-input-16-b1c91b5d614c>\u001b[0m in \u001b[0;36m<cell line: 1>\u001b[0;34m()\u001b[0m\n\u001b[0;32m----> 1\u001b[0;31m \u001b[0mcur\u001b[0m\u001b[0;34m.\u001b[0m\u001b[0mfetchone\u001b[0m\u001b[0;34m(\u001b[0m\u001b[0;34m'Tuple/Record/Row 1개'\u001b[0m\u001b[0;34m)\u001b[0m\u001b[0;34m\u001b[0m\u001b[0;34m\u001b[0m\u001b[0m\n\u001b[0m\u001b[1;32m      2\u001b[0m \u001b[0mcur\u001b[0m\u001b[0;34m.\u001b[0m\u001b[0mfetchmany\u001b[0m\u001b[0;34m(\u001b[0m\u001b[0;34m'N개'\u001b[0m\u001b[0;34m)\u001b[0m\u001b[0;34m\u001b[0m\u001b[0;34m\u001b[0m\u001b[0m\n\u001b[1;32m      3\u001b[0m \u001b[0mcur\u001b[0m\u001b[0;34m.\u001b[0m\u001b[0mfetchall\u001b[0m\u001b[0;34m(\u001b[0m\u001b[0;34m'All'\u001b[0m\u001b[0;34m)\u001b[0m\u001b[0;34m\u001b[0m\u001b[0;34m\u001b[0m\u001b[0m\n",
            "\u001b[0;31mTypeError\u001b[0m: Cursor.fetchone() takes no arguments (1 given)"
          ]
        }
      ]
    },
    {
      "cell_type": "code",
      "source": [
        "cur.execute('SELECT * FROM CITY')"
      ],
      "metadata": {
        "colab": {
          "base_uri": "https://localhost:8080/"
        },
        "id": "MvXbmBNVIziR",
        "outputId": "cffb9108-9a90-4214-b683-e3d390699657"
      },
      "execution_count": null,
      "outputs": [
        {
          "output_type": "execute_result",
          "data": {
            "text/plain": [
              "<sqlite3.Cursor at 0x7b2452b7c0c0>"
            ]
          },
          "metadata": {},
          "execution_count": 17
        }
      ]
    },
    {
      "cell_type": "code",
      "source": [
        "# cur.fetchone()\n",
        "# cur.fetchmany(2)\n",
        "cur.fetchall()"
      ],
      "metadata": {
        "colab": {
          "base_uri": "https://localhost:8080/"
        },
        "id": "iShIrIkyI2tS",
        "outputId": "01379d9a-dd86-4612-b664-1105b98c3d11"
      },
      "execution_count": null,
      "outputs": [
        {
          "output_type": "execute_result",
          "data": {
            "text/plain": [
              "[(1, 'London'), (2, 'Paris'), (3, 'Rome'), (4, 'Vienna')]"
            ]
          },
          "metadata": {},
          "execution_count": 18
        }
      ]
    },
    {
      "cell_type": "code",
      "source": [
        "cur.execute('''\n",
        "    CREATE TABLE TEMP(\n",
        "        PK INTEGER NOT NULL UNIQUE,\n",
        "        NAME CHAR(5) NOT NULL\n",
        "    )\n",
        "''')"
      ],
      "metadata": {
        "colab": {
          "base_uri": "https://localhost:8080/"
        },
        "id": "-jTELEjMJKe4",
        "outputId": "8ba7f6b9-623e-46ed-95cd-105ef4b6e82f"
      },
      "execution_count": null,
      "outputs": [
        {
          "output_type": "execute_result",
          "data": {
            "text/plain": [
              "<sqlite3.Cursor at 0x7b2452b7c0c0>"
            ]
          },
          "metadata": {},
          "execution_count": 19
        }
      ]
    },
    {
      "cell_type": "code",
      "source": [
        "cur.execute('INSERt INTO TEMP VALUES(1, \"ABCDEFGGHH\")')"
      ],
      "metadata": {
        "colab": {
          "base_uri": "https://localhost:8080/"
        },
        "id": "H_mhTBMFL-nz",
        "outputId": "daa6a390-3f29-4160-9228-48b03e278979"
      },
      "execution_count": null,
      "outputs": [
        {
          "output_type": "execute_result",
          "data": {
            "text/plain": [
              "<sqlite3.Cursor at 0x7b2452b7c0c0>"
            ]
          },
          "metadata": {},
          "execution_count": 20
        }
      ]
    },
    {
      "cell_type": "code",
      "source": [
        "cur.execute('SELECT * FROM TEMP')"
      ],
      "metadata": {
        "colab": {
          "base_uri": "https://localhost:8080/"
        },
        "id": "C0w33vDyMKbH",
        "outputId": "5bd34f9f-b641-486e-c78e-bb1d74cd4f96"
      },
      "execution_count": null,
      "outputs": [
        {
          "output_type": "execute_result",
          "data": {
            "text/plain": [
              "<sqlite3.Cursor at 0x7b2452b7c0c0>"
            ]
          },
          "metadata": {},
          "execution_count": 21
        }
      ]
    },
    {
      "cell_type": "code",
      "source": [
        "cur.fetchall()"
      ],
      "metadata": {
        "colab": {
          "base_uri": "https://localhost:8080/"
        },
        "id": "Etw4MXt7MOre",
        "outputId": "84d4aacb-9278-47bb-f2b0-9d027e1c2480"
      },
      "execution_count": null,
      "outputs": [
        {
          "output_type": "execute_result",
          "data": {
            "text/plain": [
              "[(1, 'ABCDEFGGHH')]"
            ]
          },
          "metadata": {},
          "execution_count": 22
        }
      ]
    },
    {
      "cell_type": "code",
      "source": [
        "cur.execute('''\n",
        "    CREATE TABLE SUPPLIER(\n",
        "        SNO INTEGER PRIMARY KEY,\n",
        "        SNAME TEXT NOT NULL DEFAULT 'NONAME',\n",
        "        CNO INTEGER NOT NULL\n",
        "    )\n",
        "''')"
      ],
      "metadata": {
        "colab": {
          "base_uri": "https://localhost:8080/"
        },
        "id": "MFnzgs8uMQ-B",
        "outputId": "0e870e0e-a9f9-48db-e24c-a91f68ae1b6d"
      },
      "execution_count": null,
      "outputs": [
        {
          "output_type": "execute_result",
          "data": {
            "text/plain": [
              "<sqlite3.Cursor at 0x7b2452b7c0c0>"
            ]
          },
          "metadata": {},
          "execution_count": 23
        }
      ]
    },
    {
      "cell_type": "code",
      "source": [
        "# qmark = ?, named = k:v\n",
        "sname = 'Smith'\n",
        "cno = 1\n",
        "\n",
        "cur.execute('''\n",
        "    INSERT INTO SUPPLIER VALUES(NULL, ?, ?);\n",
        "''', (sname, cno))"
      ],
      "metadata": {
        "colab": {
          "base_uri": "https://localhost:8080/"
        },
        "id": "TBesVKtaMVF5",
        "outputId": "467480ce-0281-410e-c144-9627d4a06fce"
      },
      "execution_count": null,
      "outputs": [
        {
          "output_type": "execute_result",
          "data": {
            "text/plain": [
              "<sqlite3.Cursor at 0x7b2452b7c0c0>"
            ]
          },
          "metadata": {},
          "execution_count": 24
        }
      ]
    },
    {
      "cell_type": "code",
      "source": [
        "cur.execute('SELECT * FROM SUPPLIER')\n",
        "cur.fetchall()"
      ],
      "metadata": {
        "colab": {
          "base_uri": "https://localhost:8080/"
        },
        "id": "asLR8xJWMtNN",
        "outputId": "eab9857b-f71f-4ba1-e8cc-5d99a93c8779"
      },
      "execution_count": null,
      "outputs": [
        {
          "output_type": "execute_result",
          "data": {
            "text/plain": [
              "[(1, 'Smith', 1)]"
            ]
          },
          "metadata": {},
          "execution_count": 25
        }
      ]
    },
    {
      "cell_type": "code",
      "source": [
        "data = (('Jones', 2), ('Adams', 1), ('Blake', 3))\n",
        "\n",
        "cur.executemany('''\n",
        "    INSERT INTO SUPPLIER VALUES(NULL, ?, ?);\n",
        "''', data)"
      ],
      "metadata": {
        "colab": {
          "base_uri": "https://localhost:8080/"
        },
        "id": "jwiI5oVkMuGc",
        "outputId": "d7c008cf-ada9-479a-eceb-2ecaddf24a77"
      },
      "execution_count": null,
      "outputs": [
        {
          "output_type": "execute_result",
          "data": {
            "text/plain": [
              "<sqlite3.Cursor at 0x7b2452b7c0c0>"
            ]
          },
          "metadata": {},
          "execution_count": 26
        }
      ]
    },
    {
      "cell_type": "code",
      "source": [
        "len(data), len(data[0])"
      ],
      "metadata": {
        "colab": {
          "base_uri": "https://localhost:8080/"
        },
        "id": "Jvs8aG-OMwh4",
        "outputId": "f0b8cd60-7020-4cf3-b3ce-7309967ed543"
      },
      "execution_count": null,
      "outputs": [
        {
          "output_type": "execute_result",
          "data": {
            "text/plain": [
              "(3, 2)"
            ]
          },
          "metadata": {},
          "execution_count": 27
        }
      ]
    },
    {
      "cell_type": "code",
      "source": [],
      "metadata": {
        "id": "QbSKa804Mza7"
      },
      "execution_count": null,
      "outputs": []
    },
    {
      "cell_type": "code",
      "source": [
        "cur.execute('SELECT * FROM SUPPLIER')\n",
        "cur.fetchall()"
      ],
      "metadata": {
        "colab": {
          "base_uri": "https://localhost:8080/"
        },
        "id": "SrGxuPBVMzco",
        "outputId": "45e2424b-83b5-4d45-84ac-2b2ea06d0c72"
      },
      "execution_count": null,
      "outputs": [
        {
          "output_type": "execute_result",
          "data": {
            "text/plain": [
              "[(1, 'Smith', 1), (2, 'Jones', 2), (3, 'Adams', 1), (4, 'Blake', 3)]"
            ]
          },
          "metadata": {},
          "execution_count": 28
        }
      ]
    },
    {
      "cell_type": "code",
      "source": [
        "cur.execute('''\n",
        "    CREATE TABLE PART(\n",
        "        PNO INTEGER PRIMARY KEY AUTOINCREMENT,\n",
        "        PNAME TEXT\n",
        "    )\n",
        "''')"
      ],
      "metadata": {
        "colab": {
          "base_uri": "https://localhost:8080/"
        },
        "id": "_9AZTOleN44T",
        "outputId": "b2114667-6d83-4795-eda2-16c3d1488bef"
      },
      "execution_count": null,
      "outputs": [
        {
          "output_type": "execute_result",
          "data": {
            "text/plain": [
              "<sqlite3.Cursor at 0x7b2452b7c0c0>"
            ]
          },
          "metadata": {},
          "execution_count": 29
        }
      ]
    },
    {
      "cell_type": "code",
      "source": [
        "cur.execute('''\n",
        "    INSERT INTO PART\n",
        "    VALUES(:pno, :pname)\n",
        "''', {'pno':1, 'pname':'Screw', 'asdf':'asdf'})"
      ],
      "metadata": {
        "colab": {
          "base_uri": "https://localhost:8080/"
        },
        "id": "ybhLJyljN6V7",
        "outputId": "29abf2d8-d716-450f-8100-837d1ce38784"
      },
      "execution_count": null,
      "outputs": [
        {
          "output_type": "execute_result",
          "data": {
            "text/plain": [
              "<sqlite3.Cursor at 0x7b2452b7c0c0>"
            ]
          },
          "metadata": {},
          "execution_count": 31
        }
      ]
    },
    {
      "cell_type": "code",
      "source": [
        "cur.execute('SELECT * FROM PART')\n",
        "cur.fetchall()"
      ],
      "metadata": {
        "colab": {
          "base_uri": "https://localhost:8080/"
        },
        "id": "BPiQCuD0N8aD",
        "outputId": "3d58832d-7384-4b09-e5fc-c122955a524e"
      },
      "execution_count": null,
      "outputs": [
        {
          "output_type": "execute_result",
          "data": {
            "text/plain": [
              "[(1, 'Screw')]"
            ]
          },
          "metadata": {},
          "execution_count": 32
        }
      ]
    },
    {
      "cell_type": "code",
      "source": [
        "data = [{'pname':'Nut'},\n",
        "        {'pname':'Bolt'},\n",
        "        {'pname':'Cam'}]\n",
        "\n",
        "cur.executemany('''\n",
        "    INSERT INTO PART\n",
        "    VALUES(NULL, :pname)\n",
        "''', data)"
      ],
      "metadata": {
        "colab": {
          "base_uri": "https://localhost:8080/"
        },
        "id": "HAK619QoOE2F",
        "outputId": "186ea0cf-1d98-478b-ff32-45357fa69bee"
      },
      "execution_count": null,
      "outputs": [
        {
          "output_type": "execute_result",
          "data": {
            "text/plain": [
              "<sqlite3.Cursor at 0x7b2452b7c0c0>"
            ]
          },
          "metadata": {},
          "execution_count": 33
        }
      ]
    },
    {
      "cell_type": "code",
      "source": [
        "cur.execute('''\n",
        "    CREATE TABLE SELLS(\n",
        "        SNO INTEGER NOT NULL,\n",
        "        PNO INTEGER NOT NULL,\n",
        "        PRICE INTEGER NOT NULL\n",
        "    );\n",
        "''')"
      ],
      "metadata": {
        "colab": {
          "base_uri": "https://localhost:8080/"
        },
        "id": "9I1IifymOHhO",
        "outputId": "28a89b1c-af43-49c4-acf9-80804a6f9037"
      },
      "execution_count": null,
      "outputs": [
        {
          "output_type": "execute_result",
          "data": {
            "text/plain": [
              "<sqlite3.Cursor at 0x7b2452b7c0c0>"
            ]
          },
          "metadata": {},
          "execution_count": 34
        }
      ]
    },
    {
      "cell_type": "code",
      "source": [
        "key1 = 'Screw'\n",
        "key2 = 'Smith'\n",
        "sno = 0\n",
        "pno = 0\n",
        "\n",
        "cur.execute('''\n",
        "    SELECT PNO FROM PART\n",
        "    WHERE PNAME=?\n",
        "''', [key1])\n",
        "rst = cur.fetchone()\n",
        "if rst:\n",
        "    pno = rst[0]\n",
        "\n",
        "cur.execute('''\n",
        "    SELECT SNO FROM SUPPLIER\n",
        "    WHERE SNAME=?\n",
        "''', [key2])\n",
        "\n",
        "rst = cur.fetchone()\n",
        "if rst:\n",
        "    sno = rst[0]\n",
        "\n",
        "pno, sno"
      ],
      "metadata": {
        "colab": {
          "base_uri": "https://localhost:8080/"
        },
        "id": "LH0yPCS0OKon",
        "outputId": "c5d37660-ba0d-486f-f031-95a8deaccb98"
      },
      "execution_count": null,
      "outputs": [
        {
          "output_type": "execute_result",
          "data": {
            "text/plain": [
              "(1, 1)"
            ]
          },
          "metadata": {},
          "execution_count": 35
        }
      ]
    },
    {
      "cell_type": "code",
      "source": [
        "data = ['Smith', 'Screw', 10]\n",
        "\n",
        "cur.execute('''\n",
        "    INSERT INTO SELLS\n",
        "    VALUES(\n",
        "        (SELECT SNO FROM SUPPLIER WHERE SNAME=? LIMIT 0, 1),\n",
        "        (SELECT PNO FROM PART WHERE PNAME=? LIMIT 0, 1),\n",
        "    ?\n",
        "    )\n",
        "''', data)"
      ],
      "metadata": {
        "colab": {
          "base_uri": "https://localhost:8080/"
        },
        "id": "0MpeF9lmTj6T",
        "outputId": "f04890b6-8419-4543-c35b-f187cd9521f3"
      },
      "execution_count": null,
      "outputs": [
        {
          "output_type": "execute_result",
          "data": {
            "text/plain": [
              "<sqlite3.Cursor at 0x7b2452b7c0c0>"
            ]
          },
          "metadata": {},
          "execution_count": 36
        }
      ]
    },
    {
      "cell_type": "code",
      "source": [
        "cur.execute('SELECT * FROM SELLS')\n",
        "cur.fetchall()"
      ],
      "metadata": {
        "colab": {
          "base_uri": "https://localhost:8080/"
        },
        "id": "uKGXqoVhTmq_",
        "outputId": "304909ca-599e-4bd2-8331-22c04872f0de"
      },
      "execution_count": null,
      "outputs": [
        {
          "output_type": "execute_result",
          "data": {
            "text/plain": [
              "[(1, 1, 10)]"
            ]
          },
          "metadata": {},
          "execution_count": 37
        }
      ]
    },
    {
      "cell_type": "code",
      "source": [
        "CITY = dict()\n",
        "\n",
        "cur.execute('SELECT * FROM CITY')\n",
        "for row in cur.fetchall():\n",
        "    CITY[row[1]] = row[0]"
      ],
      "metadata": {
        "id": "d3rpzbUsTpKY"
      },
      "execution_count": null,
      "outputs": []
    },
    {
      "cell_type": "code",
      "source": [
        "CITY['London']"
      ],
      "metadata": {
        "colab": {
          "base_uri": "https://localhost:8080/"
        },
        "id": "SK9hhB9iTsi9",
        "outputId": "372df3e4-285f-4386-97ff-eeea142adbf7"
      },
      "execution_count": null,
      "outputs": [
        {
          "output_type": "execute_result",
          "data": {
            "text/plain": [
              "1"
            ]
          },
          "metadata": {},
          "execution_count": 40
        }
      ]
    },
    {
      "cell_type": "code",
      "source": [
        "data = [(1,2,8),\n",
        "        (2,4,38),\n",
        "        (3,1,11),\n",
        "        (3,3,6),\n",
        "        (4,2,7),\n",
        "        (4,3,4),\n",
        "        (4,4,45)]\n",
        "cur.executemany('INSERT INTO SELLS VALUES(?,?,?)', data)"
      ],
      "metadata": {
        "colab": {
          "base_uri": "https://localhost:8080/"
        },
        "id": "ww8Rj0PHTufG",
        "outputId": "6c2c7ff0-d98f-4071-8a10-7a02593802ca"
      },
      "execution_count": null,
      "outputs": [
        {
          "output_type": "execute_result",
          "data": {
            "text/plain": [
              "<sqlite3.Cursor at 0x7b2452b7c0c0>"
            ]
          },
          "metadata": {},
          "execution_count": 41
        }
      ]
    },
    {
      "cell_type": "code",
      "source": [
        "# 73\n",
        "# cur.execute('''\n",
        "#     SELECT C.CNAME, COUNT(*)\n",
        "#     FROM SUPPLIER AS S, CITY AS C\n",
        "#     WHERE S.CNO = C.CNO\n",
        "#     GROUP BY C.CNAME\n",
        "#     ORDER BY C.CNAME, S.SNAME ASC\n",
        "# ''')\n",
        "# cur.execute('''\n",
        "#     SELECT PNAME, COUNT(*), SUM(PRICE)\n",
        "#     FROM SELLS, SUPPLIER, PART\n",
        "#     WHERE SELLS.SNO = SUPPLIER.SNO AND SELLS.PNO = PART.PNO\n",
        "#     GROUP BY PART.PNO\n",
        "#     ORDER BY PRICE DESC\n",
        "# ''')\n",
        "cur.execute('''\n",
        "    SELECT SNAME, COUNT(*), SUM(PRICE)\n",
        "    FROM SELLS, SUPPLIER, PART\n",
        "    WHERE SELLS.SNO = SUPPLIER.SNO AND SELLS.PNO = PART.PNO\n",
        "    GROUP BY SUPPLIER.SNO\n",
        "    ORDER BY PRICE DESC\n",
        "''')\n",
        "cur.fetchall()"
      ],
      "metadata": {
        "colab": {
          "base_uri": "https://localhost:8080/"
        },
        "id": "3CKHQZZsTxCT",
        "outputId": "71f8f331-b250-44fd-cf0a-c0f8d6ebcd1e"
      },
      "execution_count": null,
      "outputs": [
        {
          "output_type": "execute_result",
          "data": {
            "text/plain": [
              "[('Jones', 1, 38), ('Adams', 2, 17), ('Smith', 2, 18), ('Blake', 3, 56)]"
            ]
          },
          "metadata": {},
          "execution_count": 42
        }
      ]
    },
    {
      "cell_type": "code",
      "source": [
        "con.close()"
      ],
      "metadata": {
        "id": "p2t9dNpoTz_X"
      },
      "execution_count": null,
      "outputs": []
    },
    {
      "cell_type": "code",
      "source": [
        "con = sqlite3.connect('0905.db')\n",
        "cur = con.cursor()"
      ],
      "metadata": {
        "id": "af6wXz2wT21s"
      },
      "execution_count": null,
      "outputs": []
    },
    {
      "cell_type": "code",
      "source": [
        "cur.execute('''\n",
        "    CREATE TABLE PART(\n",
        "        PNO INTEGER PRIMARY KEY,\n",
        "        PNAME TEXT\n",
        "    )\n",
        "''')"
      ],
      "metadata": {
        "colab": {
          "base_uri": "https://localhost:8080/"
        },
        "id": "J-HsL3kPT4qt",
        "outputId": "a61eebe0-542e-4554-a11e-0bf78a63ffb8"
      },
      "execution_count": null,
      "outputs": [
        {
          "output_type": "execute_result",
          "data": {
            "text/plain": [
              "<sqlite3.Cursor at 0x7b2452b7cf40>"
            ]
          },
          "metadata": {},
          "execution_count": 45
        }
      ]
    },
    {
      "cell_type": "code",
      "source": [
        "cur.executescript('''\n",
        "    INSERT INTO PART VALUES(1,'Screw');\n",
        "    INSERT INTO PART(PNAME) VALUES('Bolt');\n",
        "    INSERT INTO PART VALUES(NULL, 'Nut');\n",
        "    INSERT INTO PART VALUES(4, 'Cam');\n",
        "''')"
      ],
      "metadata": {
        "colab": {
          "base_uri": "https://localhost:8080/"
        },
        "id": "lj30_r62T7hB",
        "outputId": "28cb5464-d4a2-4261-f50d-279f8b6a2ded"
      },
      "execution_count": null,
      "outputs": [
        {
          "output_type": "execute_result",
          "data": {
            "text/plain": [
              "<sqlite3.Cursor at 0x7b2452b7cf40>"
            ]
          },
          "metadata": {},
          "execution_count": 46
        }
      ]
    },
    {
      "cell_type": "code",
      "source": [
        "cur.execute('INSERT INTO PART VALUES(NULL, \"Part1\")')"
      ],
      "metadata": {
        "colab": {
          "base_uri": "https://localhost:8080/"
        },
        "id": "FMfGNjlrT9b3",
        "outputId": "38d4f401-f191-4a2b-ea8e-8ab3f47c9968"
      },
      "execution_count": null,
      "outputs": [
        {
          "output_type": "execute_result",
          "data": {
            "text/plain": [
              "<sqlite3.Cursor at 0x7b2452b7cf40>"
            ]
          },
          "metadata": {},
          "execution_count": 47
        }
      ]
    },
    {
      "cell_type": "code",
      "source": [
        "cur.execute('SELECT * FROM PART')\n",
        "cur.fetchall()\n"
      ],
      "metadata": {
        "colab": {
          "base_uri": "https://localhost:8080/"
        },
        "id": "RlSCbO-5T_VH",
        "outputId": "7063d772-2c2c-4463-db46-5963b5bcf8a9"
      },
      "execution_count": null,
      "outputs": [
        {
          "output_type": "execute_result",
          "data": {
            "text/plain": [
              "[(1, 'Screw'), (2, 'Bolt'), (3, 'Nut'), (4, 'Cam'), (5, 'Part1')]"
            ]
          },
          "metadata": {},
          "execution_count": 48
        }
      ]
    },
    {
      "cell_type": "code",
      "source": [
        "con.close()"
      ],
      "metadata": {
        "id": "E5q1B_JTUAc7"
      },
      "execution_count": null,
      "outputs": []
    },
    {
      "cell_type": "code",
      "source": [
        "con = sqlite3.connect('0905.db')\n",
        "cur = con.cursor()\n"
      ],
      "metadata": {
        "id": "p7w-GPn6UB2p"
      },
      "execution_count": null,
      "outputs": []
    },
    {
      "cell_type": "code",
      "source": [
        "cur.execute('SELECT * FROM PART')\n",
        "cur.fetchall()"
      ],
      "metadata": {
        "id": "jhFct8r7UDkZ"
      },
      "execution_count": null,
      "outputs": []
    },
    {
      "cell_type": "code",
      "source": [
        "con.commit()\n"
      ],
      "metadata": {
        "id": "Ukuz-bwyUE4o"
      },
      "execution_count": null,
      "outputs": []
    },
    {
      "cell_type": "code",
      "source": [
        "cur.execute('''\n",
        "    UPDATE PART\n",
        "    SET PNAME='아무거나'\n",
        "''')"
      ],
      "metadata": {
        "colab": {
          "base_uri": "https://localhost:8080/"
        },
        "id": "KRbfzFv7UGRt",
        "outputId": "260e47e7-c78c-46e9-889e-67827e53c7a5"
      },
      "execution_count": null,
      "outputs": [
        {
          "output_type": "execute_result",
          "data": {
            "text/plain": [
              "<sqlite3.Cursor at 0x7b2452b7cf40>"
            ]
          },
          "metadata": {},
          "execution_count": 49
        }
      ]
    },
    {
      "cell_type": "code",
      "source": [
        "con.total_changes"
      ],
      "metadata": {
        "colab": {
          "base_uri": "https://localhost:8080/"
        },
        "id": "h0dBWmNueMTO",
        "outputId": "5a18f8cc-2602-424b-f811-392d12cb6a2d"
      },
      "execution_count": null,
      "outputs": [
        {
          "output_type": "execute_result",
          "data": {
            "text/plain": [
              "10"
            ]
          },
          "metadata": {},
          "execution_count": 51
        }
      ]
    },
    {
      "cell_type": "code",
      "source": [
        "cur.execute('SELECT * FROM PART')\n",
        "cur.fetchall()"
      ],
      "metadata": {
        "colab": {
          "base_uri": "https://localhost:8080/"
        },
        "id": "jV7Bxm3teMsX",
        "outputId": "04574a9b-184b-4c80-f10c-065ad35d51a5"
      },
      "execution_count": null,
      "outputs": [
        {
          "output_type": "execute_result",
          "data": {
            "text/plain": [
              "[(1, '아무거나'), (2, '아무거나'), (3, '아무거나'), (4, '아무거나'), (5, '아무거나')]"
            ]
          },
          "metadata": {},
          "execution_count": 52
        }
      ]
    },
    {
      "cell_type": "code",
      "source": [
        "cur.execute('INSERT INTO PART VALUES(NULL, \"ㅇㅇㅇㅇ\")')"
      ],
      "metadata": {
        "colab": {
          "base_uri": "https://localhost:8080/"
        },
        "id": "pYw3DPDfeQE1",
        "outputId": "182125f6-51dc-4f17-e888-b9faf2a4c265"
      },
      "execution_count": null,
      "outputs": [
        {
          "output_type": "execute_result",
          "data": {
            "text/plain": [
              "<sqlite3.Cursor at 0x7b2452b7cf40>"
            ]
          },
          "metadata": {},
          "execution_count": 53
        }
      ]
    },
    {
      "cell_type": "code",
      "source": [
        "cur.lastrowid # 맹신금지"
      ],
      "metadata": {
        "colab": {
          "base_uri": "https://localhost:8080/"
        },
        "id": "CXcRJSTEeTBL",
        "outputId": "d61ae30e-0fe5-4e90-c839-1f5ccc019cf6"
      },
      "execution_count": null,
      "outputs": [
        {
          "output_type": "execute_result",
          "data": {
            "text/plain": [
              "6"
            ]
          },
          "metadata": {},
          "execution_count": 54
        }
      ]
    },
    {
      "cell_type": "code",
      "source": [
        "cur.execute('SELECT * FROM PART')\n",
        "cur.fetchall()[-1]"
      ],
      "metadata": {
        "colab": {
          "base_uri": "https://localhost:8080/"
        },
        "id": "OF9vz0XneTdS",
        "outputId": "a1a3cdb9-74fd-43d9-abd7-3be8382a6f77"
      },
      "execution_count": null,
      "outputs": [
        {
          "output_type": "execute_result",
          "data": {
            "text/plain": [
              "(6, 'ㅇㅇㅇㅇ')"
            ]
          },
          "metadata": {},
          "execution_count": 55
        }
      ]
    },
    {
      "cell_type": "code",
      "source": [
        "con.close()"
      ],
      "metadata": {
        "id": "eS2qWHFBeWMU"
      },
      "execution_count": null,
      "outputs": []
    },
    {
      "cell_type": "code",
      "source": [
        "con = sqlite3.connect('0905.db')"
      ],
      "metadata": {
        "id": "GW-7nwUueZAY"
      },
      "execution_count": null,
      "outputs": []
    },
    {
      "cell_type": "code",
      "source": [
        "cur = con.cursor()"
      ],
      "metadata": {
        "id": "4He5e1AQea8E"
      },
      "execution_count": null,
      "outputs": []
    },
    {
      "cell_type": "code",
      "source": [
        "cur.executescript('''\n",
        "    DROP TABLE IF EXISTS TEMP;\n",
        "    CREATE TABLE TEMP(\n",
        "        PK INTEGER NOT NULL UNIQUE,\n",
        "        NAME TEXT NOT NULL\n",
        "    );\n",
        "\n",
        "    INSERT INTO TEMP VALUES(1,'테스트1');\n",
        "    INSERT INTO TEMP VALUES(2,'테스트2');\n",
        "    INSERT INTO TEMP VALUES(3,'테스트3');\n",
        "''')"
      ],
      "metadata": {
        "colab": {
          "base_uri": "https://localhost:8080/"
        },
        "id": "yauDIr74ebf9",
        "outputId": "2fddf95a-ffbb-4153-9334-2a7523b6b02d"
      },
      "execution_count": null,
      "outputs": [
        {
          "output_type": "execute_result",
          "data": {
            "text/plain": [
              "<sqlite3.Cursor at 0x7b2452b7d240>"
            ]
          },
          "metadata": {},
          "execution_count": 59
        }
      ]
    },
    {
      "cell_type": "code",
      "source": [
        "for line in con.iterdump():\n",
        "    print(line)"
      ],
      "metadata": {
        "colab": {
          "base_uri": "https://localhost:8080/"
        },
        "id": "mr5_yB7VefpP",
        "outputId": "049a0f43-f120-4ada-d2a6-12ac028bb3c3"
      },
      "execution_count": null,
      "outputs": [
        {
          "output_type": "stream",
          "name": "stdout",
          "text": [
            "BEGIN TRANSACTION;\n",
            "CREATE TABLE PART(\n",
            "        PNO INTEGER PRIMARY KEY,\n",
            "        PNAME TEXT\n",
            "    );\n",
            "INSERT INTO \"PART\" VALUES(1,'Screw');\n",
            "INSERT INTO \"PART\" VALUES(2,'Bolt');\n",
            "INSERT INTO \"PART\" VALUES(3,'Nut');\n",
            "INSERT INTO \"PART\" VALUES(4,'Cam');\n",
            "CREATE TABLE TEMP(\n",
            "        PK INTEGER NOT NULL UNIQUE,\n",
            "        NAME TEXT NOT NULL\n",
            "    );\n",
            "INSERT INTO \"TEMP\" VALUES(1,'테스트1');\n",
            "INSERT INTO \"TEMP\" VALUES(2,'테스트2');\n",
            "INSERT INTO \"TEMP\" VALUES(3,'테스트3');\n",
            "COMMIT;\n"
          ]
        }
      ]
    },
    {
      "cell_type": "code",
      "source": [
        "con.close()"
      ],
      "metadata": {
        "id": "mcPUreNMeg_U"
      },
      "execution_count": null,
      "outputs": []
    },
    {
      "cell_type": "code",
      "source": [
        "con = sqlite3.connect('sns.db')\n",
        "cur = con.cursor()"
      ],
      "metadata": {
        "id": "vAvMwndfekTT"
      },
      "execution_count": null,
      "outputs": []
    },
    {
      "cell_type": "code",
      "source": [
        "cur.executescript('''\n",
        "    CREATE TABLE POST(\n",
        "        PK INTEGER PRIMARY KEY,\n",
        "        CONTENT TEXT\n",
        "    );\n",
        "    CREATE TABLE HASHTAG(\n",
        "        PK INTEGER PRIMARY KEY,\n",
        "        COUNT INTEGER DEFAULT 0,\n",
        "        NAME TEXT\n",
        "    );\n",
        "    CREATE TABLE POSTTAG(\n",
        "        PPK INTEGER NOT NULL,\n",
        "        HPK INTEGER NOT NULL\n",
        "    );\n",
        "''')"
      ],
      "metadata": {
        "id": "PEsbmJ32ekSN"
      },
      "execution_count": null,
      "outputs": []
    },
    {
      "cell_type": "code",
      "source": [
        "# HASHTAG Pool <= TAG가 있는지 검사하는\n",
        "# 있으면, PK, 없으면 새롭게 INSERT\n",
        "data = {'tag':'ORM'}\n",
        "\n",
        "cur.execute('''\n",
        "    SELECT COUNT(*) FROM HASHTAG\n",
        "    WHERE NAME=:tag\n",
        "''', data)\n",
        "\n",
        "if cur.fetchone()[0] == 0:\n",
        "    cur.execute('''\n",
        "        INSERT INTO HASHTAG(NAME) VALUES(:tag)\n",
        "    ''', data)\n",
        "    con.commit()\n",
        "\n",
        "cur.execute('''\n",
        "    SELECT PK\n",
        "    FROM HASHTAG\n",
        "    WHERE NAME=:tag\n",
        "    LIMIT 0,1\n",
        "''', data)\n",
        "\n",
        "PK = cur.fetchone()[0]\n",
        "PK"
      ],
      "metadata": {
        "id": "pMdr1vmsdNZs"
      },
      "execution_count": null,
      "outputs": []
    },
    {
      "cell_type": "code",
      "source": [
        "# Posting 하는 부분\n",
        "data1 = {'content':'본문1', 'tags':['Python']}\n",
        "\n",
        "cur.execute('INSERT INTO POST(CONTENT) VALUES(:content)', data1)\n",
        "con.commit()\n",
        "PPK = cur.lastrowid\n",
        "\n",
        "for tag in data1['tags']:\n",
        "    data2 = {'tag':tag}\n",
        "\n",
        "    cur.execute('''\n",
        "        SELECT COUNT(*) FROM HASHTAG\n",
        "        WHERE NAME=:tag\n",
        "    ''', data2)\n",
        "\n",
        "    if cur.fetchone()[0] == 0:\n",
        "        cur.execute('''\n",
        "            INSERT INTO HASHTAG(NAME) VALUES(:tag)\n",
        "        ''', data2)\n",
        "        con.commit()\n",
        "\n",
        "    cur.execute('''\n",
        "        SELECT PK\n",
        "        FROM HASHTAG\n",
        "        WHERE NAME=:tag\n",
        "        LIMIT 0,1\n",
        "    ''', data2)\n",
        "\n",
        "    TPK = cur.fetchone()[0]\n",
        "\n",
        "    cur.execute('INSERT INTO POSTTAG VALUES(?,?)', [PPK, TPK])\n",
        "    cur.execute('''\n",
        "        UPDATE HASHTAG SET COUNT = COUNT + 1\n",
        "        WHERE PK=?\n",
        "    ''', [TPK])\n",
        "    con.commit()"
      ],
      "metadata": {
        "id": "bXNhXbopdQ7G"
      },
      "execution_count": null,
      "outputs": []
    },
    {
      "cell_type": "code",
      "source": [
        "# 숙제: 수정 서비스 로직"
      ],
      "metadata": {
        "id": "RAIXqgqgdTUQ"
      },
      "execution_count": null,
      "outputs": []
    },
    {
      "cell_type": "code",
      "source": [
        "!pip install SQLAlchemy"
      ],
      "metadata": {
        "id": "ZyGx_ckPdV10"
      },
      "execution_count": null,
      "outputs": []
    },
    {
      "cell_type": "code",
      "source": [
        "from sqlalchemy import create_engine, MetaData\n",
        "from sqlalchemy.schema import Table, Column, ForeignKey\n",
        "from sqlalchemy.types import Integer, Text"
      ],
      "metadata": {
        "id": "rz-ipxLZdXjP"
      },
      "execution_count": null,
      "outputs": []
    },
    {
      "cell_type": "code",
      "source": [
        "engine = create_engine('sqlite:///:memory:', echo=True)"
      ],
      "metadata": {
        "id": "1JcNMOvSdZpb"
      },
      "execution_count": null,
      "outputs": []
    },
    {
      "cell_type": "code",
      "source": [
        "meta = MetaData()\n"
      ],
      "metadata": {
        "id": "cAM_ftwCdax0"
      },
      "execution_count": null,
      "outputs": []
    },
    {
      "cell_type": "code",
      "source": [
        "user = Table('USER', meta,\n",
        "             Column('PK', Integer, primary_key=True),\n",
        "             Column('NAME', Text, nullable=True))\n"
      ],
      "metadata": {
        "id": "nlsEOmELdcBy"
      },
      "execution_count": null,
      "outputs": []
    },
    {
      "cell_type": "code",
      "source": [
        "meta.create_all(engine)"
      ],
      "metadata": {
        "id": "RiyLPQKKddR8"
      },
      "execution_count": null,
      "outputs": []
    },
    {
      "cell_type": "code",
      "source": [
        "meta.clear()"
      ],
      "metadata": {
        "id": "FIcjbFcpdek6"
      },
      "execution_count": null,
      "outputs": []
    },
    {
      "cell_type": "code",
      "source": [
        "meta.tables"
      ],
      "metadata": {
        "id": "AJ4SIOdqdgeG"
      },
      "execution_count": null,
      "outputs": []
    },
    {
      "cell_type": "code",
      "source": [
        "meta.create_all(engine)"
      ],
      "metadata": {
        "id": "9d0kmIZxdiaK"
      },
      "execution_count": null,
      "outputs": []
    },
    {
      "cell_type": "code",
      "source": [
        "meta.reflect(engine)"
      ],
      "metadata": {
        "id": "LnRSN73gdjt0"
      },
      "execution_count": null,
      "outputs": []
    },
    {
      "cell_type": "code",
      "source": [
        "meta.tables"
      ],
      "metadata": {
        "id": "dok_FcMCdk2Z"
      },
      "execution_count": null,
      "outputs": []
    },
    {
      "cell_type": "code",
      "source": [
        "user1 = user.insert().values(NAME='아무개')"
      ],
      "metadata": {
        "id": "nnO-Ju38dl_l"
      },
      "execution_count": null,
      "outputs": []
    },
    {
      "cell_type": "code",
      "source": [
        "print(user1.compile(), user1.compile().params)"
      ],
      "metadata": {
        "id": "6KCBMWHgdnOC"
      },
      "execution_count": null,
      "outputs": []
    },
    {
      "cell_type": "code",
      "source": [
        "import sqlite3\n",
        "           Server\n",
        "Python      DBMS - DB\n",
        "Client ---> connection\n",
        "cursor --->  작업공간\n",
        "con - cur\n",
        "               SQL\n",
        "      execute\n",
        "con = sqlite3.connect(':memory:')\n",
        "cur = con.cursor()\n",
        "con.close()\n",
        "cur.execute('SQL문 1개')\n",
        "cur.executemany('SQL문 1개가 반복실행')\n",
        "cur.executescript('SQL문 여러개 한번에 실행')\n",
        "cur.execute('''\n",
        "    CREATE TABLE CITY (\n",
        "        CNO INTEGER PRIMARY KEY,\n",
        "        CNAME TEXT\n",
        "    )\n",
        "''')\n",
        "<sqlite3.Cursor at 0x1101bfa40>\n",
        "cur.execute('''\n",
        "    INSERT INTO CITY (CNO, CNAME)\n",
        "    VALUES(1, \"London\");\n",
        "''')\n",
        "<sqlite3.Cursor at 0x1101bfa40>\n",
        "cur.execute('''\n",
        "    INSERT INTO CITY\n",
        "    VALUES(2, \"Paris\")\n",
        "''')\n",
        "<sqlite3.Cursor at 0x1101bfa40>\n",
        "cur.execute('''\n",
        "    INSERT INTO CITY (CNAME)\n",
        "    VALUES(\"Rome\")\n",
        "''')\n",
        "<sqlite3.Cursor at 0x1101bfa40>\n",
        "cur.execute('''\n",
        "    INSERT INTO CITY\n",
        "    VALUES(NULL, \"Vienna\")\n",
        "''')\n",
        "<sqlite3.Cursor at 0x1101bfa40>\n",
        "cur.fetchone('Tuple/Record/Row 1개')\n",
        "cur.fetchmany('N개')\n",
        "cur.fetchall('All')\n",
        "cur.execute('SELECT * FROM CITY')\n",
        "<sqlite3.Cursor at 0x1101bfa40>\n",
        "# cur.fetchone()\n",
        "# cur.fetchmany(2)\n",
        "cur.fetchall()\n",
        "[(1, 'London'), (2, 'Paris'), (3, 'Rome'), (4, 'Vienna')]\n",
        "cur.execute('''\n",
        "    CREATE TABLE TEMP(\n",
        "        PK INTEGER NOT NULL UNIQUE,\n",
        "        NAME CHAR(5) NOT NULL\n",
        "    )\n",
        "''')\n",
        "<sqlite3.Cursor at 0x1101bfa40>\n",
        "cur.execute('INSERt INTO TEMP VALUES(1, \"ABCDEFGGHH\")')\n",
        "<sqlite3.Cursor at 0x1101bfa40>\n",
        "cur.execute('SELECT * FROM TEMP')\n",
        "<sqlite3.Cursor at 0x1101bfa40>\n",
        "cur.fetchall()\n",
        "[]\n",
        "cur.execute('''\n",
        "    CREATE TABLE SUPPLIER(\n",
        "        SNO INTEGER PRIMARY KEY,\n",
        "        SNAME TEXT NOT NULL DEFAULT 'NONAME',\n",
        "        CNO INTEGER NOT NULL\n",
        "    )\n",
        "''')\n",
        "<sqlite3.Cursor at 0x1101bfa40>\n",
        "# qmark = ?, named = k:v\n",
        "sname = 'Smith'\n",
        "cno = 1\n",
        "\n",
        "cur.execute('''\n",
        "    INSERT INTO SUPPLIER VALUES(NULL, ?, ?);\n",
        "''', (sname, cno))\n",
        "<sqlite3.Cursor at 0x1101bfa40>\n",
        "cur.execute('SELECT * FROM SUPPLIER')\n",
        "cur.fetchall()\n",
        "[(1, 'Smith', 1)]\n",
        "data = (('Jones', 2), ('Adams', 1), ('Blake', 3))\n",
        "\n",
        "cur.executemany('''\n",
        "    INSERT INTO SUPPLIER VALUES(NULL, ?, ?);\n",
        "''', data)\n",
        "<sqlite3.Cursor at 0x1101bfa40>\n",
        "len(data), len(data[0])\n",
        "(3, 2)\n",
        "cur.execute('SELECT * FROM SUPPLIER')\n",
        "cur.fetchall()\n",
        "[(1, 'Smith', 1), (2, 'Jones', 2), (3, 'Adams', 1), (4, 'Blake', 3)]\n",
        "cur.execute('''\n",
        "    CREATE TABLE PART(\n",
        "        PNO INTEGER PRIMARY KEY AUTOINCREMENT,\n",
        "        PNAME TEXT\n",
        "    )\n",
        "''')\n",
        "<sqlite3.Cursor at 0x1101bfa40>\n",
        "cur.execute('''\n",
        "    INSERT INTO PART\n",
        "    VALUES(:pno, :pname)\n",
        "''', {'pno':1, 'pname':'Screw', 'asdf':'asdf'})\n",
        "<sqlite3.Cursor at 0x1101bfa40>\n",
        "cur.execute('SELECT * FROM PART')\n",
        "cur.fetchall()\n",
        "[(1, 'Screw')]\n",
        "data = [{'pname':'Nut'},\n",
        "        {'pname':'Bolt'},\n",
        "        {'pname':'Cam'}]\n",
        "\n",
        "cur.executemany('''\n",
        "    INSERT INTO PART\n",
        "    VALUES(NULL, :pname)\n",
        "''', data)\n",
        "<sqlite3.Cursor at 0x1101bfa40>\n",
        "cur.execute('''\n",
        "    CREATE TABLE SELLS(\n",
        "        SNO INTEGER NOT NULL,\n",
        "        PNO INTEGER NOT NULL,\n",
        "        PRICE INTEGER NOT NULL\n",
        "    );\n",
        "''')\n",
        "<sqlite3.Cursor at 0x1101bfa40>\n",
        "key1 = 'Screw'\n",
        "key2 = 'Smith'\n",
        "sno = 0\n",
        "pno = 0\n",
        "\n",
        "cur.execute('''\n",
        "    SELECT PNO FROM PART\n",
        "    WHERE PNAME=?\n",
        "''', [key1])\n",
        "rst = cur.fetchone()\n",
        "if rst:\n",
        "    pno = rst[0]\n",
        "\n",
        "cur.execute('''\n",
        "    SELECT SNO FROM SUPPLIER\n",
        "    WHERE SNAME=?\n",
        "''', [key2])\n",
        "\n",
        "rst = cur.fetchone()\n",
        "if rst:\n",
        "    sno = rst[0]\n",
        "\n",
        "pno, sno\n",
        "(1, 1)\n",
        "data = ['Smith', 'Screw', 10]\n",
        "\n",
        "cur.execute('''\n",
        "    INSERT INTO SELLS\n",
        "    VALUES(\n",
        "        (SELECT SNO FROM SUPPLIER WHERE SNAME=? LIMIT 0, 1),\n",
        "        (SELECT PNO FROM PART WHERE PNAME=? LIMIT 0, 1),\n",
        "    ?\n",
        "    )\n",
        "''', data)\n",
        "<sqlite3.Cursor at 0x1101bfa40>\n",
        "cur.execute('SELECT * FROM SELLS')\n",
        "cur.fetchall()\n",
        "[(1, 1, 10)]\n",
        "CITY = dict()\n",
        "\n",
        "cur.execute('SELECT * FROM CITY')\n",
        "for row in cur.fetchall():\n",
        "    CITY[row[1]] = row[0]\n",
        "CITY['London']\n",
        "1\n",
        "data = [(1,2,8),\n",
        "        (2,4,38),\n",
        "        (3,1,11),\n",
        "        (3,3,6),\n",
        "        (4,2,7),\n",
        "        (4,3,4),\n",
        "        (4,4,45)]\n",
        "cur.executemany('INSERT INTO SELLS VALUES(?,?,?)', data)\n",
        "<sqlite3.Cursor at 0x1101bfa40>\n",
        "# 73\n",
        "# cur.execute('''\n",
        "#     SELECT C.CNAME, COUNT(*)\n",
        "#     FROM SUPPLIER AS S, CITY AS C\n",
        "#     WHERE S.CNO = C.CNO\n",
        "#     GROUP BY C.CNAME\n",
        "#     ORDER BY C.CNAME, S.SNAME ASC\n",
        "# ''')\n",
        "# cur.execute('''\n",
        "#     SELECT PNAME, COUNT(*), SUM(PRICE)\n",
        "#     FROM SELLS, SUPPLIER, PART\n",
        "#     WHERE SELLS.SNO = SUPPLIER.SNO AND SELLS.PNO = PART.PNO\n",
        "#     GROUP BY PART.PNO\n",
        "#     ORDER BY PRICE DESC\n",
        "# ''')\n",
        "cur.execute('''\n",
        "    SELECT SNAME, COUNT(*), SUM(PRICE)\n",
        "    FROM SELLS, SUPPLIER, PART\n",
        "    WHERE SELLS.SNO = SUPPLIER.SNO AND SELLS.PNO = PART.PNO\n",
        "    GROUP BY SUPPLIER.SNO\n",
        "    ORDER BY PRICE DESC\n",
        "''')\n",
        "cur.fetchall()\n",
        "[('Jones', 1, 38), ('Adams', 2, 17), ('Smith', 2, 18), ('Blake', 3, 56)]\n",
        "con.close()\n",
        "con = sqlite3.connect('0905.db')\n",
        "cur = con.cursor()\n",
        "cur.execute('''\n",
        "    CREATE TABLE PART(\n",
        "        PNO INTEGER PRIMARY KEY,\n",
        "        PNAME TEXT\n",
        "    )\n",
        "''')\n",
        "<sqlite3.Cursor at 0x1141bf9d0>\n",
        "cur.executescript('''\n",
        "    INSERT INTO PART VALUES(1,'Screw');\n",
        "    INSERT INTO PART(PNAME) VALUES('Bolt');\n",
        "    INSERT INTO PART VALUES(NULL, 'Nut');\n",
        "    INSERT INTO PART VALUES(4, 'Cam');\n",
        "''')\n",
        "<sqlite3.Cursor at 0x1141bf9d0>\n",
        "cur.execute('INSERT INTO PART VALUES(NULL, \"Part1\")')\n",
        "<sqlite3.Cursor at 0x1141765e0>\n",
        "cur.execute('SELECT * FROM PART')\n",
        "cur.fetchall()\n",
        "[(1, 'Screw'), (2, 'Bolt'), (3, 'Nut'), (4, 'Cam'), (5, 'Part1')]\n",
        "con.close()\n",
        "con = sqlite3.connect('0905.db')\n",
        "cur = con.cursor()\n",
        "cur.execute('SELECT * FROM PART')\n",
        "cur.fetchall()\n",
        "[(1, 'Screw'), (2, 'Bolt'), (3, 'Nut'), (4, 'Cam'), (5, 'Part1')]\n",
        "con.commit()\n",
        "cur.execute('''\n",
        "    UPDATE PART\n",
        "    SET PNAME='아무거나'\n",
        "''')\n",
        "<sqlite3.Cursor at 0x1141d4ab0>\n",
        "con.total_changes\n",
        "10\n",
        "cur.execute('SELECT * FROM PART')\n",
        "cur.fetchall()\n",
        "[(1, '아무거나'), (2, '아무거나'), (3, '아무거나'), (4, '아무거나'), (5, '아무거나')]\n",
        "cur.execute('INSERT INTO PART VALUES(NULL, \"ㅇㅇㅇㅇ\")')\n",
        "<sqlite3.Cursor at 0x1141d4ab0>\n",
        "cur.lastrowid # 맹신금지\n",
        "6\n",
        "cur.execute('SELECT * FROM PART')\n",
        "cur.fetchall()[-1]\n",
        "(6, 'ㅇㅇㅇㅇ')\n",
        "con.close()\n",
        "con = sqlite3.connect('0905.db')\n",
        "cur = con.cursor()\n",
        "cur.executescript('''\n",
        "    DROP TABLE IF EXISTS TEMP;\n",
        "    CREATE TABLE TEMP(\n",
        "        PK INTEGER NOT NULL UNIQUE,\n",
        "        NAME TEXT NOT NULL\n",
        "    );\n",
        "\n",
        "    INSERT INTO TEMP VALUES(1,'테스트1');\n",
        "    INSERT INTO TEMP VALUES(2,'테스트2');\n",
        "    INSERT INTO TEMP VALUES(3,'테스트3');\n",
        "''')\n",
        "<sqlite3.Cursor at 0x1141e9b20>\n",
        "for line in con.iterdump():\n",
        "    print(line)\n",
        "BEGIN TRANSACTION;\n",
        "CREATE TABLE PART(\n",
        "        PNO INTEGER PRIMARY KEY,\n",
        "        PNAME TEXT\n",
        "    );\n",
        "INSERT INTO \"PART\" VALUES(1,'Screw');\n",
        "INSERT INTO \"PART\" VALUES(2,'Bolt');\n",
        "INSERT INTO \"PART\" VALUES(3,'Nut');\n",
        "INSERT INTO \"PART\" VALUES(4,'Cam');\n",
        "INSERT INTO \"PART\" VALUES(5,'Part1');\n",
        "CREATE TABLE TEMP(\n",
        "        PK INTEGER NOT NULL UNIQUE,\n",
        "        NAME TEXT NOT NULL\n",
        "    );\n",
        "INSERT INTO \"TEMP\" VALUES(1,'테스트1');\n",
        "INSERT INTO \"TEMP\" VALUES(2,'테스트2');\n",
        "INSERT INTO \"TEMP\" VALUES(3,'테스트3');\n",
        "COMMIT;\n",
        "con.close()\n",
        "con = sqlite3.connect('sns.db')\n",
        "cur = con.cursor()\n",
        "cur.executescript('''\n",
        "    CREATE TABLE POST(\n",
        "        PK INTEGER PRIMARY KEY,\n",
        "        CONTENT TEXT\n",
        "    );\n",
        "    CREATE TABLE HASHTAG(\n",
        "        PK INTEGER PRIMARY KEY,\n",
        "        COUNT INTEGER DEFAULT 0,\n",
        "        NAME TEXT\n",
        "    );\n",
        "    CREATE TABLE POSTTAG(\n",
        "        PPK INTEGER NOT NULL,\n",
        "        HPK INTEGER NOT NULL\n",
        "    );\n",
        "''')\n",
        "<sqlite3.Cursor at 0x1141fe420>\n",
        "# HASHTAG Pool <= TAG가 있는지 검사하는\n",
        "# 있으면, PK, 없으면 새롭게 INSERT\n",
        "data = {'tag':'ORM'}\n",
        "\n",
        "cur.execute('''\n",
        "    SELECT COUNT(*) FROM HASHTAG\n",
        "    WHERE NAME=:tag\n",
        "''', data)\n",
        "\n",
        "if cur.fetchone()[0] == 0:\n",
        "    cur.execute('''\n",
        "        INSERT INTO HASHTAG(NAME) VALUES(:tag)\n",
        "    ''', data)\n",
        "    con.commit()\n",
        "\n",
        "cur.execute('''\n",
        "    SELECT PK\n",
        "    FROM HASHTAG\n",
        "    WHERE NAME=:tag\n",
        "    LIMIT 0,1\n",
        "''', data)\n",
        "\n",
        "PK = cur.fetchone()[0]\n",
        "PK\n",
        "2\n",
        "# Posting 하는 부분\n",
        "data1 = {'content':'본문1', 'tags':['Python']}\n",
        "\n",
        "cur.execute('INSERT INTO POST(CONTENT) VALUES(:content)', data1)\n",
        "con.commit()\n",
        "PPK = cur.lastrowid\n",
        "\n",
        "for tag in data1['tags']:\n",
        "    data2 = {'tag':tag}\n",
        "\n",
        "    cur.execute('''\n",
        "        SELECT COUNT(*) FROM HASHTAG\n",
        "        WHERE NAME=:tag\n",
        "    ''', data2)\n",
        "\n",
        "    if cur.fetchone()[0] == 0:\n",
        "        cur.execute('''\n",
        "            INSERT INTO HASHTAG(NAME) VALUES(:tag)\n",
        "        ''', data2)\n",
        "        con.commit()\n",
        "\n",
        "    cur.execute('''\n",
        "        SELECT PK\n",
        "        FROM HASHTAG\n",
        "        WHERE NAME=:tag\n",
        "        LIMIT 0,1\n",
        "    ''', data2)\n",
        "\n",
        "    TPK = cur.fetchone()[0]\n",
        "\n",
        "    cur.execute('INSERT INTO POSTTAG VALUES(?,?)', [PPK, TPK])\n",
        "    cur.execute('''\n",
        "        UPDATE HASHTAG SET COUNT = COUNT + 1\n",
        "        WHERE PK=?\n",
        "    ''', [TPK])\n",
        "    con.commit()\n",
        "# 숙제: 수정 서비스 로직\n",
        "!pip install SQLAlchemy\n",
        "from sqlalchemy import create_engine, MetaData\n",
        "from sqlalchemy.schema import Table, Column, ForeignKey\n",
        "from sqlalchemy.types import Integer, Text\n",
        "engine = create_engine('sqlite:///:memory:', echo=True)\n",
        "meta = MetaData()\n",
        "user = Table('USER', meta,\n",
        "             Column('PK', Integer, primary_key=True),\n",
        "             Column('NAME', Text, nullable=True))\n",
        "meta.create_all(engine)\n",
        "2023-09-05 12:24:38,749 INFO sqlalchemy.engine.Engine BEGIN (implicit)\n",
        "2023-09-05 12:24:38,752 INFO sqlalchemy.engine.Engine PRAGMA main.table_info(\"USER\")\n",
        "2023-09-05 12:24:38,754 INFO sqlalchemy.engine.Engine [raw sql] ()\n",
        "2023-09-05 12:24:38,755 INFO sqlalchemy.engine.Engine PRAGMA temp.table_info(\"USER\")\n",
        "2023-09-05 12:24:38,756 INFO sqlalchemy.engine.Engine [raw sql] ()\n",
        "2023-09-05 12:24:38,758 INFO sqlalchemy.engine.Engine\n",
        "CREATE TABLE \"USER\" (\n",
        "\t\"PK\" INTEGER NOT NULL,\n",
        "\t\"NAME\" TEXT,\n",
        "\tPRIMARY KEY (\"PK\")\n",
        ")\n",
        "\n",
        "\n",
        "2023-09-05 12:24:38,760 INFO sqlalchemy.engine.Engine [no key 0.00154s] ()\n",
        "2023-09-05 12:24:38,761 INFO sqlalchemy.engine.Engine COMMIT\n",
        "meta.clear()\n",
        "meta.tables\n",
        "FacadeDict({})\n",
        "meta.create_all(engine)\n",
        "2023-09-05 12:25:58,313 INFO sqlalchemy.engine.Engine BEGIN (implicit)\n",
        "2023-09-05 12:25:58,319 INFO sqlalchemy.engine.Engine COMMIT\n",
        "meta.reflect(engine)\n",
        "2023-09-05 12:27:01,111 INFO sqlalchemy.engine.Engine SELECT name FROM sqlite_master WHERE type='table' ORDER BY name\n",
        "2023-09-05 12:27:01,114 INFO sqlalchemy.engine.Engine [raw sql] ()\n",
        "2023-09-05 12:27:01,116 INFO sqlalchemy.engine.Engine PRAGMA main.table_xinfo(\"USER\")\n",
        "2023-09-05 12:27:01,116 INFO sqlalchemy.engine.Engine [raw sql] ()\n",
        "2023-09-05 12:27:01,118 INFO sqlalchemy.engine.Engine SELECT sql FROM  (SELECT * FROM sqlite_master UNION ALL   SELECT * FROM sqlite_temp_master) WHERE name = ? AND type = 'table'\n",
        "2023-09-05 12:27:01,119 INFO sqlalchemy.engine.Engine [raw sql] ('USER',)\n",
        "2023-09-05 12:27:01,121 INFO sqlalchemy.engine.Engine PRAGMA main.foreign_key_list(\"USER\")\n",
        "2023-09-05 12:27:01,121 INFO sqlalchemy.engine.Engine [raw sql] ()\n",
        "2023-09-05 12:27:01,123 INFO sqlalchemy.engine.Engine PRAGMA temp.foreign_key_list(\"USER\")\n",
        "2023-09-05 12:27:01,124 INFO sqlalchemy.engine.Engine [raw sql] ()\n",
        "2023-09-05 12:27:01,125 INFO sqlalchemy.engine.Engine SELECT sql FROM  (SELECT * FROM sqlite_master UNION ALL   SELECT * FROM sqlite_temp_master) WHERE name = ? AND type = 'table'\n",
        "2023-09-05 12:27:01,125 INFO sqlalchemy.engine.Engine [raw sql] ('USER',)\n",
        "2023-09-05 12:27:01,127 INFO sqlalchemy.engine.Engine PRAGMA main.index_list(\"USER\")\n",
        "2023-09-05 12:27:01,128 INFO sqlalchemy.engine.Engine [raw sql] ()\n",
        "2023-09-05 12:27:01,129 INFO sqlalchemy.engine.Engine PRAGMA temp.index_list(\"USER\")\n",
        "2023-09-05 12:27:01,130 INFO sqlalchemy.engine.Engine [raw sql] ()\n",
        "2023-09-05 12:27:01,131 INFO sqlalchemy.engine.Engine PRAGMA main.index_list(\"USER\")\n",
        "2023-09-05 12:27:01,131 INFO sqlalchemy.engine.Engine [raw sql] ()\n",
        "2023-09-05 12:27:01,132 INFO sqlalchemy.engine.Engine PRAGMA temp.index_list(\"USER\")\n",
        "2023-09-05 12:27:01,133 INFO sqlalchemy.engine.Engine [raw sql] ()\n",
        "2023-09-05 12:27:01,133 INFO sqlalchemy.engine.Engine SELECT sql FROM  (SELECT * FROM sqlite_master UNION ALL   SELECT * FROM sqlite_temp_master) WHERE name = ? AND type = 'table'\n",
        "2023-09-05 12:27:01,133 INFO sqlalchemy.engine.Engine [raw sql] ('USER',)\n",
        "meta.tables\n",
        "FacadeDict({'USER': Table('USER', MetaData(), Column('PK', INTEGER(), table=<USER>, primary_key=True, nullable=False), Column('NAME', TEXT(), table=<USER>), schema=None)})\n",
        "user1 = user.insert().values(NAME='아무개')\n",
        "print(user1.compile(), user1.compile().params)\n",
        "INSERT INTO \"USER\" (\"NAME\") VALUES (:NAME) {'NAME': '아무개'}\n"
      ],
      "metadata": {
        "id": "ZVPF-LNESze-"
      },
      "execution_count": null,
      "outputs": []
    }
  ]
}