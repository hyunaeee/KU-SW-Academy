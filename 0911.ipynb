{
  "nbformat": 4,
  "nbformat_minor": 0,
  "metadata": {
    "colab": {
      "provenance": [],
      "authorship_tag": "ABX9TyMVYXUn+NeptWCudBK91S7G",
      "include_colab_link": true
    },
    "kernelspec": {
      "name": "python3",
      "display_name": "Python 3"
    },
    "language_info": {
      "name": "python"
    }
  },
  "cells": [
    {
      "cell_type": "markdown",
      "metadata": {
        "id": "view-in-github",
        "colab_type": "text"
      },
      "source": [
        "<a href=\"https://colab.research.google.com/github/hyunaeee/KU-SW-Academy/blob/main/0911.ipynb\" target=\"_parent\"><img src=\"https://colab.research.google.com/assets/colab-badge.svg\" alt=\"Open In Colab\"/></a>"
      ]
    },
    {
      "cell_type": "code",
      "execution_count": null,
      "metadata": {
        "id": "TnGYg8DDhBOI"
      },
      "outputs": [],
      "source": [
        "크롤링-사이트이용약관조심,개인정보,저작물조심, 너무 많은 요청 안된다 다 지키면 할 것 없슴 / 회사가서 하면됨ㅎ\n",
        "최소 robots.txt확인하자\n",
        "http-html하이퍼텍스트, tcp/ip-req/resp신뢰성\n",
        "신뢰성 확인 위해status code/reason 받아서- 200정상,400내에러,500재에러\n",
        "http메소드 종류-get(r), post(c),put(u),delete(d)  바디랑 url로 구성\n",
        "파라미터는 키벨류1&키벨류2로 이워짐  /  리스폰스 헤더에 content type이 나오는데 body의 콘텐츠 종류다(mime)\n",
        "구글 403 네이버 200 다음 200(근체 ) ;\n",
        "html entities에서는 태그<>랑 헷갈릴 수 있으니 &gt(greater than)씀 &인코딩\n",
        "유니코드 uft-8같은건 %인코딩"
      ]
    },
    {
      "cell_type": "code",
      "source": [
        "from urllib.request import urlopen, Request\n",
        "\n",
        "url='https://search.daum.net/search?w=tot&DA=YZR&t__nil_searchbox=btn&sug=&sugo=&sq=&o=&q=%EC%B9%B4%EB%A6%AC%EB%82%98'\n",
        "resp=urlopen(url)"
      ],
      "metadata": {
        "id": "mtUBaqWRjxEJ"
      },
      "execution_count": null,
      "outputs": []
    },
    {
      "cell_type": "code",
      "source": [
        "resp.read()"
      ],
      "metadata": {
        "colab": {
          "base_uri": "https://localhost:8080/"
        },
        "id": "jJf7d_73jxIp",
        "outputId": "bf79ecab-4bf8-44a3-f497-6fd291d77cdb"
      },
      "execution_count": null,
      "outputs": [
        {
          "output_type": "execute_result",
          "data": {
            "text/plain": [
              "b'<script type=\"text/javascript\"> location.replace(\"https://captcha.search.daum.net/show?redirect=https%3A%2F%2Fsearch.daum.net%2Fsearch%3Fw%3Dtot%26DA%3DYZR%26t__nil_searchbox%3Dbtn%26sug%3D%26sugo%3D%26sq%3D%26o%3D%26q%3D%25EC%25B9%25B4%25EB%25A6%25AC%25EB%2582%2598\"); </script>'"
            ]
          },
          "metadata": {},
          "execution_count": 5
        }
      ]
    },
    {
      "cell_type": "code",
      "source": [
        "from urllib.error import HTTPError\n",
        "#함수는 200(resp),400(raise,break),500(retry)\n",
        "def download(url, method='GET', retries=3):\n",
        "  resp=None\n",
        "\n",
        "  try:\n",
        "    Request(url,headers={''},method='GET')\n",
        "    resp=urlopen(url)\n",
        "  except HTTPError as e:\n",
        "    if 500<=e.code:\n",
        "      if retries >0:\n",
        "        sleep(3)\n",
        "        resp=download(url,retries-1)\n",
        "      else:\n",
        "        print('retrier time over')\n",
        "    else:\n",
        "      print('Request', req.headers())\n",
        "      print('Response',e)\n",
        "\n",
        "  return None if resp == None else resp.read()\n"
      ],
      "metadata": {
        "id": "1qehx1lYjxLd"
      },
      "execution_count": null,
      "outputs": []
    },
    {
      "cell_type": "code",
      "source": [
        "download(url)"
      ],
      "metadata": {
        "colab": {
          "base_uri": "https://localhost:8080/"
        },
        "id": "KzlEIOBzjxOQ",
        "outputId": "8410f217-89eb-4633-f73f-3c914cfdaf27"
      },
      "execution_count": null,
      "outputs": [
        {
          "output_type": "execute_result",
          "data": {
            "text/plain": [
              "b'<script type=\"text/javascript\"> location.replace(\"https://captcha.search.daum.net/show?redirect=https%3A%2F%2Fsearch.daum.net%2Fsearch%3Fw%3Dtot%26DA%3DYZR%26t__nil_searchbox%3Dbtn%26sug%3D%26sugo%3D%26sq%3D%26o%3D%26q%3D%25EC%25B9%25B4%25EB%25A6%25AC%25EB%2582%2598\"); </script>'"
            ]
          },
          "metadata": {},
          "execution_count": 7
        }
      ]
    },
    {
      "cell_type": "code",
      "source": [
        "ua='test'"
      ],
      "metadata": {
        "id": "YCylTUKcjxYX"
      },
      "execution_count": null,
      "outputs": []
    },
    {
      "cell_type": "code",
      "source": [
        "req=Request(url='', header={'user-agent':ua},method='GET')"
      ],
      "metadata": {
        "id": "UxXtURm1jwTe"
      },
      "execution_count": null,
      "outputs": []
    },
    {
      "cell_type": "code",
      "source": [
        "req.headers, req.full_url,req.method,req.data"
      ],
      "metadata": {
        "id": "KxkYf1GmquKG"
      },
      "execution_count": null,
      "outputs": []
    },
    {
      "cell_type": "code",
      "source": [
        "resp=urlopen(req)"
      ],
      "metadata": {
        "id": "5qqeNlu1quMb"
      },
      "execution_count": null,
      "outputs": []
    },
    {
      "cell_type": "code",
      "source": [
        "resp.getheaders()"
      ],
      "metadata": {
        "id": "wwe30te2quO1"
      },
      "execution_count": null,
      "outputs": []
    },
    {
      "cell_type": "code",
      "source": [
        "resp.read().decode('utf8', errors='ignore')"
      ],
      "metadata": {
        "id": "wX_h3SSnreE1"
      },
      "execution_count": null,
      "outputs": []
    },
    {
      "cell_type": "code",
      "source": [
        "from html import unescape\n",
        "unescape('')"
      ],
      "metadata": {
        "id": "xjh7pzFSreHG"
      },
      "execution_count": null,
      "outputs": []
    },
    {
      "cell_type": "code",
      "source": [
        "from urllib.parse import quote,quote_plus"
      ],
      "metadata": {
        "id": "tPI6Ox9ureKg"
      },
      "execution_count": null,
      "outputs": []
    },
    {
      "cell_type": "code",
      "source": [
        "quote('a'), quote('가 나'), quote_plus('a b'), quote_plus('가 나')"
      ],
      "metadata": {
        "id": "w0Ra0mxZreNf"
      },
      "execution_count": null,
      "outputs": []
    },
    {
      "cell_type": "code",
      "source": [
        "unquote(quote('가')),unquote(quote_plus('가 나'))"
      ],
      "metadata": {
        "id": "S--tkKZQvO7A"
      },
      "execution_count": null,
      "outputs": []
    },
    {
      "cell_type": "code",
      "source": [
        "from urllib.parse import urlparse, urlunparse\n",
        "from urllib.parse import parse_qs,urlencode"
      ],
      "metadata": {
        "id": "JVDv_3CQvPAU"
      },
      "execution_count": null,
      "outputs": []
    },
    {
      "cell_type": "code",
      "source": [
        "데이터수집 -> Crawler(Crawling+Scraping) => IR\n",
        "0. 최소 robots.txt 확인하자!\n",
        "1. 사이트이용약관\n",
        "2. 개인정보 X\n",
        "3. 저작물 무단 X\n",
        "4. 너무 많은 요청 X  => 개인, 연구, 배포X, 공익O\n",
        "============================================\n",
        "HTTP(S) -> HypterText(HTML), TCP/IP -> 신뢰성(Req/Resp 쌍)\n",
        "Status Code/reason -> 200, 400(내에러), 500(쟤에러)\n",
        "Method -> GET(R), POST(C), PUT(U), DELETE(D)\n",
        "                  ---------------(Body:params)\n",
        "          URL(Params)\n",
        "Params: ?key=value&key2=value\n",
        "언제나 Bytes\n",
        "Response Header -> Content-type(Body 콘텐츠의 종류;MIME)\n",
        "                                text/html -> RE, DOM, CSSOM\n",
        "Google, Naver, Daum; robots.txt 존재, 서비스 정책\n",
        "403     200    200 -> Captcha\n",
        "-> User-agent 값(코드, Header Handling)\n",
        "-> X-..., Cookies, Referer, Tokens... 나중에\n",
        "(구현) HTTPlib -> urlib -> requests(*)\n",
        "\n",
        "Non-ASCII => (한글) 조합형(Trigem), 완성형(EUC-KR), 확장-완성형(CP949),\n",
        "             유니코드(UTF-8, ..)\n",
        "             => %인코딩, AB, %AB, %plus인코딩\n",
        "HTML Entities => &인코딩, <>, &gt;, &#_문자_;\n",
        "from urllib.request import urlopen, Request\n",
        "\n",
        "url = 'https://search.daum.net/search?\n",
        "# w=tot&\n",
        "# DA=YZR&\n",
        "# t__nil_searchbox=btn&\n",
        "# sug=&\n",
        "# sugo=&\n",
        "# sq=&\n",
        "# o=&\n",
        "# q=%EC%B9%B4%EB%A6%AC%EB%82%98' => 서비스\n",
        "resp = urlopen(url)\n",
        "resp.read()\n",
        "from urllib.error import HTTPError\n",
        "from time import sleep\n",
        "\n",
        "# 함수는 200(resp), 400(raise, break), 500(retry)\n",
        "def download(url, retries=3):\n",
        "    resp = None\n",
        "    # robots.txt => 잘 안돌아감\n",
        "    try:\n",
        "        resp = urlopen(url)\n",
        "    except HTTPError as e:\n",
        "        if 500 <= e.code:\n",
        "            if retries > 0:\n",
        "                sleep(3)\n",
        "                resp = download(url, retries-1)\n",
        "            else:\n",
        "                print('재방문 횟수 초과')\n",
        "        else:\n",
        "            print(e)\n",
        "\n",
        "    return None if resp == None else resp.read()\n",
        "download(url)\n",
        "b'<script type=\"text/javascript\"> location.replace(\"https://captcha.search.daum.net/show?redirect=https%3A%2F%2Fsearch.daum.net%2Fsearch%3Fw%3Dtot%26DA%3DYZR%26t__nil_searchbox%3Dbtn%26sug%3D%26sugo%3D%26sq%3D%26o%3D%26q%3D%25EC%25B9%25B4%25EB%25A6%25AC%25EB%2582%2598\"); </script>'\n",
        "# ua = 'test'\n",
        "ua = 'Mozilla/5.0 (Macintosh; Intel Mac OS X 10_15_7) AppleWebKit/537.36 (KHTML, like Gecko) Chrome/115.0.0.0 Safari/537.36'\n",
        "req = Request(url=url,\n",
        "              headers={'user-agent':ua},\n",
        "              method='GET')\n",
        "req.headers, req.full_url, req.method, req.data\n",
        "({'User-agent': 'test'},\n",
        " 'https://search.daum.net/search?w=tot&DA=YZR&t__nil_searchbox=btn&sug=&sugo=&sq=&o=&q=%EC%B9%B4%EB%A6%AC%EB%82%98',\n",
        " 'GET',\n",
        " None)\n",
        "resp = urlopen(req)\n",
        "resp.getheaders()\n",
        "[('Date', 'Mon, 11 Sep 2023 00:43:46 GMT'),\n",
        " ('Content-Type', 'text/html; charset=utf-8'),\n",
        " ('Transfer-Encoding', 'chunked'),\n",
        " ('Connection', 'close'),\n",
        " ('Vary', 'Accept-Encoding'),\n",
        " ('Set-Cookie',\n",
        "  'uvkey=71bebf8b-d10f-4577-b077-e762979c9913; Path=/; Domain=search.daum.net; Expires=Thu, 08 Sep 2033 00:43:45 GMT; Max-Age=315360000'),\n",
        " ('Set-Cookie',\n",
        "  '_ksk=71bebf8b-d10f-4577-b077-e762979c9913; Path=/; Domain=search.daum.net; Expires=Tue, 12 Sep 2023 00:43:45 GMT; Max-Age=86400'),\n",
        " ('Set-Cookie',\n",
        "  'DTQUERY=%EC%B9%B4%EB%A6%AC%EB%82%98; Path=/; Domain=search.daum.net; Expires=Tue, 10 Sep 2024 00:43:45 GMT; Max-Age=31536000'),\n",
        " ('Set-Cookie',\n",
        "  'ODT=IIMZ_NNSZ_TWAZ_1DVZ_DICZ_LB2Z_GG2Z; Path=/; Domain=search.daum.net; Expires=Tue, 10 Sep 2024 00:43:46 GMT; Max-Age=31536000'),\n",
        " ('Set-Cookie',\n",
        "  'DDT=IVRZ_VOIZ_SNYZ_MS2Z; Path=/; Domain=search.daum.net; Expires=Tue, 10 Sep 2024 00:43:46 GMT; Max-Age=31536000'),\n",
        " ('Server', 'kws'),\n",
        " ('X-Frame-Options', 'SAMEORIGIN')]\n",
        "resp.read().decode('utf8', errors='ignore')\n",
        "from html import unescape\n",
        "unescape('&#52852;&#47532;&#45208;')\n",
        "'카리나'\n",
        "# user-agent만 반영(내 브라우저 값으로..)\n",
        "def download(url, method='GET', retries=3):\n",
        "    resp = None\n",
        "    # robots.txt => 잘 안돌아감\n",
        "    try:\n",
        "        req = Request(url, headers={'user-agent':'Mozilla/5.0 (Macintosh; Intel Mac OS X 10_15_7) AppleWebKit/537.36 (KHTML, like Gecko) Chrome/115.0.0.0 Safari/537.36'},\n",
        "                      method=method)\n",
        "        resp = urlopen(req)\n",
        "    except HTTPError as e:\n",
        "        if 500 <= e.code:\n",
        "            if retries > 0:\n",
        "                sleep(3)\n",
        "                resp = download(url, method=method,\n",
        "                                retries=retries-1)\n",
        "            else:\n",
        "                print('재방문 횟수 초과')\n",
        "        else:\n",
        "            print('Request', req.headers)\n",
        "            print('Response', e)\n",
        "\n",
        "    return None if resp == None else resp.read()\n",
        "resp = download('https://www.google.com/search?q=%EC%B9%B4%EB%A6%AC%EB%82%98&newwindow=1&sca_esv=563600755&ei=v4_6ZO-0Lczg-AbP6YbICw&start=20&sa=N&ved=2ahUKEwivkL6fhJqBAxVMMN4KHc-0AbkQ8tMDegQIBBAE&biw=1920&bih=938&dpr=1')\n",
        "type(resp), resp.decode()\n",
        "# Unicode => Bytes(ASCII)\n",
        "# TCP/IP - HTTP - 모든 통신은 항상 Bytes로 주고 받음\n",
        "# Encoding/Decoding: %인코딩\n",
        "resp = download('https://www.google.com/search?q=%EA%B0%80')\n",
        "from urllib.parse import quote, quote_plus\n",
        "quote('a b'), quote('가 나'), quote_plus('a b'), quote_plus('가 나')\n",
        "('a%20b', '%EA%B0%80%20%EB%82%98', 'a+b', '%EA%B0%80+%EB%82%98')\n",
        "from urllib.parse import unquote, unquote_plus\n",
        "unquote(quote('가')), unquote(quote_plus('가 나'))\n",
        "('가', '가+나')\n",
        "quote('a + b'), quote_plus(('a + b'))\n",
        "('a%20%2B%20b', 'a+%2B+b')\n",
        "params = []\n",
        "\n",
        "for row in url.split('?')[-1].split('&'):\n",
        "    if row.split('=')[0] == 'q':\n",
        "        print(row)\n",
        "        params.append('='.join(['q', quote('카 리 나')]))\n",
        "    else:\n",
        "        params.append(row)\n",
        "url.split('?')[0]+'?'+'&'.join(params)\n",
        "q=%EC%B9%B4%EB%A6%AC%EB%82%98\n",
        "'https://search.daum.net/search?w=tot&DA=YZR&t__nil_searchbox=btn&sug=&sugo=&sq=&o=&q=%EC%B9%B4%20%EB%A6%AC%20%EB%82%98'\n",
        "from urllib.parse import urlparse, urlunparse\n",
        "from urllib.parse import parse_qs, urlencode\n",
        "req.headers\n",
        "{'User-agent': 'test'}\n",
        "data = 'https://www.google.com/search?q=%EC%B9%B4%EB%A6%AC%EB%82%98&newwindow=1&sca_esv=563600755&biw=816&bih=938&ei=OmD-ZMedDY_3wAOHyazADw&ved=0ahUKEwjHosG-p6GBAxWPO3AKHYckC_g4FBDh1QMIEA&uact=5&oq=%EC%B9%B4+%EB%A6%AC+%EB%82%98&gs_lp=Egxnd3Mtd2l6LXNlcnAiC-y5tCDrpqwg64KYMggQABgIGB4YDzICECYyAhAmMgIQJkiZDFD9BViPCHABeAGQAQCYAYIBoAGBAqoBAzAuMrgBA8gBAPgBAcICChAAGEcY1gQYsAPiAwQYACBBiAYBkAYK&sclient=gws-wiz-serp'\n",
        "urls = urlparse(data)\n",
        "urls.scheme, urls.netloc, urls.path, urls.query\n",
        "('https',\n",
        " 'www.google.com',\n",
        " '/search',\n",
        " 'q=%EC%B9%B4%EB%A6%AC%EB%82%98&newwindow=1&sca_esv=563600755&biw=816&bih=938&ei=OmD-ZMedDY_3wAOHyazADw&ved=0ahUKEwjHosG-p6GBAxWPO3AKHYckC_g4FBDh1QMIEA&uact=5&oq=%EC%B9%B4+%EB%A6%AC+%EB%82%98&gs_lp=Egxnd3Mtd2l6LXNlcnAiC-y5tCDrpqwg64KYMggQABgIGB4YDzICECYyAhAmMgIQJkiZDFD9BViPCHABeAGQAQCYAYIBoAGBAqoBAzAuMrgBA8gBAPgBAcICChAAGEcY1gQYsAPiAwQYACBBiAYBkAYK&sclient=gws-wiz-serp')\n",
        "urlunparse(('http', 'www.google.com', '/path', '', 'key=value', ''))\n",
        "'http://www.google.com/path?key=value'\n",
        "from urllib.parse import parse_qsl\n",
        "pqs = parse_qs(urls.query)\n",
        "pqs['q'] = '카 리 나'\n",
        "pqs\n",
        "{'q': '카 리 나',\n",
        " 'newwindow': ['1'],\n",
        " 'sca_esv': ['563600755'],\n",
        " 'biw': ['816'],\n",
        " 'bih': ['938'],\n",
        " 'ei': ['OmD-ZMedDY_3wAOHyazADw'],\n",
        " 'ved': ['0ahUKEwjHosG-p6GBAxWPO3AKHYckC_g4FBDh1QMIEA'],\n",
        " 'uact': ['5'],\n",
        " 'oq': ['카 리 나'],\n",
        " 'gs_lp': ['Egxnd3Mtd2l6LXNlcnAiC-y5tCDrpqwg64KYMggQABgIGB4YDzICECYyAhAmMgIQJkiZDFD9BViPCHABeAGQAQCYAYIBoAGBAqoBAzAuMrgBA8gBAPgBAcICChAAGEcY1gQYsAPiAwQYACBBiAYBkAYK'],\n",
        " 'sclient': ['gws-wiz-serp']}\n",
        "urlencode([('q','카리나')])\n",
        "urlencode({'q':'카리나'})\n",
        "'q=%EC%B9%B4%EB%A6%AC%EB%82%98'\n",
        "params = {\n",
        "    'q':''\n",
        "}\n",
        "params['q'] = '뉴진스'\n",
        "\n",
        "urlunparse((*urlparse(data)[:4], urlencode(params), ''))\n",
        "'https://www.google.com/search?q=%EB%89%B4%EC%A7%84%EC%8A%A4'\n",
        "resp = download(urlunparse((*urlparse(data)[:4], urlencode(params), '')))\n",
        "type(resp)\n",
        "bytes\n",
        "# 네이버 -> QueryString 쪼개서 params에 넣고,\n",
        "# 검색키워드를 하고싶은키워드로 바꿔서\n",
        "# URL; urlencode -> urlunparse\n",
        "# 검색 결과 가져오기 (HTML-HEAD-TITLE)\n",
        "# 통합검색, => 이미지검색으로 바꿔보기\n",
        "# 1번째페이지 => 2번째페이지 바꿔보기\n",
        "\n",
        "url = 'https://search.naver.com/search.naver'\n",
        "params = {\n",
        "    'where':'nexearch',\n",
        "    'page':'2',\n",
        "    'query':'뉴진스'\n",
        "}\n",
        "\n",
        "resp = download(url+'?'+urlencode(params))\n",
        "# 쿼리스트링 보는법\n",
        "# 쿼리스트링의 개별 파라미터가 어떤 역할?\n",
        "# 위의 모든 과정을 Daum 바꿔보기\n",
        "# QS 확인 -> Parsing\n",
        "# URL parse/unparse\n",
        "# 1. 키워드 바꿔서 통합검색\n",
        "# 2. 이미지검색\n",
        "# 3. 2번째페이지\n",
        "url = 'https://search.daum.net/search'\n",
        "params = {\n",
        "    'w':'fusion',\n",
        "    'p':'2',\n",
        "    'q':'카리나'\n",
        "}\n",
        "# parse_qs(urlparse(url).query)\n",
        "nurl = urlunparse((*urlparse(url)[:4], urlencode(params), ''))\n",
        "resp = download(nurl) # => user-agent\n",
        "Request -> URL(I); Non-ASCII\n",
        "from urllib.parse import urljoin\n",
        "urljoin('https://www.google.com/search?q=어쩌고',\n",
        "        'https://search.naver.com')\n",
        "'https://search.naver.com'\n",
        "# 절대주소: URL(I)\n",
        "# 상대주소: path\n",
        "# 서버/path\n",
        "requests\n",
        "1. request 함수가 분기, urlopen=>method별 함수로 쪼개짐\n",
        "   => Non-ASCII, headers, body-data\n",
        "   => urlencode, arg\n",
        "2. response 객체 생김, raw-bytes => 쓰기 편하게? read(), encoding\n",
        "3. urllib.parse.*\n",
        "4. user-agent => Request 객체\n",
        "from requests import request, get, post\n",
        "resp = request(method='GET', url='https://www.google.com/search',\n",
        "               params='q=%EC%B9%B4%EB%A6%AC%EB%82%98',\n",
        "               headers={'user-agent':'Mozilla/5.0 (Macintosh; Intel Mac OS X 10_15_7) AppleWebKit/537.36 (KHTML, like Gecko) Chrome/115.0.0.0 Safari/537.36'})\n",
        "type(urlencode([('q', '카리나')])), urlencode([('q', '카리나')]).encode()\n",
        "(str, b'q=%EC%B9%B4%EB%A6%AC%EB%82%98')\n",
        "resp.status_code, resp.reason, resp.headers\n",
        "(200,\n",
        " 'OK',\n",
        " {'Content-Type': 'text/html; charset=UTF-8', 'Date': 'Mon, 11 Sep 2023 02:30:29 GMT', 'Expires': '-1', 'Cache-Control': 'private, max-age=0', 'Strict-Transport-Security': 'max-age=31536000', 'Content-Security-Policy': \"object-src 'none';base-uri 'self';script-src 'nonce-XdoUblzyIlHynlgoaRiiRw' 'strict-dynamic' 'report-sample' 'unsafe-eval' 'unsafe-inline' https: http:;report-uri https://csp.withgoogle.com/csp/gws/cdt1\", 'Cross-Origin-Opener-Policy': 'same-origin-allow-popups; report-to=\"gws\"', 'Report-To': '{\"group\":\"gws\",\"max_age\":2592000,\"endpoints\":[{\"url\":\"https://csp.withgoogle.com/csp/report-to/gws/cdt1\"}]}', 'Accept-CH': 'Sec-CH-UA-Platform, Sec-CH-UA-Platform-Version, Sec-CH-UA-Full-Version, Sec-CH-UA-Arch, Sec-CH-UA-Model, Sec-CH-UA-Bitness, Sec-CH-UA-Full-Version-List, Sec-CH-UA-WoW64', 'Permissions-Policy': 'unload=()', 'Origin-Trial': 'Ap+qNlnLzJDKSmEHjzM5ilaa908GuehlLqGb6ezME5lkhelj20qVzfv06zPmQ3LodoeujZuphAolrnhnPA8w4AIAAABfeyJvcmlnaW4iOiJodHRwczovL3d3dy5nb29nbGUuY29tOjQ0MyIsImZlYXR1cmUiOiJQZXJtaXNzaW9uc1BvbGljeVVubG9hZCIsImV4cGlyeSI6MTY4NTY2Mzk5OX0=, AvudrjMZqL7335p1KLV2lHo1kxdMeIN0dUI15d0CPz9dovVLCcXk8OAqjho1DX4s6NbHbA/AGobuGvcZv0drGgQAAAB9eyJvcmlnaW4iOiJodHRwczovL3d3dy5nb29nbGUuY29tOjQ0MyIsImZlYXR1cmUiOiJCYWNrRm9yd2FyZENhY2hlTm90UmVzdG9yZWRSZWFzb25zIiwiZXhwaXJ5IjoxNjkxNTM5MTk5LCJpc1N1YmRvbWFpbiI6dHJ1ZX0=', 'P3P': 'CP=\"This is not a P3P policy! See g.co/p3phelp for more info.\"', 'Content-Encoding': 'br', 'Server': 'gws', 'X-XSS-Protection': '0', 'X-Frame-Options': 'SAMEORIGIN', 'Transfer-Encoding': 'chunked', 'Set-Cookie': '1P_JAR=2023-09-11-02; expires=Wed, 11-Oct-2023 02:30:29 GMT; path=/; domain=.google.com; Secure; SameSite=none, AEC=Ad49MVHJtLPuSwz5YAPWmpI1tB_IMKbJ8wXTrpFbLqCgIlIEQBH4G53J8pg; expires=Sat, 09-Mar-2024 02:30:29 GMT; path=/; domain=.google.com; Secure; HttpOnly; SameSite=lax, NID=511=jntgKR0RolpENvBKcAefDtr1FYx73EtlSduowlKHDVvZqkgRp9O84ZA2QaXtTOItYoxdlph3MtMtXKvGrNru-H2e0IryHyrANjQJtPX8jduavSkfJ7w1qeyj5uey6ZO1X6W1yDb9rhkPQYUd7HcveAYvz_buHb1R4qPPjRWXVT4; expires=Tue, 12-Mar-2024 02:30:29 GMT; path=/; domain=.google.com; Secure; HttpOnly; SameSite=none', 'Alt-Svc': 'h3=\":443\"; ma=2592000,h3-29=\":443\"; ma=2592000'})\n",
        "resp.request.url, resp.request.headers\n",
        "('https://www.google.com/search?q=%EC%B9%B4%EB%A6%AC%EB%82%98',\n",
        " {'user-agent': 'Mozilla/5.0 (Macintosh; Intel Mac OS X 10_15_7) AppleWebKit/537.36 (KHTML, like Gecko) Chrome/115.0.0.0 Safari/537.36', 'Accept-Encoding': 'gzip, deflate, br', 'Accept': '*/*', 'Connection': 'keep-alive'})\n",
        "resp.content # == read()\n",
        "resp.encoding = 'utf8'\n",
        "resp.text\n",
        "resp.status_code\n",
        "200\n",
        "resp = get('https://www.httpbin.org/status/403')\n",
        "resp.status_code\n",
        "403\n",
        "from requests.exceptions import HTTPError\n",
        "\n",
        "try:\n",
        "    resp.raise_for_status()\n",
        "except HTTPError as e:\n",
        "    print(e.response.status_code)\n",
        "403\n",
        "\n",
        "# user-agent만 반영(내 브라우저 값으로..)\n",
        "def download(url, method='GET', retries=3):\n",
        "    resp = None\n",
        "\n",
        "    try:\n",
        "        resp = request(method, url,\n",
        "                       headers={'user-agent':'Mozilla/5.0 (Macintosh; Intel Mac OS X 10_15_7) AppleWebKit/537.36 (KHTML, like Gecko) Chrome/115.0.0.0 Safari/537.36'})\n",
        "        resp.raise_for_status()\n",
        "        # 아니면,\n",
        "        # if resp.status_code != 200:\n",
        "    except HTTPError as e:\n",
        "        if 500 <= e.response.status_code:\n",
        "            if retries > 0:\n",
        "                sleep(3)\n",
        "                resp = download(url, method=method,\n",
        "                                retries=retries-1)\n",
        "            else:\n",
        "                print('재방문 횟수 초과')\n",
        "        else:\n",
        "            print('Request', resp.request.headers)\n",
        "            print('Response', e.response.headers)\n",
        "\n",
        "    return resp\n",
        "download('https://www.httpbin.org/status/403').status_code\n",
        "Request {'user-agent': 'Mozilla/5.0 (Macintosh; Intel Mac OS X 10_15_7) AppleWebKit/537.36 (KHTML, like Gecko) Chrome/115.0.0.0 Safari/537.36', 'Accept-Encoding': 'gzip, deflate, br', 'Accept': '*/*', 'Connection': 'keep-alive'}\n",
        "Response {'Date': 'Mon, 11 Sep 2023 02:43:13 GMT', 'Content-Type': 'text/html; charset=utf-8', 'Content-Length': '0', 'Connection': 'keep-alive', 'Server': 'gunicorn/19.9.0', 'Access-Control-Allow-Origin': '*', 'Access-Control-Allow-Credentials': 'true'}\n",
        "403\n",
        "from requests.compat import *\n",
        "resp = download('https://www.httpbin.org/get?key=value')\n",
        "resp.status_code, resp.headers, print(resp.text)\n",
        "# XML(eXtensible Markup Language)\n",
        "# JSON(JavasScript Object Notation)\n",
        "{\n",
        "  \"args\": {\n",
        "    \"key\": \"value\"\n",
        "  },\n",
        "  \"headers\": {\n",
        "    \"Accept\": \"*/*\",\n",
        "    \"Accept-Encoding\": \"gzip, deflate, br\",\n",
        "    \"Host\": \"www.httpbin.org\",\n",
        "    \"User-Agent\": \"Mozilla/5.0 (Macintosh; Intel Mac OS X 10_15_7) AppleWebKit/537.36 (KHTML, like Gecko) Chrome/115.0.0.0 Safari/537.36\",\n",
        "    \"X-Amzn-Trace-Id\": \"Root=1-64fe7f01-7f80be9a3df6d6cf2bac5163\"\n",
        "  },\n",
        "  \"origin\": \"163.152.3.166\",\n",
        "  \"url\": \"https://www.httpbin.org/get?key=value\"\n",
        "}\n",
        "\n",
        "(200,\n",
        " {'Date': 'Mon, 11 Sep 2023 02:44:17 GMT', 'Content-Type': 'application/json', 'Content-Length': '446', 'Connection': 'keep-alive', 'Server': 'gunicorn/19.9.0', 'Access-Control-Allow-Origin': '*', 'Access-Control-Allow-Credentials': 'true'},\n",
        " None)\n",
        "import json\n",
        "json.load(text, fp => dict)\n",
        "json.dump(dict => text, fp)\n",
        "temp = json.loads('{\"key\":\"value\"}')\n",
        "type(temp)\n",
        "dict\n",
        "json.dumps(temp)\n",
        "'{\"key\": \"value\"}'\n",
        "json.loads(resp.text)['args']\n",
        "{'key': 'value'}\n",
        "resp.json()['args']\n",
        "{'key': 'value'}\n",
        "resp.request.body\n",
        "# user-agent만 반영(내 브라우저 값으로..)\n",
        "def download(url, params={}, method='GET', retries=3):\n",
        "    resp = None\n",
        "\n",
        "    try:\n",
        "        resp = request(method, url,\n",
        "                       params=params if method=='GET' else {},\n",
        "                       data=params if method=='POST' else {},\n",
        "                       headers={'user-agent':'Mozilla/5.0 (Macintosh; Intel Mac OS X 10_15_7) AppleWebKit/537.36 (KHTML, like Gecko) Chrome/115.0.0.0 Safari/537.36'})\n",
        "        resp.raise_for_status()\n",
        "        # 아니면,\n",
        "        # if resp.status_code != 200:\n",
        "    except HTTPError as e:\n",
        "        if 500 <= e.response.status_code:\n",
        "            if retries > 0:\n",
        "                sleep(3)\n",
        "                resp = download(url, params=params,\n",
        "                                method=method,\n",
        "                                retries=retries-1)\n",
        "            else:\n",
        "                print('재방문 횟수 초과')\n",
        "        else:\n",
        "            print('Request', resp.request.headers)\n",
        "            print('Response', e.response.headers)\n",
        "\n",
        "    return resp\n",
        "resp = download('https://www.httpbin.org/post', {'key':'value'},\n",
        "                'POST')\n",
        "resp.request.url, resp.request.body\n",
        "('https://www.httpbin.org/post', 'key=value')\n",
        "resp.json()\n",
        "{'args': {},\n",
        " 'data': '',\n",
        " 'files': {},\n",
        " 'form': {'key': 'value'},\n",
        " 'headers': {'Accept': '*/*',\n",
        "  'Accept-Encoding': 'gzip, deflate, br',\n",
        "  'Content-Length': '9',\n",
        "  'Content-Type': 'application/x-www-form-urlencoded',\n",
        "  'Host': 'www.httpbin.org',\n",
        "  'User-Agent': 'Mozilla/5.0 (Macintosh; Intel Mac OS X 10_15_7) AppleWebKit/537.36 (KHTML, like Gecko) Chrome/115.0.0.0 Safari/537.36',\n",
        "  'X-Amzn-Trace-Id': 'Root=1-64fe8198-5637378c173f42b0640cd289'},\n",
        " 'json': None,\n",
        " 'origin': '163.152.3.166',\n",
        " 'url': 'https://www.httpbin.org/post'}\n",
        "resp = download('https://www.korea.ac.kr/search/search.jsp',\n",
        "                {'query':'고려대'}, 'POST')\n",
        "resp.status_code, resp.headers\n",
        "(200,\n",
        " {'Date': 'Mon, 11 Sep 2023 03:02:14 GMT', 'Set-Cookie': 'MAIN_JSESSIONID=ZkSCk2DW8n2pmK7ZQS222MYQ2XtFfnGW9vjYn10xfknn7P8F5yrB!-902462071; path=/; HttpOnly', 'X-Powered-By': 'Servlet/2.5 JSP/2.1', 'Content-Security-Policy': '', 'X-Content-Type-Options': 'nosniff', 'X-XSS-Protection': '1;mode=block', 'Keep-Alive': 'timeout=15, max=100', 'Connection': 'Keep-Alive', 'Transfer-Encoding': 'chunked', 'Content-Type': 'text/html; charset=utf-8'})\n",
        "resp.request.url, resp.request.body\n",
        "('https://www.korea.ac.kr/search/search.jsp',\n",
        " 'query=%EA%B3%A0%EB%A0%A4%EB%8C%80')\n",
        "resp = download('https://www.google.com/search',\n",
        "                {'q':'카리나'})\n",
        "resp.request.url, resp.status_code\n",
        "('https://www.google.com/search?q=%EC%B9%B4%EB%A6%AC%EB%82%98', 200)\n",
        "resp.encoding, resp.headers\n",
        "('UTF-8',\n",
        " {'Content-Type': 'text/html; charset=UTF-8', 'Date': 'Mon, 11 Sep 2023 03:04:43 GMT', 'Expires': '-1', 'Cache-Control': 'private, max-age=0', 'Strict-Transport-Security': 'max-age=31536000', 'Content-Security-Policy': \"object-src 'none';base-uri 'self';script-src 'nonce-g7VJDDabzTkq67EfxFxrxw' 'strict-dynamic' 'report-sample' 'unsafe-eval' 'unsafe-inline' https: http:;report-uri https://csp.withgoogle.com/csp/gws/cdt1\", 'Cross-Origin-Opener-Policy': 'same-origin-allow-popups; report-to=\"gws\"', 'Report-To': '{\"group\":\"gws\",\"max_age\":2592000,\"endpoints\":[{\"url\":\"https://csp.withgoogle.com/csp/report-to/gws/cdt1\"}]}', 'Accept-CH': 'Sec-CH-UA-Platform, Sec-CH-UA-Platform-Version, Sec-CH-UA-Full-Version, Sec-CH-UA-Arch, Sec-CH-UA-Model, Sec-CH-UA-Bitness, Sec-CH-UA-Full-Version-List, Sec-CH-UA-WoW64', 'Permissions-Policy': 'unload=()', 'Origin-Trial': 'Ap+qNlnLzJDKSmEHjzM5ilaa908GuehlLqGb6ezME5lkhelj20qVzfv06zPmQ3LodoeujZuphAolrnhnPA8w4AIAAABfeyJvcmlnaW4iOiJodHRwczovL3d3dy5nb29nbGUuY29tOjQ0MyIsImZlYXR1cmUiOiJQZXJtaXNzaW9uc1BvbGljeVVubG9hZCIsImV4cGlyeSI6MTY4NTY2Mzk5OX0=, AvudrjMZqL7335p1KLV2lHo1kxdMeIN0dUI15d0CPz9dovVLCcXk8OAqjho1DX4s6NbHbA/AGobuGvcZv0drGgQAAAB9eyJvcmlnaW4iOiJodHRwczovL3d3dy5nb29nbGUuY29tOjQ0MyIsImZlYXR1cmUiOiJCYWNrRm9yd2FyZENhY2hlTm90UmVzdG9yZWRSZWFzb25zIiwiZXhwaXJ5IjoxNjkxNTM5MTk5LCJpc1N1YmRvbWFpbiI6dHJ1ZX0=', 'P3P': 'CP=\"This is not a P3P policy! See g.co/p3phelp for more info.\"', 'Content-Encoding': 'br', 'Server': 'gws', 'X-XSS-Protection': '0', 'X-Frame-Options': 'SAMEORIGIN', 'Transfer-Encoding': 'chunked', 'Set-Cookie': '1P_JAR=2023-09-11-03; expires=Wed, 11-Oct-2023 03:04:43 GMT; path=/; domain=.google.com; Secure; SameSite=none, AEC=Ad49MVFnXPVYi2QcYPbTcazgMp2H_Oj0CkoPwFs61uXFcSJ2t-LR4cyUFg; expires=Sat, 09-Mar-2024 03:04:43 GMT; path=/; domain=.google.com; Secure; HttpOnly; SameSite=lax, NID=511=u44T5KV2laIRiTiMxHU6Bg6AJ_f60ae0ZO0-GF6_xctqGRR8mqcukEhTO-wQVGGSzDT8eWAu1CpUB-ecHOKdyQC9CO0AlYvKZVwt-fCUl2NSxGkiuomPgfuus2j8a83iUPkoF87P_rdHuMSa3eYftsSLYGLBEnkcG1GRwAnxW_k; expires=Tue, 12-Mar-2024 03:04:43 GMT; path=/; domain=.google.com; Secure; HttpOnly; SameSite=none', 'Alt-Svc': 'h3=\":443\"; ma=2592000,h3-29=\":443\"; ma=2592000'})\n",
        "HTTP 요청(request.body 사용유무? bytes),\n",
        "     확인(response.status_code, headers, ...)\n",
        "본문을 해석(Parsing)\n",
        "RE, DOM, CSSOM"
      ],
      "metadata": {
        "id": "tRWem7xbvPC9"
      },
      "execution_count": null,
      "outputs": []
    }
  ]
}