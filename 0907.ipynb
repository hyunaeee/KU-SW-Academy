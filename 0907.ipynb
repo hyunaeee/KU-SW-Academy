{
  "nbformat": 4,
  "nbformat_minor": 0,
  "metadata": {
    "colab": {
      "provenance": [],
      "authorship_tag": "ABX9TyMjz7PQDMb48gi3quJWJRfW",
      "include_colab_link": true
    },
    "kernelspec": {
      "name": "python3",
      "display_name": "Python 3"
    },
    "language_info": {
      "name": "python"
    }
  },
  "cells": [
    {
      "cell_type": "markdown",
      "metadata": {
        "id": "view-in-github",
        "colab_type": "text"
      },
      "source": [
        "<a href=\"https://colab.research.google.com/github/hyunaeee/KU-SW-Academy/blob/main/0907.ipynb\" target=\"_parent\"><img src=\"https://colab.research.google.com/assets/colab-badge.svg\" alt=\"Open In Colab\"/></a>"
      ]
    },
    {
      "cell_type": "code",
      "source": [
        "ORM\n",
        "ORM Core\n",
        "Scheme(Table, Column, Foriegn...), Types(Integer, Text, ...), ...\n",
        "Engine - Connection Pool, Dialect - DB API - (R)DBMS - Database\n",
        "   ^\n",
        "\n",
        "Only SQLite\n",
        "ORM               ORM Core             RDBMS\n",
        "ORM Object      Table Object           TABLE\n",
        "                                     ---------\n",
        "in-memory       ------------\n",
        "독립                  ?                   독립\n",
        "             Table.Foreign_key      TABLE--PK/FK--TABLE\n",
        "Object--relationship--Object\n",
        "Object1.childnodes[] ==> Object2\n"
      ],
      "metadata": {
        "id": "1g1XMBbLoZm5"
      },
      "execution_count": null,
      "outputs": []
    },
    {
      "cell_type": "markdown",
      "source": [],
      "metadata": {
        "id": "TzklnHcdob_6"
      }
    },
    {
      "cell_type": "code",
      "source": [
        "from sqlalchemy.orm import declarative_base"
      ],
      "metadata": {
        "id": "KjX0ZfpmoXV6"
      },
      "execution_count": null,
      "outputs": []
    },
    {
      "cell_type": "code",
      "source": [
        "base = declarative_base()"
      ],
      "metadata": {
        "id": "hF9H-Hv_oism"
      },
      "execution_count": null,
      "outputs": []
    },
    {
      "cell_type": "code",
      "source": [
        "base.metadata.tables # <- Core Table 객체-RDMBS"
      ],
      "metadata": {
        "colab": {
          "base_uri": "https://localhost:8080/"
        },
        "id": "amBEGa-sonpj",
        "outputId": "5288944a-7dac-44a7-d079-945c7bfd4b73"
      },
      "execution_count": null,
      "outputs": [
        {
          "output_type": "execute_result",
          "data": {
            "text/plain": [
              "FacadeDict({})"
            ]
          },
          "metadata": {},
          "execution_count": 4
        }
      ]
    },
    {
      "cell_type": "code",
      "source": [
        "base.registry # <- Object 등록"
      ],
      "metadata": {
        "colab": {
          "base_uri": "https://localhost:8080/"
        },
        "id": "WKSBhroEorvo",
        "outputId": "0d74f894-edf4-4eb1-bd95-b1e0949f148e"
      },
      "execution_count": null,
      "outputs": [
        {
          "output_type": "execute_result",
          "data": {
            "text/plain": [
              "<sqlalchemy.orm.decl_api.registry at 0x7a8aa658cc10>"
            ]
          },
          "metadata": {},
          "execution_count": 5
        }
      ]
    },
    {
      "cell_type": "code",
      "source": [
        "from sqlalchemy.schema import Table, Column, ForeignKey\n",
        "from sqlalchemy.types import Integer, Text"
      ],
      "metadata": {
        "id": "tdsX2_Zmov31"
      },
      "execution_count": null,
      "outputs": []
    },
    {
      "cell_type": "code",
      "source": [
        "base.metadata.tables"
      ],
      "metadata": {
        "colab": {
          "base_uri": "https://localhost:8080/"
        },
        "id": "DcdaAJEZov8W",
        "outputId": "641b20c8-76f0-40d1-b561-2b27c802bc4f"
      },
      "execution_count": null,
      "outputs": [
        {
          "output_type": "execute_result",
          "data": {
            "text/plain": [
              "FacadeDict({})"
            ]
          },
          "metadata": {},
          "execution_count": 7
        }
      ]
    },
    {
      "cell_type": "code",
      "source": [
        "base.metadata.remove(base.metadata.tables['USER'])\n",
        "base.registry.dispose()"
      ],
      "metadata": {
        "id": "lSuT0M_zozAk"
      },
      "execution_count": null,
      "outputs": []
    },
    {
      "cell_type": "code",
      "source": [
        "class User(base):\n",
        "    __tablename__ = 'USER'\n",
        "    # obj->테이블이름   => DBMS 사용될 Table이름\n",
        "    pk = Column('PK', Integer, primary_key=True)\n",
        "    # obj->pk        => DBMS 해당 Table 사용되는 Column\n",
        "    name = Column('NAME', Text)\n",
        "\n",
        "    def __repr__(self):\n",
        "        return f'PK:{self.pk}, NAME:{self.name}'"
      ],
      "metadata": {
        "id": "mqQiuN7zo1Hl"
      },
      "execution_count": null,
      "outputs": []
    },
    {
      "cell_type": "code",
      "source": [
        "user1 = User(name='아무거나')"
      ],
      "metadata": {
        "colab": {
          "base_uri": "https://localhost:8080/",
          "height": 305
        },
        "id": "x4aFt6-io8FY",
        "outputId": "629d2eab-9dc5-4933-90cc-652f5dcae065"
      },
      "execution_count": null,
      "outputs": [
        {
          "output_type": "error",
          "ename": "TypeError",
          "evalue": "ignored",
          "traceback": [
            "\u001b[0;31m---------------------------------------------------------------------------\u001b[0m",
            "\u001b[0;31mTypeError\u001b[0m                                 Traceback (most recent call last)",
            "\u001b[0;32m<ipython-input-11-d5b2054626d9>\u001b[0m in \u001b[0;36m<cell line: 1>\u001b[0;34m()\u001b[0m\n\u001b[0;32m----> 1\u001b[0;31m \u001b[0muser1\u001b[0m \u001b[0;34m=\u001b[0m \u001b[0mUser\u001b[0m\u001b[0;34m(\u001b[0m\u001b[0mname\u001b[0m\u001b[0;34m=\u001b[0m\u001b[0;34m'아무거나'\u001b[0m\u001b[0;34m)\u001b[0m\u001b[0;34m\u001b[0m\u001b[0;34m\u001b[0m\u001b[0m\n\u001b[0m",
            "\u001b[0;32m/usr/local/lib/python3.10/dist-packages/sqlalchemy/orm/decl_base.py\u001b[0m in \u001b[0;36m_declarative_constructor\u001b[0;34m(self, **kwargs)\u001b[0m\n\u001b[1;32m   2132\u001b[0m     \u001b[0;32mfor\u001b[0m \u001b[0mk\u001b[0m \u001b[0;32min\u001b[0m \u001b[0mkwargs\u001b[0m\u001b[0;34m:\u001b[0m\u001b[0;34m\u001b[0m\u001b[0;34m\u001b[0m\u001b[0m\n\u001b[1;32m   2133\u001b[0m         \u001b[0;32mif\u001b[0m \u001b[0;32mnot\u001b[0m \u001b[0mhasattr\u001b[0m\u001b[0;34m(\u001b[0m\u001b[0mcls_\u001b[0m\u001b[0;34m,\u001b[0m \u001b[0mk\u001b[0m\u001b[0;34m)\u001b[0m\u001b[0;34m:\u001b[0m\u001b[0;34m\u001b[0m\u001b[0;34m\u001b[0m\u001b[0m\n\u001b[0;32m-> 2134\u001b[0;31m             raise TypeError(\n\u001b[0m\u001b[1;32m   2135\u001b[0m                 \u001b[0;34m\"%r is an invalid keyword argument for %s\"\u001b[0m \u001b[0;34m%\u001b[0m \u001b[0;34m(\u001b[0m\u001b[0mk\u001b[0m\u001b[0;34m,\u001b[0m \u001b[0mcls_\u001b[0m\u001b[0;34m.\u001b[0m\u001b[0m__name__\u001b[0m\u001b[0;34m)\u001b[0m\u001b[0;34m\u001b[0m\u001b[0;34m\u001b[0m\u001b[0m\n\u001b[1;32m   2136\u001b[0m             )\n",
            "\u001b[0;31mTypeError\u001b[0m: 'name' is an invalid keyword argument for User"
          ]
        }
      ]
    },
    {
      "cell_type": "code",
      "source": [
        "type(user1), type(base.metadata.tables['USER'])"
      ],
      "metadata": {
        "id": "0TSSe1zVpAsW"
      },
      "execution_count": null,
      "outputs": []
    },
    {
      "cell_type": "code",
      "source": [
        "from sqlalchemy import create_engine"
      ],
      "metadata": {
        "id": "5cHa1oVipBQv"
      },
      "execution_count": null,
      "outputs": []
    },
    {
      "cell_type": "code",
      "source": [
        "engine = create_engine('sqlite:///:memory:', echo=True)"
      ],
      "metadata": {
        "id": "VJDzNpJSpDGZ"
      },
      "execution_count": null,
      "outputs": []
    },
    {
      "cell_type": "code",
      "source": [
        "base.metadata.create_all(engine)"
      ],
      "metadata": {
        "id": "GBZRZlKopE3l"
      },
      "execution_count": null,
      "outputs": []
    },
    {
      "cell_type": "code",
      "source": [
        "# session => engine.connect().execute() => DBMS"
      ],
      "metadata": {
        "id": "D6hpR8uRpGZe"
      },
      "execution_count": null,
      "outputs": []
    },
    {
      "cell_type": "code",
      "source": [
        "from sqlalchemy.orm import sessionmaker"
      ],
      "metadata": {
        "id": "6u-a6SL_pIBs"
      },
      "execution_count": null,
      "outputs": []
    },
    {
      "cell_type": "code",
      "source": [
        "Session = sessionmaker(engine)\n",
        "sess = Session()\n",
        "# in-memory objects -> RDBMS"
      ],
      "metadata": {
        "id": "Qg1cZ2sPpKNf"
      },
      "execution_count": null,
      "outputs": []
    },
    {
      "cell_type": "code",
      "source": [
        "sess.add(user1)"
      ],
      "metadata": {
        "id": "Uo3h0LfApMuc"
      },
      "execution_count": null,
      "outputs": []
    },
    {
      "cell_type": "code",
      "source": [
        "user1"
      ],
      "metadata": {
        "id": "oRtXyw8jpOYd"
      },
      "execution_count": null,
      "outputs": []
    },
    {
      "cell_type": "code",
      "source": [
        "sess.commit()\n",
        "# session 관찰하고 있는 objects을 반영 => DBMS Commit()"
      ],
      "metadata": {
        "id": "UnCm0xWSpPzL"
      },
      "execution_count": null,
      "outputs": []
    },
    {
      "cell_type": "code",
      "source": [
        "user1"
      ],
      "metadata": {
        "id": "KzsFzzbWpRah"
      },
      "execution_count": null,
      "outputs": []
    },
    {
      "cell_type": "code",
      "source": [
        "sess.is_modified(user1)"
      ],
      "metadata": {
        "id": "AeVTENuOpS7b"
      },
      "execution_count": null,
      "outputs": []
    },
    {
      "cell_type": "code",
      "source": [
        "sess.dirty"
      ],
      "metadata": {
        "id": "tU3PKXRtpUN9"
      },
      "execution_count": null,
      "outputs": []
    },
    {
      "cell_type": "code",
      "source": [
        "user1.name = '다른값'"
      ],
      "metadata": {
        "id": "RAt7SNlDpVl4"
      },
      "execution_count": null,
      "outputs": []
    },
    {
      "cell_type": "code",
      "source": [
        "user1"
      ],
      "metadata": {
        "id": "_OUaw_kepW8O"
      },
      "execution_count": null,
      "outputs": []
    },
    {
      "cell_type": "code",
      "source": [
        "sess.dirty"
      ],
      "metadata": {
        "id": "295aEdo-pY5v"
      },
      "execution_count": null,
      "outputs": []
    },
    {
      "cell_type": "code",
      "source": [
        "sess.is_modified(user1)"
      ],
      "metadata": {
        "id": "mWbz4-8dpajN"
      },
      "execution_count": null,
      "outputs": []
    },
    {
      "cell_type": "code",
      "source": [
        "sess.commit()"
      ],
      "metadata": {
        "id": "aWo5zi7fpdD5"
      },
      "execution_count": null,
      "outputs": []
    },
    {
      "cell_type": "code",
      "source": [
        "user1"
      ],
      "metadata": {
        "id": "lpOWO-KOpegJ"
      },
      "execution_count": null,
      "outputs": []
    },
    {
      "cell_type": "code",
      "source": [
        "sess.add_all([User(name='2'), User(name='3')])"
      ],
      "metadata": {
        "id": "8DvlWyHXpfvN"
      },
      "execution_count": null,
      "outputs": []
    },
    {
      "cell_type": "code",
      "source": [
        "sess.commit()"
      ],
      "metadata": {
        "id": "dl8IjtrNphhr"
      },
      "execution_count": null,
      "outputs": []
    },
    {
      "cell_type": "code",
      "source": [
        "userList = sess.query(User).all()"
      ],
      "metadata": {
        "id": "6xWvBEUvpjEw"
      },
      "execution_count": null,
      "outputs": []
    },
    {
      "cell_type": "code",
      "source": [
        "len(userList)"
      ],
      "metadata": {
        "id": "Sa395OcXpknv"
      },
      "execution_count": null,
      "outputs": []
    },
    {
      "cell_type": "code",
      "source": [
        "user1 is userList[0]"
      ],
      "metadata": {
        "id": "ZJmO0nDzpmBF"
      },
      "execution_count": null,
      "outputs": []
    },
    {
      "cell_type": "code",
      "source": [
        "userList[1].name = '다른값2'"
      ],
      "metadata": {
        "id": "ZQPmmypUpnP9"
      },
      "execution_count": null,
      "outputs": []
    },
    {
      "cell_type": "code",
      "source": [
        "sess.dirty"
      ],
      "metadata": {
        "id": "e5-Loof9poZ4"
      },
      "execution_count": null,
      "outputs": []
    },
    {
      "cell_type": "code",
      "source": [
        "sess.commit()"
      ],
      "metadata": {
        "id": "KaQ6aZi8ppyR"
      },
      "execution_count": null,
      "outputs": []
    },
    {
      "cell_type": "code",
      "source": [
        "userList[1]"
      ],
      "metadata": {
        "id": "FtTDrwzOprRO"
      },
      "execution_count": null,
      "outputs": []
    },
    {
      "cell_type": "code",
      "source": [
        "[user for user in userList if user.name == '3'][0] is userList[2]"
      ],
      "metadata": {
        "id": "5c1I1B0IpsfX"
      },
      "execution_count": null,
      "outputs": []
    },
    {
      "cell_type": "code",
      "source": [
        "sess.query(User).where(User.name == '3').one() is userList[2]"
      ],
      "metadata": {
        "id": "Ca2ZTSCCpt2u"
      },
      "execution_count": null,
      "outputs": []
    },
    {
      "cell_type": "code",
      "source": [
        "class Address(base):\n",
        "    __tablename__ = 'ADDRESS'\n",
        "\n",
        "    pk = Column('PK', Integer, primary_key=True)\n",
        "    name = Column('NAME', Text)\n",
        "    fk = Column('FK', None, ForeignKey('USER.PK'))\n",
        "\n",
        "    def __repr__(self):\n",
        "        return f'PK:{self.pk}, NAME:{self.name}, FK:{self.fk}'"
      ],
      "metadata": {
        "id": "NjDP5v9_pvB4"
      },
      "execution_count": null,
      "outputs": []
    },
    {
      "cell_type": "code",
      "source": [
        "base.metadata.create_all(engine)"
      ],
      "metadata": {
        "id": "nQyRlXNmpxGj"
      },
      "execution_count": null,
      "outputs": []
    },
    {
      "cell_type": "code",
      "source": [
        "sess.add(Address(name='주소1', fk=user1.pk))"
      ],
      "metadata": {
        "id": "YvNrbCn9pyZK"
      },
      "execution_count": null,
      "outputs": []
    },
    {
      "cell_type": "code",
      "source": [
        "sess.commit()"
      ],
      "metadata": {
        "id": "FZQJmhldpz8f"
      },
      "execution_count": null,
      "outputs": []
    },
    {
      "cell_type": "code",
      "source": [
        "address1 = sess.query(Address).one()"
      ],
      "metadata": {
        "id": "Kv0PWTDpp2A1"
      },
      "execution_count": null,
      "outputs": []
    },
    {
      "cell_type": "code",
      "source": [
        "for user in userList:\n",
        "    if user.pk == address1.fk:\n",
        "        print(user, address1)"
      ],
      "metadata": {
        "id": "upRJbF3Gp3Px"
      },
      "execution_count": null,
      "outputs": []
    },
    {
      "cell_type": "code",
      "source": [
        "engine.dispose()\n",
        "base.metadata.clear()\n",
        "base.registry.dispose()"
      ],
      "metadata": {
        "id": "azKK0-Dap4vQ"
      },
      "execution_count": null,
      "outputs": []
    },
    {
      "cell_type": "code",
      "source": [
        "CITY, SUPPLIER, PART, SELLS => ORM 만들어보세요(10시10분까지)"
      ],
      "metadata": {
        "id": "je7U4cwGp6nU"
      },
      "execution_count": null,
      "outputs": []
    },
    {
      "cell_type": "code",
      "source": [
        "engine = create_engine('sqlite:///:memory:', echo=True)\n",
        "Session = sessionmaker(engine)\n",
        "sess = Session()"
      ],
      "metadata": {
        "id": "6f6SvDcep9VK"
      },
      "execution_count": null,
      "outputs": []
    },
    {
      "cell_type": "code",
      "source": [
        "class City(base):\n",
        "    __tablename__ = 'CITY'\n",
        "    pk = Column('PK', Integer, primary_key=True)\n",
        "    name = Column('NAME', Text)\n",
        "\n",
        "class Supplier(base):\n",
        "    __tablename__ = 'SUPPLIER'\n",
        "    pk = Column('PK', Integer, primary_key=True)\n",
        "    name = Column('NAME', Text)\n",
        "    fk = Column('FK', Integer, ForeignKey('CITY.PK'))\n",
        "\n",
        "class Part(base):\n",
        "    __tablename__ = 'PART'\n",
        "    pk = Column('PK', Integer, primary_key=True)\n",
        "    name = Column('NAME', Text)\n",
        "\n",
        "class Sells(base):\n",
        "    __tablename__ = 'SELLS'\n",
        "    pk = Column('PK', Integer, primary_key=True)\n",
        "    fk1 = Column('FK1', Integer, ForeignKey('SUPPLIER.PK'))\n",
        "    fk2 = Column('FK2', Integer, ForeignKey('PART.PK'))"
      ],
      "metadata": {
        "id": "Zu2paCK4p-i5"
      },
      "execution_count": null,
      "outputs": []
    },
    {
      "cell_type": "code",
      "source": [
        "base.metadata.create_all(engine)"
      ],
      "metadata": {
        "id": "bGOI6widqACe"
      },
      "execution_count": null,
      "outputs": []
    },
    {
      "cell_type": "code",
      "source": [
        "sess.add_all([City(name='도시1'), City(name='도시2'),\n",
        "              Part(name='부품1'), Part(name='부품2'),\n",
        "              Supplier(name='지점1'), Supplier(name='지점2'),])"
      ],
      "metadata": {
        "id": "EO-Bd_gZqBWu"
      },
      "execution_count": null,
      "outputs": []
    },
    {
      "cell_type": "code",
      "source": [
        "sess.commit()"
      ],
      "metadata": {
        "id": "x1tEMNQYqC-s"
      },
      "execution_count": null,
      "outputs": []
    },
    {
      "cell_type": "code",
      "source": [
        "pk = sess.query(City).where(City.pk == 1).one().pk\n",
        "sess.query(Supplier).filter(Supplier.pk == 1).one().fk = pk"
      ],
      "metadata": {
        "id": "chGOy1iwqEPF"
      },
      "execution_count": null,
      "outputs": []
    },
    {
      "cell_type": "code",
      "source": [
        "sess.query(Supplier).all()[0].fk"
      ],
      "metadata": {
        "id": "M3ceYbFgqFpU"
      },
      "execution_count": null,
      "outputs": []
    },
    {
      "cell_type": "code",
      "source": [
        "sess.query(City.name, Supplier.name).join(Supplier).all()"
      ],
      "metadata": {
        "id": "2OwZ2w_LqHsv"
      },
      "execution_count": null,
      "outputs": []
    },
    {
      "cell_type": "code",
      "source": [
        "from sqlalchemy.orm import relationship"
      ],
      "metadata": {
        "id": "JWTrqBK8qJBp"
      },
      "execution_count": null,
      "outputs": []
    },
    {
      "cell_type": "code",
      "source": [
        "base.registry.dispose()"
      ],
      "metadata": {
        "id": "V226c1R3qKhC"
      },
      "execution_count": null,
      "outputs": []
    },
    {
      "cell_type": "code",
      "source": [
        "class City(base):\n",
        "    __tablename__ = 'CITY'\n",
        "    __table_args__ = {'extend_existing':True}\n",
        "    pk = Column('PK', Integer, primary_key=True)\n",
        "    name = Column('NAME', Text)\n",
        "    nodes = relationship('Supplier', back_populates='city',\n",
        "                         uselist=True)\n",
        "\n",
        "class Supplier(base):\n",
        "    __tablename__ = 'SUPPLIER'\n",
        "    __table_args__ = {'extend_existing':True}\n",
        "    pk = Column('PK', Integer, primary_key=True)\n",
        "    name = Column('NAME', Text)\n",
        "    fk = Column('FK', Integer, ForeignKey('CITY.PK'))\n",
        "    city = relationship('City', back_populates='nodes')\n",
        "\n",
        "class Part(base):\n",
        "    __tablename__ = 'PART'\n",
        "    __table_args__ = {'extend_existing':True}\n",
        "    pk = Column('PK', Integer, primary_key=True)\n",
        "    name = Column('NAME', Text)\n",
        "\n",
        "class Sells(base):\n",
        "    __tablename__ = 'SELLS'\n",
        "    __table_args__ = {'extend_existing':True}\n",
        "    pk = Column('PK', Integer, primary_key=True)\n",
        "    fk1 = Column('FK1', Integer, ForeignKey('SUPPLIER.PK'))\n",
        "    fk2 = Column('FK2', Integer, ForeignKey('PART.PK'))"
      ],
      "metadata": {
        "id": "rvjUQX97qMEp"
      },
      "execution_count": null,
      "outputs": []
    },
    {
      "cell_type": "code",
      "source": [
        "city = sess.query(City).where(City.pk==1).one()"
      ],
      "metadata": {
        "id": "6s8XmC2MqNtG"
      },
      "execution_count": null,
      "outputs": []
    },
    {
      "cell_type": "code",
      "source": [
        "city.nodes[0] is sess.query(Supplier).where(Supplier.fk==1).one()"
      ],
      "metadata": {
        "id": "MhDVfUMYqPN2"
      },
      "execution_count": null,
      "outputs": []
    },
    {
      "cell_type": "code",
      "source": [
        "len(city.nodes)"
      ],
      "metadata": {
        "id": "adetfbR3qQen"
      },
      "execution_count": null,
      "outputs": []
    },
    {
      "cell_type": "code",
      "source": [
        "city.nodes.append(Supplier(name='지점2'))"
      ],
      "metadata": {
        "id": "uPmwpJR3qSUI"
      },
      "execution_count": null,
      "outputs": []
    },
    {
      "cell_type": "code",
      "source": [
        "sess.is_modified(city)"
      ],
      "metadata": {
        "id": "v1GKwcOTqU99"
      },
      "execution_count": null,
      "outputs": []
    },
    {
      "cell_type": "code",
      "source": [
        "sess.commit()"
      ],
      "metadata": {
        "id": "hUTD_yV5qWdE"
      },
      "execution_count": null,
      "outputs": []
    },
    {
      "cell_type": "code",
      "source": [
        "len(city.nodes)"
      ],
      "metadata": {
        "id": "oZLrxkWOqYSb"
      },
      "execution_count": null,
      "outputs": []
    },
    {
      "cell_type": "code",
      "source": [
        "city.nodes[-1].name"
      ],
      "metadata": {
        "id": "7jUxlOhiqZnF"
      },
      "execution_count": null,
      "outputs": []
    },
    {
      "cell_type": "code",
      "source": [
        "suppliers = sess.query(Supplier).all()"
      ],
      "metadata": {
        "id": "udebmx-Cqbf0"
      },
      "execution_count": null,
      "outputs": []
    },
    {
      "cell_type": "code",
      "source": [
        "sess.close()"
      ],
      "metadata": {
        "id": "Wb3RY-YHqc3e"
      },
      "execution_count": null,
      "outputs": []
    },
    {
      "cell_type": "code",
      "source": [
        "Session = sessionmaker(engine)\n",
        "sess = Session()"
      ],
      "metadata": {
        "id": "UrgtEFe6qeT6"
      },
      "execution_count": null,
      "outputs": []
    },
    {
      "cell_type": "code",
      "source": [
        "suppliers[0].city.name"
      ],
      "metadata": {
        "id": "5L3JoGBiqgKf"
      },
      "execution_count": null,
      "outputs": []
    },
    {
      "cell_type": "code",
      "source": [
        "sell.suppliers.city.nodes.sells"
      ],
      "metadata": {
        "id": "J4ZIr9Yiqh15"
      },
      "execution_count": null,
      "outputs": []
    },
    {
      "cell_type": "code",
      "source": [
        "sess.rollback()"
      ],
      "metadata": {
        "id": "mzHwtkuJqjA8"
      },
      "execution_count": null,
      "outputs": []
    },
    {
      "cell_type": "code",
      "source": [
        "engine.dispose()\n",
        "sess.close()\n",
        "base.registry.dispose()\n",
        "base.metadata.clear()"
      ],
      "metadata": {
        "id": "ZCAdPS9XqkVE"
      },
      "execution_count": null,
      "outputs": []
    },
    {
      "cell_type": "code",
      "source": [
        "engine = create_engine('sqlite:///:memory:', echo=True)\n",
        "base = declarative_base()\n",
        "Session = sessionmaker(engine)\n",
        "sess = Session()"
      ],
      "metadata": {
        "id": "aGYoYD_MqljB"
      },
      "execution_count": null,
      "outputs": []
    },
    {
      "cell_type": "code",
      "source": [
        "base.registry.dispose()\n",
        "base.metadata.clear()"
      ],
      "metadata": {
        "id": "r2dU2QTUqnQr"
      },
      "execution_count": null,
      "outputs": []
    },
    {
      "cell_type": "code",
      "source": [
        "class Artist(base):\n",
        "    __tablename__ = 'ARTIST'\n",
        "    pk = Column('PK', Integer, primary_key=True)\n",
        "    name = Column('NAME', Text)\n",
        "    albums = relationship('Album', back_populates='artist',\n",
        "                          uselist=True)\n",
        "    def addAlbum(self, name):\n",
        "        album = Album(name=name)\n",
        "        sess.add(album)\n",
        "        sess.commit()\n",
        "        self.albums.append(album)\n",
        "    def delAlbum(self, name):\n",
        "        album = sess.query(Album).filter(Album.name=name).one()\n",
        "        self.albums.index(album)\n",
        "\n",
        "    def __repr__(self):\n",
        "        return f'{self.name}, {len(self.albums)}'\n",
        "\n",
        "class Album(base):\n",
        "    __tablename__ = 'ALBUM'\n",
        "    pk = Column('PK', Integer, primary_key=True)\n",
        "    name = Column('NAME', Text)\n",
        "    fk = Column('FK', Integer, ForeignKey('ARTIST.PK'))\n",
        "    artist = relationship('Artist', back_populates='albums')\n",
        "\n",
        "    def __repr__(self):\n",
        "        return f'{self.name}, {self.artist.name}'"
      ],
      "metadata": {
        "id": "O1tsg1HAqomx"
      },
      "execution_count": null,
      "outputs": []
    },
    {
      "cell_type": "code",
      "source": [
        "rst = sess.query(Album).filter(Album.name=='앨범1')"
      ],
      "metadata": {
        "id": "wJR1fnyOqqZw"
      },
      "execution_count": null,
      "outputs": []
    },
    {
      "cell_type": "code",
      "source": [
        "album1 = rst.one()"
      ],
      "metadata": {
        "id": "kclBXMMTqrsH"
      },
      "execution_count": null,
      "outputs": []
    },
    {
      "cell_type": "code",
      "source": [
        "artist1.albums.index(album1)"
      ],
      "metadata": {
        "id": "X7C6FT8cqs5d"
      },
      "execution_count": null,
      "outputs": []
    },
    {
      "cell_type": "code",
      "source": [
        "base.metadata.create_all(engine)"
      ],
      "metadata": {
        "id": "X-urFfHYquC9"
      },
      "execution_count": null,
      "outputs": []
    },
    {
      "cell_type": "code",
      "source": [
        "artist1 = Artist(name='가수1')\n",
        "sess.add(artist1)\n",
        "sess.commit()"
      ],
      "metadata": {
        "id": "ky411_QlqveO"
      },
      "execution_count": null,
      "outputs": []
    },
    {
      "cell_type": "code",
      "source": [
        "artist1.addAlbum('앨범1')"
      ],
      "metadata": {
        "id": "j7xIGHBYqw3C"
      },
      "execution_count": null,
      "outputs": []
    },
    {
      "cell_type": "code",
      "source": [
        "artist1.albums[0]"
      ],
      "metadata": {
        "id": "v8YRzwiaqyL-"
      },
      "execution_count": null,
      "outputs": []
    },
    {
      "cell_type": "code",
      "source": [
        "앨범을 삭제하는 코드를 만들기(11시20분)"
      ],
      "metadata": {
        "id": "xKUu8Fi3qziW"
      },
      "execution_count": null,
      "outputs": []
    },
    {
      "cell_type": "code",
      "source": [
        "sess.rollback()\n",
        "\n",
        "engine.dispose()\n",
        "sess.close()\n",
        "base.registry.dispose()\n",
        "base.metadata.clear()\n",
        "\n",
        "engine = create_engine('sqlite:///:memory:', echo=True)\n",
        "base = declarative_base()\n",
        "Session = sessionmaker(engine)\n",
        "sess = Session()"
      ],
      "metadata": {
        "id": "a03_cvxWq1M5"
      },
      "execution_count": null,
      "outputs": []
    },
    {
      "cell_type": "code",
      "source": [
        "# 기존에서 가져오기\n",
        "base.metadata.reflect(engine)\n",
        "base.metadata.tables['테이블이름']\n",
        "class 어쩌고(base):\n",
        "    __table__ = base.metadata.tables['테이블이름']\n",
        "    pk =\n",
        "    relationship\n",
        "DB, PK/FK 설정\n",
        "relationship <= PK/FK, 객체, DB X"
      ],
      "metadata": {
        "id": "Q4WcVDXaq3Hs"
      },
      "execution_count": null,
      "outputs": []
    },
    {
      "cell_type": "code",
      "source": [
        "base.registry.dispose()"
      ],
      "metadata": {
        "id": "XfBy03eQq5zV"
      },
      "execution_count": null,
      "outputs": []
    },
    {
      "cell_type": "code",
      "source": [
        "# Artist 1:N Ablums\n",
        "# Post N:M Hashtag => 별도의 Table\n",
        "class Post(base):\n",
        "    __tablename__ = 'POST'\n",
        "    __table_args__ = {'extend_existing':True}\n",
        "    pk = Column('PK', Integer, primary_key=True)\n",
        "    content = Column('CONTENT', Text)\n",
        "    tags = relationship('Tags', back_populates='post', uselist=True)\n",
        "\n",
        "    def addTags(self, tags):\n",
        "        tagList = list()\n",
        "        for tag in tags:\n",
        "            rst = sess.query(Hashtag).filter(Hashtag.name == tag)\n",
        "            if rst.count() > 0:\n",
        "                tagList.append(rst.one())\n",
        "            else:\n",
        "                newTag = Hashtag(name=tag)\n",
        "                sess.add(newTag)\n",
        "                sess.commit()\n",
        "                tagList.append(newTag)\n",
        "        for tag in tagList:\n",
        "            sess.add(Tags(fk1=self.pk, fk2=tag.pk))\n",
        "            sess.commit()\n",
        "            tag.cnt += 1\n",
        "    # tag 삭제\n",
        "    def __repr__(self):\n",
        "        return f'{self.pk}, {len(self.tags)}'\n",
        "\n",
        "class Hashtag(base):\n",
        "    __tablename__ = 'HASHTAG'\n",
        "    __table_args__ = {'extend_existing':True}\n",
        "    pk = Column('PK', Integer, primary_key=True)\n",
        "    name = Column('NAME', Text)\n",
        "    cnt = Column('CNT', Integer, server_default='0')\n",
        "    posts = relationship('Tags', back_populates='hashtag',\n",
        "                         uselist=True)\n",
        "    # +1, -1 함수\n",
        "    def __repr__(self):\n",
        "        return f'{self.pk}, {self.name}, {len(self.posts)}'\n",
        "\n",
        "class Tags(base):\n",
        "    __tablename__ = 'TAGS'\n",
        "    __table_args__ = {'extend_existing':True}\n",
        "    pk = Column('PK', Integer, primary_key=True)\n",
        "    fk1 = Column('FK1', None, ForeignKey('POST.PK'))\n",
        "    fk2 = Column('FK2', None, ForeignKey('HASHTAG.PK'))\n",
        "    post = relationship('Post', back_populates='tags')\n",
        "    hashtag = relationship('Hashtag', back_populates='posts')\n",
        "\n",
        "# Object/Class\n",
        "# Post           Tags           Hashtag\n",
        "# tags----      post/hashtag    ----posts\n",
        "# Posts.tags[0/1/2/3/..].hashtag -----------> Hashtag"
      ],
      "metadata": {
        "id": "Ze-5cEbFq7Cy"
      },
      "execution_count": null,
      "outputs": []
    },
    {
      "cell_type": "code",
      "source": [
        "base.metadata.create_all(engine)"
      ],
      "metadata": {
        "id": "iSw8MYACq9Tq"
      },
      "execution_count": null,
      "outputs": []
    },
    {
      "cell_type": "code",
      "source": [
        "post1 = Post(content='내용1')\n",
        "sess.add(post1)\n",
        "sess.commit()"
      ],
      "metadata": {
        "id": "3KSEb_gDrAk8"
      },
      "execution_count": null,
      "outputs": []
    },
    {
      "cell_type": "code",
      "source": [
        "tag1 = Hashtag(name='해시태그1')\n",
        "sess.add(tag1)\n",
        "sess.commit()"
      ],
      "metadata": {
        "id": "lWRqmTs-rBDq"
      },
      "execution_count": null,
      "outputs": []
    },
    {
      "cell_type": "code",
      "source": [
        "sess.add(Tags(fk1=post1.pk, fk2=tag1.pk))\n",
        "sess.commit()"
      ],
      "metadata": {
        "colab": {
          "base_uri": "https://localhost:8080/",
          "height": 198
        },
        "id": "_1PFi9wBrCnQ",
        "outputId": "3c63ee4f-4756-444d-8217-a2977012f824"
      },
      "execution_count": null,
      "outputs": [
        {
          "output_type": "error",
          "ename": "NameError",
          "evalue": "ignored",
          "traceback": [
            "\u001b[0;31m---------------------------------------------------------------------------\u001b[0m",
            "\u001b[0;31mNameError\u001b[0m                                 Traceback (most recent call last)",
            "\u001b[0;32m<ipython-input-12-914261a659bb>\u001b[0m in \u001b[0;36m<cell line: 1>\u001b[0;34m()\u001b[0m\n\u001b[0;32m----> 1\u001b[0;31m \u001b[0msess\u001b[0m\u001b[0;34m.\u001b[0m\u001b[0madd\u001b[0m\u001b[0;34m(\u001b[0m\u001b[0mTags\u001b[0m\u001b[0;34m(\u001b[0m\u001b[0mfk1\u001b[0m\u001b[0;34m=\u001b[0m\u001b[0mpost1\u001b[0m\u001b[0;34m.\u001b[0m\u001b[0mpk\u001b[0m\u001b[0;34m,\u001b[0m \u001b[0mfk2\u001b[0m\u001b[0;34m=\u001b[0m\u001b[0mtag1\u001b[0m\u001b[0;34m.\u001b[0m\u001b[0mpk\u001b[0m\u001b[0;34m)\u001b[0m\u001b[0;34m)\u001b[0m\u001b[0;34m\u001b[0m\u001b[0;34m\u001b[0m\u001b[0m\n\u001b[0m\u001b[1;32m      2\u001b[0m \u001b[0msess\u001b[0m\u001b[0;34m.\u001b[0m\u001b[0mcommit\u001b[0m\u001b[0;34m(\u001b[0m\u001b[0;34m)\u001b[0m\u001b[0;34m\u001b[0m\u001b[0;34m\u001b[0m\u001b[0m\n",
            "\u001b[0;31mNameError\u001b[0m: name 'sess' is not defined"
          ]
        }
      ]
    },
    {
      "cell_type": "code",
      "source": [
        "len(post1.tags), post1.tags[0].hashtag.name"
      ],
      "metadata": {
        "id": "Un8IsEcTrD6d"
      },
      "execution_count": null,
      "outputs": []
    },
    {
      "cell_type": "code",
      "source": [
        "len(tag1.posts), tag1.posts[0].post.content"
      ],
      "metadata": {
        "id": "bl_dibvErFOv"
      },
      "execution_count": null,
      "outputs": []
    },
    {
      "cell_type": "code",
      "source": [
        "post2 = Post(content='내용2')\n",
        "sess.add(post2)\n",
        "sess.commit()"
      ],
      "metadata": {
        "id": "q16XsWtYrGnm"
      },
      "execution_count": null,
      "outputs": []
    },
    {
      "cell_type": "code",
      "source": [
        "post2.addTags(['해시태그2', '해시태그3'])"
      ],
      "metadata": {
        "id": "y1Pddn1NrHpx"
      },
      "execution_count": null,
      "outputs": []
    },
    {
      "cell_type": "code",
      "source": [
        "for tag in post2.tags:\n",
        "    print(tag.hashtag)"
      ],
      "metadata": {
        "id": "pGkatzH6rI9F"
      },
      "execution_count": null,
      "outputs": []
    },
    {
      "cell_type": "code",
      "source": [
        "post3 = Post(content='내용3')\n",
        "sess.add(post3)\n",
        "sess.commit()"
      ],
      "metadata": {
        "id": "37zDGVwnrLaM"
      },
      "execution_count": null,
      "outputs": []
    },
    {
      "cell_type": "code",
      "source": [
        "post3.addTags(['해시태그1', '해시태그2'])"
      ],
      "metadata": {
        "id": "o0Qw5jc9rNAW"
      },
      "execution_count": null,
      "outputs": []
    },
    {
      "cell_type": "code",
      "source": [
        "tag1 = sess.query(Hashtag).where(Hashtag.name == '해시태그2').one()"
      ],
      "metadata": {
        "id": "gEK0mnONrPqy"
      },
      "execution_count": null,
      "outputs": []
    },
    {
      "cell_type": "code",
      "source": [
        "for post in tag1.posts:\n",
        "    print(post.post.content)"
      ],
      "metadata": {
        "id": "mrwED8bxrRU8"
      },
      "execution_count": null,
      "outputs": []
    },
    {
      "cell_type": "code",
      "source": [
        "tag1"
      ],
      "metadata": {
        "id": "4MCKL4zmrUq4"
      },
      "execution_count": null,
      "outputs": []
    },
    {
      "cell_type": "code",
      "source": [
        "ORM\n",
        "ORM Core\n",
        "Scheme(Table, Column, Foriegn...), Types(Integer, Text, ...), ...\n",
        "Engine - Connection Pool, Dialect - DB API - (R)DBMS - Database\n",
        "   ^\n",
        "\n",
        "Only SQLite\n",
        "ORM               ORM Core             RDBMS\n",
        "ORM Object      Table Object           TABLE\n",
        "                                     ---------\n",
        "in-memory       ------------\n",
        "독립                  ?                   독립\n",
        "             Table.Foreign_key      TABLE--PK/FK--TABLE\n",
        "Object--relationship--Object\n",
        "Object1.childnodes[] ==> Object2\n",
        "from sqlalchemy.orm import declarative_base\n",
        "base = declarative_base()\n",
        "base.metadata.tables # <- Core Table 객체-RDMBS\n",
        "FacadeDict({})\n",
        "base.registry # <- Object 등록\n",
        "from sqlalchemy.schema import Table, Column, ForeignKey\n",
        "from sqlalchemy.types import Integer, Text\n",
        "base.metadata.tables\n",
        "FacadeDict({'USER': Table('USER', MetaData(), Column('PK', Integer(), table=<USER>, primary_key=True, nullable=False), Column('NAME', Text(), table=<USER>), schema=None)})\n",
        "base.metadata.remove(base.metadata.tables['USER'])\n",
        "base.registry.dispose()\n",
        "class User(base):\n",
        "    __tablename__ = 'USER'\n",
        "    # obj->테이블이름   => DBMS 사용될 Table이름\n",
        "    pk = Column('PK', Integer, primary_key=True)\n",
        "    # obj->pk        => DBMS 해당 Table 사용되는 Column\n",
        "    name = Column('NAME', Text)\n",
        "\n",
        "    def __repr__(self):\n",
        "        return f'PK:{self.pk}, NAME:{self.name}'\n",
        "user1 = User(name='아무거나')\n",
        "type(user1), type(base.metadata.tables['USER'])\n",
        "(__main__.User, sqlalchemy.sql.schema.Table)\n",
        "from sqlalchemy import create_engine\n",
        "engine = create_engine('sqlite:///:memory:', echo=True)\n",
        "base.metadata.create_all(engine)\n",
        "2023-09-07 09:24:28,808 INFO sqlalchemy.engine.Engine BEGIN (implicit)\n",
        "2023-09-07 09:24:28,810 INFO sqlalchemy.engine.Engine PRAGMA main.table_info(\"USER\")\n",
        "2023-09-07 09:24:28,814 INFO sqlalchemy.engine.Engine [raw sql] ()\n",
        "2023-09-07 09:24:28,815 INFO sqlalchemy.engine.Engine PRAGMA temp.table_info(\"USER\")\n",
        "2023-09-07 09:24:28,816 INFO sqlalchemy.engine.Engine [raw sql] ()\n",
        "2023-09-07 09:24:28,817 INFO sqlalchemy.engine.Engine\n",
        "CREATE TABLE \"USER\" (\n",
        "\t\"PK\" INTEGER NOT NULL,\n",
        "\t\"NAME\" TEXT,\n",
        "\tPRIMARY KEY (\"PK\")\n",
        ")\n",
        "\n",
        "\n",
        "2023-09-07 09:24:28,818 INFO sqlalchemy.engine.Engine [no key 0.00108s] ()\n",
        "2023-09-07 09:24:28,819 INFO sqlalchemy.engine.Engine COMMIT\n",
        "# session => engine.connect().execute() => DBMS\n",
        "from sqlalchemy.orm import sessionmaker\n",
        "Session = sessionmaker(engine)\n",
        "sess = Session()\n",
        "# in-memory objects -> RDBMS\n",
        "sess.add(user1)\n",
        "user1\n",
        "PK:None, NAME:아무거나\n",
        "sess.commit()\n",
        "# session 관찰하고 있는 objects을 반영 => DBMS Commit()\n",
        "2023-09-07 09:29:23,507 INFO sqlalchemy.engine.Engine BEGIN (implicit)\n",
        "2023-09-07 09:29:23,514 INFO sqlalchemy.engine.Engine INSERT INTO \"USER\" (\"NAME\") VALUES (?)\n",
        "2023-09-07 09:29:23,515 INFO sqlalchemy.engine.Engine [generated in 0.00157s] ('아무거나',)\n",
        "2023-09-07 09:29:23,517 INFO sqlalchemy.engine.Engine COMMIT\n",
        "user1\n",
        "2023-09-07 09:29:27,883 INFO sqlalchemy.engine.Engine BEGIN (implicit)\n",
        "2023-09-07 09:29:27,890 INFO sqlalchemy.engine.Engine SELECT \"USER\".\"PK\" AS \"USER_PK\", \"USER\".\"NAME\" AS \"USER_NAME\"\n",
        "FROM \"USER\"\n",
        "WHERE \"USER\".\"PK\" = ?\n",
        "2023-09-07 09:29:27,891 INFO sqlalchemy.engine.Engine [generated in 0.00126s] (1,)\n",
        "PK:1, NAME:아무거나\n",
        "sess.is_modified(user1)\n",
        "False\n",
        "sess.dirty\n",
        "IdentitySet([])\n",
        "user1.name = '다른값'\n",
        "user1\n",
        "PK:1, NAME:다른값\n",
        "sess.dirty\n",
        "IdentitySet([PK:1, NAME:다른값])\n",
        "sess.is_modified(user1)\n",
        "True\n",
        "sess.commit()\n",
        "2023-09-07 09:32:44,953 INFO sqlalchemy.engine.Engine UPDATE \"USER\" SET \"NAME\"=? WHERE \"USER\".\"PK\" = ?\n",
        "2023-09-07 09:32:44,957 INFO sqlalchemy.engine.Engine [generated in 0.00438s] ('다른값', 1)\n",
        "2023-09-07 09:32:44,959 INFO sqlalchemy.engine.Engine COMMIT\n",
        "user1\n",
        "2023-09-07 09:32:54,246 INFO sqlalchemy.engine.Engine BEGIN (implicit)\n",
        "2023-09-07 09:32:54,250 INFO sqlalchemy.engine.Engine SELECT \"USER\".\"PK\" AS \"USER_PK\", \"USER\".\"NAME\" AS \"USER_NAME\"\n",
        "FROM \"USER\"\n",
        "WHERE \"USER\".\"PK\" = ?\n",
        "2023-09-07 09:32:54,251 INFO sqlalchemy.engine.Engine [cached since 206.4s ago] (1,)\n",
        "PK:1, NAME:다른값\n",
        "sess.add_all([User(name='2'), User(name='3')])\n",
        "sess.commit()\n",
        "2023-09-07 09:34:16,792 INFO sqlalchemy.engine.Engine INSERT INTO \"USER\" (\"NAME\") VALUES (?) RETURNING \"PK\"\n",
        "2023-09-07 09:34:16,795 INFO sqlalchemy.engine.Engine [generated in 0.00036s (insertmanyvalues) 1/2 (ordered; batch not supported)] ('2',)\n",
        "2023-09-07 09:34:16,797 INFO sqlalchemy.engine.Engine INSERT INTO \"USER\" (\"NAME\") VALUES (?) RETURNING \"PK\"\n",
        "2023-09-07 09:34:16,799 INFO sqlalchemy.engine.Engine [insertmanyvalues 2/2 (ordered; batch not supported)] ('3',)\n",
        "2023-09-07 09:34:16,801 INFO sqlalchemy.engine.Engine COMMIT\n",
        "userList = sess.query(User).all()\n",
        "2023-09-07 09:34:36,031 INFO sqlalchemy.engine.Engine BEGIN (implicit)\n",
        "2023-09-07 09:34:36,036 INFO sqlalchemy.engine.Engine SELECT \"USER\".\"PK\" AS \"USER_PK\", \"USER\".\"NAME\" AS \"USER_NAME\"\n",
        "FROM \"USER\"\n",
        "2023-09-07 09:34:36,039 INFO sqlalchemy.engine.Engine [generated in 0.00278s] ()\n",
        "len(userList)\n",
        "3\n",
        "user1 is userList[0]\n",
        "True\n",
        "userList[1].name = '다른값2'\n",
        "sess.dirty\n",
        "IdentitySet([PK:2, NAME:다른값2])\n",
        "sess.commit()\n",
        "2023-09-07 09:35:34,079 INFO sqlalchemy.engine.Engine UPDATE \"USER\" SET \"NAME\"=? WHERE \"USER\".\"PK\" = ?\n",
        "2023-09-07 09:35:34,085 INFO sqlalchemy.engine.Engine [cached since 169.1s ago] ('다른값2', 2)\n",
        "2023-09-07 09:35:34,088 INFO sqlalchemy.engine.Engine COMMIT\n",
        "userList[1]\n",
        "2023-09-07 09:35:40,017 INFO sqlalchemy.engine.Engine BEGIN (implicit)\n",
        "2023-09-07 09:35:40,021 INFO sqlalchemy.engine.Engine SELECT \"USER\".\"PK\" AS \"USER_PK\", \"USER\".\"NAME\" AS \"USER_NAME\"\n",
        "FROM \"USER\"\n",
        "WHERE \"USER\".\"PK\" = ?\n",
        "2023-09-07 09:35:40,023 INFO sqlalchemy.engine.Engine [cached since 372.1s ago] (2,)\n",
        "PK:2, NAME:다른값2\n",
        "[user for user in userList if user.name == '3'][0] is userList[2]\n",
        "True\n",
        "sess.query(User).where(User.name == '3').one() is userList[2]\n",
        "2023-09-07 09:39:00,275 INFO sqlalchemy.engine.Engine SELECT \"USER\".\"PK\" AS \"USER_PK\", \"USER\".\"NAME\" AS \"USER_NAME\"\n",
        "FROM \"USER\"\n",
        "WHERE \"USER\".\"NAME\" = ?\n",
        "2023-09-07 09:39:00,279 INFO sqlalchemy.engine.Engine [cached since 4.094s ago] ('3',)\n",
        "True\n",
        "class Address(base):\n",
        "    __tablename__ = 'ADDRESS'\n",
        "\n",
        "    pk = Column('PK', Integer, primary_key=True)\n",
        "    name = Column('NAME', Text)\n",
        "    fk = Column('FK', None, ForeignKey('USER.PK'))\n",
        "\n",
        "    def __repr__(self):\n",
        "        return f'PK:{self.pk}, NAME:{self.name}, FK:{self.fk}'\n",
        "base.metadata.create_all(engine)\n",
        "2023-09-07 09:44:59,306 INFO sqlalchemy.engine.Engine BEGIN (implicit)\n",
        "2023-09-07 09:44:59,312 INFO sqlalchemy.engine.Engine PRAGMA main.table_info(\"USER\")\n",
        "2023-09-07 09:44:59,315 INFO sqlalchemy.engine.Engine [raw sql] ()\n",
        "2023-09-07 09:44:59,316 INFO sqlalchemy.engine.Engine PRAGMA main.table_info(\"ADDRESS\")\n",
        "2023-09-07 09:44:59,317 INFO sqlalchemy.engine.Engine [raw sql] ()\n",
        "2023-09-07 09:44:59,318 INFO sqlalchemy.engine.Engine PRAGMA temp.table_info(\"ADDRESS\")\n",
        "2023-09-07 09:44:59,318 INFO sqlalchemy.engine.Engine [raw sql] ()\n",
        "2023-09-07 09:44:59,320 INFO sqlalchemy.engine.Engine\n",
        "CREATE TABLE \"ADDRESS\" (\n",
        "\t\"PK\" INTEGER NOT NULL,\n",
        "\t\"NAME\" TEXT,\n",
        "\t\"FK\" INTEGER,\n",
        "\tPRIMARY KEY (\"PK\"),\n",
        "\tFOREIGN KEY(\"FK\") REFERENCES \"USER\" (\"PK\")\n",
        ")\n",
        "\n",
        "\n",
        "2023-09-07 09:44:59,321 INFO sqlalchemy.engine.Engine [no key 0.00105s] ()\n",
        "2023-09-07 09:44:59,322 INFO sqlalchemy.engine.Engine COMMIT\n",
        "sess.add(Address(name='주소1', fk=user1.pk))\n",
        "sess.commit()\n",
        "2023-09-07 09:45:46,538 INFO sqlalchemy.engine.Engine INSERT INTO \"ADDRESS\" (\"NAME\", \"FK\") VALUES (?, ?)\n",
        "2023-09-07 09:45:46,540 INFO sqlalchemy.engine.Engine [generated in 0.00290s] ('주소1', 1)\n",
        "2023-09-07 09:45:46,543 INFO sqlalchemy.engine.Engine COMMIT\n",
        "address1 = sess.query(Address).one()\n",
        "2023-09-07 09:46:12,918 INFO sqlalchemy.engine.Engine SELECT \"ADDRESS\".\"PK\" AS \"ADDRESS_PK\", \"ADDRESS\".\"NAME\" AS \"ADDRESS_NAME\", \"ADDRESS\".\"FK\" AS \"ADDRESS_FK\"\n",
        "FROM \"ADDRESS\"\n",
        "2023-09-07 09:46:12,922 INFO sqlalchemy.engine.Engine [cached since 14.02s ago] ()\n",
        "for user in userList:\n",
        "    if user.pk == address1.fk:\n",
        "        print(user, address1)\n",
        "PK:1, NAME:다른값 PK:1, NAME:주소1, FK:1\n",
        "engine.dispose()\n",
        "base.metadata.clear()\n",
        "base.registry.dispose()\n",
        "CITY, SUPPLIER, PART, SELLS => ORM 만들어보세요(10시10분까지)\n",
        "engine = create_engine('sqlite:///:memory:', echo=True)\n",
        "Session = sessionmaker(engine)\n",
        "sess = Session()\n",
        "class City(base):\n",
        "    __tablename__ = 'CITY'\n",
        "    pk = Column('PK', Integer, primary_key=True)\n",
        "    name = Column('NAME', Text)\n",
        "\n",
        "class Supplier(base):\n",
        "    __tablename__ = 'SUPPLIER'\n",
        "    pk = Column('PK', Integer, primary_key=True)\n",
        "    name = Column('NAME', Text)\n",
        "    fk = Column('FK', Integer, ForeignKey('CITY.PK'))\n",
        "\n",
        "class Part(base):\n",
        "    __tablename__ = 'PART'\n",
        "    pk = Column('PK', Integer, primary_key=True)\n",
        "    name = Column('NAME', Text)\n",
        "\n",
        "class Sells(base):\n",
        "    __tablename__ = 'SELLS'\n",
        "    pk = Column('PK', Integer, primary_key=True)\n",
        "    fk1 = Column('FK1', Integer, ForeignKey('SUPPLIER.PK'))\n",
        "    fk2 = Column('FK2', Integer, ForeignKey('PART.PK'))\n",
        "base.metadata.create_all(engine)\n",
        "2023-09-07 10:23:04,932 INFO sqlalchemy.engine.Engine BEGIN (implicit)\n",
        "2023-09-07 10:23:04,935 INFO sqlalchemy.engine.Engine PRAGMA main.table_info(\"CITY\")\n",
        "2023-09-07 10:23:04,936 INFO sqlalchemy.engine.Engine [raw sql] ()\n",
        "2023-09-07 10:23:04,937 INFO sqlalchemy.engine.Engine PRAGMA temp.table_info(\"CITY\")\n",
        "2023-09-07 10:23:04,938 INFO sqlalchemy.engine.Engine [raw sql] ()\n",
        "2023-09-07 10:23:04,940 INFO sqlalchemy.engine.Engine PRAGMA main.table_info(\"SUPPLIER\")\n",
        "2023-09-07 10:23:04,940 INFO sqlalchemy.engine.Engine [raw sql] ()\n",
        "2023-09-07 10:23:04,941 INFO sqlalchemy.engine.Engine PRAGMA temp.table_info(\"SUPPLIER\")\n",
        "2023-09-07 10:23:04,942 INFO sqlalchemy.engine.Engine [raw sql] ()\n",
        "2023-09-07 10:23:04,945 INFO sqlalchemy.engine.Engine PRAGMA main.table_info(\"PART\")\n",
        "2023-09-07 10:23:04,946 INFO sqlalchemy.engine.Engine [raw sql] ()\n",
        "2023-09-07 10:23:04,947 INFO sqlalchemy.engine.Engine PRAGMA temp.table_info(\"PART\")\n",
        "2023-09-07 10:23:04,948 INFO sqlalchemy.engine.Engine [raw sql] ()\n",
        "2023-09-07 10:23:04,948 INFO sqlalchemy.engine.Engine PRAGMA main.table_info(\"SELLS\")\n",
        "2023-09-07 10:23:04,949 INFO sqlalchemy.engine.Engine [raw sql] ()\n",
        "2023-09-07 10:23:04,949 INFO sqlalchemy.engine.Engine PRAGMA temp.table_info(\"SELLS\")\n",
        "2023-09-07 10:23:04,950 INFO sqlalchemy.engine.Engine [raw sql] ()\n",
        "2023-09-07 10:23:04,951 INFO sqlalchemy.engine.Engine\n",
        "CREATE TABLE \"CITY\" (\n",
        "\t\"PK\" INTEGER NOT NULL,\n",
        "\t\"NAME\" TEXT,\n",
        "\tPRIMARY KEY (\"PK\")\n",
        ")\n",
        "\n",
        "\n",
        "2023-09-07 10:23:04,951 INFO sqlalchemy.engine.Engine [no key 0.00044s] ()\n",
        "2023-09-07 10:23:04,952 INFO sqlalchemy.engine.Engine\n",
        "CREATE TABLE \"PART\" (\n",
        "\t\"PK\" INTEGER NOT NULL,\n",
        "\t\"NAME\" TEXT,\n",
        "\tPRIMARY KEY (\"PK\")\n",
        ")\n",
        "\n",
        "\n",
        "2023-09-07 10:23:04,952 INFO sqlalchemy.engine.Engine [no key 0.00036s] ()\n",
        "2023-09-07 10:23:04,953 INFO sqlalchemy.engine.Engine\n",
        "CREATE TABLE \"SUPPLIER\" (\n",
        "\t\"PK\" INTEGER NOT NULL,\n",
        "\t\"NAME\" TEXT,\n",
        "\t\"FK\" INTEGER,\n",
        "\tPRIMARY KEY (\"PK\"),\n",
        "\tFOREIGN KEY(\"FK\") REFERENCES \"CITY\" (\"PK\")\n",
        ")\n",
        "\n",
        "\n",
        "2023-09-07 10:23:04,953 INFO sqlalchemy.engine.Engine [no key 0.00033s] ()\n",
        "2023-09-07 10:23:04,954 INFO sqlalchemy.engine.Engine\n",
        "CREATE TABLE \"SELLS\" (\n",
        "\t\"PK\" INTEGER NOT NULL,\n",
        "\t\"FK1\" INTEGER,\n",
        "\t\"FK2\" INTEGER,\n",
        "\tPRIMARY KEY (\"PK\"),\n",
        "\tFOREIGN KEY(\"FK1\") REFERENCES \"SUPPLIER\" (\"PK\"),\n",
        "\tFOREIGN KEY(\"FK2\") REFERENCES \"PART\" (\"PK\")\n",
        ")\n",
        "\n",
        "\n",
        "2023-09-07 10:23:04,955 INFO sqlalchemy.engine.Engine [no key 0.00041s] ()\n",
        "2023-09-07 10:23:04,956 INFO sqlalchemy.engine.Engine COMMIT\n",
        "sess.add_all([City(name='도시1'), City(name='도시2'),\n",
        "              Part(name='부품1'), Part(name='부품2'),\n",
        "              Supplier(name='지점1'), Supplier(name='지점2'),])\n",
        "sess.commit()\n",
        "2023-09-07 10:23:14,058 INFO sqlalchemy.engine.Engine BEGIN (implicit)\n",
        "2023-09-07 10:23:14,067 INFO sqlalchemy.engine.Engine INSERT INTO \"CITY\" (\"NAME\") VALUES (?) RETURNING \"PK\"\n",
        "2023-09-07 10:23:14,072 INFO sqlalchemy.engine.Engine [generated in 0.00055s (insertmanyvalues) 1/2 (ordered; batch not supported)] ('도시1',)\n",
        "2023-09-07 10:23:14,078 INFO sqlalchemy.engine.Engine INSERT INTO \"CITY\" (\"NAME\") VALUES (?) RETURNING \"PK\"\n",
        "2023-09-07 10:23:14,078 INFO sqlalchemy.engine.Engine [insertmanyvalues 2/2 (ordered; batch not supported)] ('도시2',)\n",
        "2023-09-07 10:23:14,080 INFO sqlalchemy.engine.Engine INSERT INTO \"PART\" (\"NAME\") VALUES (?) RETURNING \"PK\"\n",
        "2023-09-07 10:23:14,080 INFO sqlalchemy.engine.Engine [generated in 0.00007s (insertmanyvalues) 1/2 (ordered; batch not supported)] ('부품1',)\n",
        "2023-09-07 10:23:14,080 INFO sqlalchemy.engine.Engine INSERT INTO \"PART\" (\"NAME\") VALUES (?) RETURNING \"PK\"\n",
        "2023-09-07 10:23:14,081 INFO sqlalchemy.engine.Engine [insertmanyvalues 2/2 (ordered; batch not supported)] ('부품2',)\n",
        "2023-09-07 10:23:14,082 INFO sqlalchemy.engine.Engine INSERT INTO \"SUPPLIER\" (\"NAME\", \"FK\") VALUES (?, ?) RETURNING \"PK\"\n",
        "2023-09-07 10:23:14,082 INFO sqlalchemy.engine.Engine [generated in 0.00007s (insertmanyvalues) 1/2 (ordered; batch not supported)] ('지점1', None)\n",
        "2023-09-07 10:23:14,083 INFO sqlalchemy.engine.Engine INSERT INTO \"SUPPLIER\" (\"NAME\", \"FK\") VALUES (?, ?) RETURNING \"PK\"\n",
        "2023-09-07 10:23:14,083 INFO sqlalchemy.engine.Engine [insertmanyvalues 2/2 (ordered; batch not supported)] ('지점2', None)\n",
        "2023-09-07 10:23:14,084 INFO sqlalchemy.engine.Engine COMMIT\n",
        "pk = sess.query(City).where(City.pk == 1).one().pk\n",
        "sess.query(Supplier).filter(Supplier.pk == 1).one().fk = pk\n",
        "2023-09-07 10:24:29,873 INFO sqlalchemy.engine.Engine SELECT \"CITY\".\"PK\" AS \"CITY_PK\", \"CITY\".\"NAME\" AS \"CITY_NAME\"\n",
        "FROM \"CITY\"\n",
        "WHERE \"CITY\".\"PK\" = ?\n",
        "2023-09-07 10:24:29,874 INFO sqlalchemy.engine.Engine [generated in 0.00198s] (1,)\n",
        "2023-09-07 10:24:29,878 INFO sqlalchemy.engine.Engine SELECT \"SUPPLIER\".\"PK\" AS \"SUPPLIER_PK\", \"SUPPLIER\".\"NAME\" AS \"SUPPLIER_NAME\", \"SUPPLIER\".\"FK\" AS \"SUPPLIER_FK\"\n",
        "FROM \"SUPPLIER\"\n",
        "WHERE \"SUPPLIER\".\"PK\" = ?\n",
        "2023-09-07 10:24:29,879 INFO sqlalchemy.engine.Engine [cached since 69.02s ago] (1,)\n",
        "sess.query(Supplier).all()[0].fk\n",
        "2023-09-07 10:24:47,880 INFO sqlalchemy.engine.Engine SELECT \"SUPPLIER\".\"PK\" AS \"SUPPLIER_PK\", \"SUPPLIER\".\"NAME\" AS \"SUPPLIER_NAME\", \"SUPPLIER\".\"FK\" AS \"SUPPLIER_FK\"\n",
        "FROM \"SUPPLIER\"\n",
        "2023-09-07 10:24:47,886 INFO sqlalchemy.engine.Engine [cached since 4.519s ago] ()\n",
        "1\n",
        "sess.query(City.name, Supplier.name).join(Supplier).all()\n",
        "2023-09-07 10:25:33,095 INFO sqlalchemy.engine.Engine SELECT \"CITY\".\"NAME\" AS \"CITY_NAME\", \"SUPPLIER\".\"NAME\" AS \"SUPPLIER_NAME\"\n",
        "FROM \"CITY\" JOIN \"SUPPLIER\" ON \"CITY\".\"PK\" = \"SUPPLIER\".\"FK\"\n",
        "2023-09-07 10:25:33,098 INFO sqlalchemy.engine.Engine [generated in 0.00339s] ()\n",
        "[('도시1', '지점1')]\n",
        "from sqlalchemy.orm import relationship\n",
        "base.registry.dispose()\n",
        "class City(base):\n",
        "    __tablename__ = 'CITY'\n",
        "    __table_args__ = {'extend_existing':True}\n",
        "    pk = Column('PK', Integer, primary_key=True)\n",
        "    name = Column('NAME', Text)\n",
        "    nodes = relationship('Supplier', back_populates='city',\n",
        "                         uselist=True)\n",
        "\n",
        "class Supplier(base):\n",
        "    __tablename__ = 'SUPPLIER'\n",
        "    __table_args__ = {'extend_existing':True}\n",
        "    pk = Column('PK', Integer, primary_key=True)\n",
        "    name = Column('NAME', Text)\n",
        "    fk = Column('FK', Integer, ForeignKey('CITY.PK'))\n",
        "    city = relationship('City', back_populates='nodes')\n",
        "\n",
        "class Part(base):\n",
        "    __tablename__ = 'PART'\n",
        "    __table_args__ = {'extend_existing':True}\n",
        "    pk = Column('PK', Integer, primary_key=True)\n",
        "    name = Column('NAME', Text)\n",
        "\n",
        "class Sells(base):\n",
        "    __tablename__ = 'SELLS'\n",
        "    __table_args__ = {'extend_existing':True}\n",
        "    pk = Column('PK', Integer, primary_key=True)\n",
        "    fk1 = Column('FK1', Integer, ForeignKey('SUPPLIER.PK'))\n",
        "    fk2 = Column('FK2', Integer, ForeignKey('PART.PK'))\n",
        "city = sess.query(City).where(City.pk==1).one()\n",
        "2023-09-07 10:37:01,845 INFO sqlalchemy.engine.Engine SELECT \"CITY\".\"PK\" AS \"CITY_PK\", \"CITY\".\"NAME\" AS \"CITY_NAME\"\n",
        "FROM \"CITY\"\n",
        "WHERE \"CITY\".\"PK\" = ?\n",
        "2023-09-07 10:37:01,850 INFO sqlalchemy.engine.Engine [generated in 0.00482s] (1,)\n",
        "city.nodes[0] is sess.query(Supplier).where(Supplier.fk==1).one()\n",
        "2023-09-07 10:37:28,848 INFO sqlalchemy.engine.Engine SELECT \"SUPPLIER\".\"PK\" AS \"SUPPLIER_PK\", \"SUPPLIER\".\"NAME\" AS \"SUPPLIER_NAME\", \"SUPPLIER\".\"FK\" AS \"SUPPLIER_FK\"\n",
        "FROM \"SUPPLIER\"\n",
        "WHERE \"SUPPLIER\".\"FK\" = ?\n",
        "2023-09-07 10:37:28,853 INFO sqlalchemy.engine.Engine [generated in 0.00568s] (1,)\n",
        "True\n",
        "len(city.nodes)\n",
        "1\n",
        "city.nodes.append(Supplier(name='지점2'))\n",
        "sess.is_modified(city)\n",
        "True\n",
        "sess.commit()\n",
        "2023-09-07 10:39:30,954 INFO sqlalchemy.engine.Engine INSERT INTO \"SUPPLIER\" (\"NAME\", \"FK\") VALUES (?, ?)\n",
        "2023-09-07 10:39:30,955 INFO sqlalchemy.engine.Engine [generated in 0.00157s] ('지점2', 1)\n",
        "2023-09-07 10:39:30,958 INFO sqlalchemy.engine.Engine COMMIT\n",
        "---------------------------------------------------------------------------\n",
        "AttributeError                            Traceback (most recent call last)\n",
        "Cell In [120], line 1\n",
        "----> 1 sess.commit()\n",
        "\n",
        "File /opt/homebrew/anaconda3/lib/python3.9/site-packages/sqlalchemy/orm/session.py:1923, in Session.commit(self)\n",
        "   1920 if trans is None:\n",
        "   1921     trans = self._autobegin_t()\n",
        "-> 1923 trans.commit(_to_root=True)\n",
        "\n",
        "File <string>:2, in commit(self, _to_root)\n",
        "\n",
        "File /opt/homebrew/anaconda3/lib/python3.9/site-packages/sqlalchemy/orm/state_changes.py:139, in _StateChange.declare_states.<locals>._go(fn, self, *arg, **kw)\n",
        "    137 self._next_state = _StateChangeStates.CHANGE_IN_PROGRESS\n",
        "    138 try:\n",
        "--> 139     ret_value = fn(self, *arg, **kw)\n",
        "    140 except:\n",
        "    141     raise\n",
        "\n",
        "File /opt/homebrew/anaconda3/lib/python3.9/site-packages/sqlalchemy/orm/session.py:1251, in SessionTransaction.commit(self, _to_root)\n",
        "   1248     self._state = SessionTransactionState.COMMITTED\n",
        "   1249     self.session.dispatch.after_commit(self.session)\n",
        "-> 1251     self._remove_snapshot()\n",
        "   1253 with self._expect_state(SessionTransactionState.CLOSED):\n",
        "   1254     self.close()\n",
        "\n",
        "File /opt/homebrew/anaconda3/lib/python3.9/site-packages/sqlalchemy/orm/session.py:1075, in SessionTransaction._remove_snapshot(self)\n",
        "   1073 if not self.nested and self.session.expire_on_commit:\n",
        "   1074     for s in self.session.identity_map.all_states():\n",
        "-> 1075         s._expire(s.dict, self.session.identity_map._modified)\n",
        "   1077     statelib.InstanceState._detach_states(\n",
        "   1078         list(self._deleted), self.session\n",
        "   1079     )\n",
        "   1080     self._deleted.clear()\n",
        "\n",
        "File /opt/homebrew/anaconda3/lib/python3.9/site-packages/sqlalchemy/orm/state.py:744, in InstanceState._expire(self, dict_, modified_set)\n",
        "    741 for key in self.manager._all_key_set.intersection(dict_):\n",
        "    742     del dict_[key]\n",
        "--> 744 self.manager.dispatch.expire(self, None)\n",
        "\n",
        "AttributeError: 'NoneType' object has no attribute 'expire'\n",
        "len(city.nodes)\n",
        "2\n",
        "city.nodes[-1].name\n",
        "'지점2'\n",
        "suppliers = sess.query(Supplier).all()\n",
        "2023-09-07 10:42:32,581 INFO sqlalchemy.engine.Engine BEGIN (implicit)\n",
        "2023-09-07 10:42:32,585 INFO sqlalchemy.engine.Engine SELECT \"SUPPLIER\".\"PK\" AS \"SUPPLIER_PK\", \"SUPPLIER\".\"NAME\" AS \"SUPPLIER_NAME\", \"SUPPLIER\".\"FK\" AS \"SUPPLIER_FK\"\n",
        "FROM \"SUPPLIER\"\n",
        "2023-09-07 10:42:32,586 INFO sqlalchemy.engine.Engine [generated in 0.00102s] ()\n",
        "sess.close()\n",
        "Session = sessionmaker(engine)\n",
        "sess = Session()\n",
        "suppliers[0].city.name\n",
        "'도시1'\n",
        "sell.suppliers.city.nodes.sells\n",
        "'도시1'\n",
        "sess.rollback()\n",
        "engine.dispose()\n",
        "sess.close()\n",
        "base.registry.dispose()\n",
        "base.metadata.clear()\n",
        "engine = create_engine('sqlite:///:memory:', echo=True)\n",
        "base = declarative_base()\n",
        "Session = sessionmaker(engine)\n",
        "sess = Session()\n",
        "base.registry.dispose()\n",
        "base.metadata.clear()\n",
        "class Artist(base):\n",
        "    __tablename__ = 'ARTIST'\n",
        "    pk = Column('PK', Integer, primary_key=True)\n",
        "    name = Column('NAME', Text)\n",
        "    albums = relationship('Album', back_populates='artist',\n",
        "                          uselist=True)\n",
        "    def addAlbum(self, name):\n",
        "        album = Album(name=name)\n",
        "        sess.add(album)\n",
        "        sess.commit()\n",
        "        self.albums.append(album)\n",
        "    def delAlbum(self, name):\n",
        "        album = sess.query(Album).filter(Album.name=name).one()\n",
        "        self.albums.index(album)\n",
        "\n",
        "    def __repr__(self):\n",
        "        return f'{self.name}, {len(self.albums)}'\n",
        "\n",
        "class Album(base):\n",
        "    __tablename__ = 'ALBUM'\n",
        "    pk = Column('PK', Integer, primary_key=True)\n",
        "    name = Column('NAME', Text)\n",
        "    fk = Column('FK', Integer, ForeignKey('ARTIST.PK'))\n",
        "    artist = relationship('Artist', back_populates='albums')\n",
        "\n",
        "    def __repr__(self):\n",
        "        return f'{self.name}, {self.artist.name}'\n",
        "rst = sess.query(Album).filter(Album.name=='앨범1')\n",
        "album1 = rst.one()\n",
        "2023-09-07 11:23:57,065 INFO sqlalchemy.engine.Engine SELECT \"ALBUM\".\"PK\" AS \"ALBUM_PK\", \"ALBUM\".\"NAME\" AS \"ALBUM_NAME\", \"ALBUM\".\"FK\" AS \"ALBUM_FK\"\n",
        "FROM \"ALBUM\"\n",
        "WHERE \"ALBUM\".\"NAME\" = ?\n",
        "2023-09-07 11:23:57,068 INFO sqlalchemy.engine.Engine [generated in 0.00309s] ('앨범1',)\n",
        "artist1.albums.index(album1)\n",
        "0\n",
        "base.metadata.create_all(engine)\n",
        "2023-09-07 10:54:59,398 INFO sqlalchemy.engine.Engine BEGIN (implicit)\n",
        "2023-09-07 10:54:59,401 INFO sqlalchemy.engine.Engine PRAGMA main.table_info(\"ARTIST\")\n",
        "2023-09-07 10:54:59,403 INFO sqlalchemy.engine.Engine [raw sql] ()\n",
        "2023-09-07 10:54:59,405 INFO sqlalchemy.engine.Engine PRAGMA temp.table_info(\"ARTIST\")\n",
        "2023-09-07 10:54:59,406 INFO sqlalchemy.engine.Engine [raw sql] ()\n",
        "2023-09-07 10:54:59,407 INFO sqlalchemy.engine.Engine PRAGMA main.table_info(\"ALBUM\")\n",
        "2023-09-07 10:54:59,408 INFO sqlalchemy.engine.Engine [raw sql] ()\n",
        "2023-09-07 10:54:59,409 INFO sqlalchemy.engine.Engine PRAGMA temp.table_info(\"ALBUM\")\n",
        "2023-09-07 10:54:59,410 INFO sqlalchemy.engine.Engine [raw sql] ()\n",
        "2023-09-07 10:54:59,412 INFO sqlalchemy.engine.Engine\n",
        "CREATE TABLE \"ARTIST\" (\n",
        "\t\"PK\" INTEGER NOT NULL,\n",
        "\t\"NAME\" TEXT,\n",
        "\tPRIMARY KEY (\"PK\")\n",
        ")\n",
        "\n",
        "\n",
        "2023-09-07 10:54:59,412 INFO sqlalchemy.engine.Engine [no key 0.00080s] ()\n",
        "2023-09-07 10:54:59,414 INFO sqlalchemy.engine.Engine\n",
        "CREATE TABLE \"ALBUM\" (\n",
        "\t\"PK\" INTEGER NOT NULL,\n",
        "\t\"NAME\" TEXT,\n",
        "\t\"FK\" INTEGER,\n",
        "\tPRIMARY KEY (\"PK\"),\n",
        "\tFOREIGN KEY(\"FK\") REFERENCES \"ARTIST\" (\"PK\")\n",
        ")\n",
        "\n",
        "\n",
        "2023-09-07 10:54:59,414 INFO sqlalchemy.engine.Engine [no key 0.00044s] ()\n",
        "2023-09-07 10:54:59,415 INFO sqlalchemy.engine.Engine COMMIT\n",
        "artist1 = Artist(name='가수1')\n",
        "sess.add(artist1)\n",
        "sess.commit()\n",
        "2023-09-07 10:55:00,161 INFO sqlalchemy.engine.Engine BEGIN (implicit)\n",
        "2023-09-07 10:55:00,163 INFO sqlalchemy.engine.Engine INSERT INTO \"ARTIST\" (\"NAME\") VALUES (?)\n",
        "2023-09-07 10:55:00,164 INFO sqlalchemy.engine.Engine [generated in 0.00071s] ('가수1',)\n",
        "2023-09-07 10:55:00,165 INFO sqlalchemy.engine.Engine COMMIT\n",
        "artist1.addAlbum('앨범1')\n",
        "2023-09-07 10:55:01,174 INFO sqlalchemy.engine.Engine BEGIN (implicit)\n",
        "2023-09-07 10:55:01,178 INFO sqlalchemy.engine.Engine INSERT INTO \"ALBUM\" (\"NAME\", \"FK\") VALUES (?, ?)\n",
        "2023-09-07 10:55:01,179 INFO sqlalchemy.engine.Engine [generated in 0.00161s] ('앨범1', None)\n",
        "2023-09-07 10:55:01,181 INFO sqlalchemy.engine.Engine COMMIT\n",
        "2023-09-07 10:55:01,182 INFO sqlalchemy.engine.Engine BEGIN (implicit)\n",
        "2023-09-07 10:55:01,184 INFO sqlalchemy.engine.Engine SELECT \"ARTIST\".\"PK\" AS \"ARTIST_PK\", \"ARTIST\".\"NAME\" AS \"ARTIST_NAME\"\n",
        "FROM \"ARTIST\"\n",
        "WHERE \"ARTIST\".\"PK\" = ?\n",
        "2023-09-07 10:55:01,185 INFO sqlalchemy.engine.Engine [generated in 0.00070s] (1,)\n",
        "2023-09-07 10:55:01,187 INFO sqlalchemy.engine.Engine SELECT \"ALBUM\".\"PK\" AS \"ALBUM_PK\", \"ALBUM\".\"NAME\" AS \"ALBUM_NAME\", \"ALBUM\".\"FK\" AS \"ALBUM_FK\"\n",
        "FROM \"ALBUM\"\n",
        "WHERE ? = \"ALBUM\".\"FK\"\n",
        "2023-09-07 10:55:01,189 INFO sqlalchemy.engine.Engine [generated in 0.00142s] (1,)\n",
        "artist1.albums[0]\n",
        "2023-09-07 10:55:01,958 INFO sqlalchemy.engine.Engine SELECT \"ALBUM\".\"PK\" AS \"ALBUM_PK\", \"ALBUM\".\"NAME\" AS \"ALBUM_NAME\"\n",
        "FROM \"ALBUM\"\n",
        "WHERE \"ALBUM\".\"PK\" = ?\n",
        "2023-09-07 10:55:01,960 INFO sqlalchemy.engine.Engine [generated in 0.00285s] (1,)\n",
        "2023-09-07 10:55:01,963 INFO sqlalchemy.engine.Engine UPDATE \"ALBUM\" SET \"FK\"=? WHERE \"ALBUM\".\"PK\" = ?\n",
        "2023-09-07 10:55:01,964 INFO sqlalchemy.engine.Engine [generated in 0.00090s] (1, 1)\n",
        "2023-09-07 10:55:01,966 INFO sqlalchemy.engine.Engine SELECT \"ALBUM\".\"PK\" AS \"ALBUM_PK\", \"ALBUM\".\"NAME\" AS \"ALBUM_NAME\", \"ALBUM\".\"FK\" AS \"ALBUM_FK\"\n",
        "FROM \"ALBUM\"\n",
        "WHERE \"ALBUM\".\"PK\" = ?\n",
        "2023-09-07 10:55:01,966 INFO sqlalchemy.engine.Engine [generated in 0.00070s] (1,)\n",
        "앨범1, 가수1\n",
        "앨범을 삭제하는 코드를 만들기(11시20분)\n",
        "sess.rollback()\n",
        "\n",
        "engine.dispose()\n",
        "sess.close()\n",
        "base.registry.dispose()\n",
        "base.metadata.clear()\n",
        "\n",
        "engine = create_engine('sqlite:///:memory:', echo=True)\n",
        "base = declarative_base()\n",
        "Session = sessionmaker(engine)\n",
        "sess = Session()\n",
        "# 기존에서 가져오기\n",
        "base.metadata.reflect(engine)\n",
        "base.metadata.tables['테이블이름']\n",
        "class 어쩌고(base):\n",
        "    __table__ = base.metadata.tables['테이블이름']\n",
        "    pk =\n",
        "    relationship\n",
        "DB, PK/FK 설정\n",
        "relationship <= PK/FK, 객체, DB X\n",
        "base.registry.dispose()\n",
        "# Artist 1:N Ablums\n",
        "# Post N:M Hashtag => 별도의 Table\n",
        "class Post(base):\n",
        "    __tablename__ = 'POST'\n",
        "    __table_args__ = {'extend_existing':True}\n",
        "    pk = Column('PK', Integer, primary_key=True)\n",
        "    content = Column('CONTENT', Text)\n",
        "    tags = relationship('Tags', back_populates='post', uselist=True)\n",
        "\n",
        "    def addTags(self, tags):\n",
        "        tagList = list()\n",
        "        for tag in tags:\n",
        "            rst = sess.query(Hashtag).filter(Hashtag.name == tag)\n",
        "            if rst.count() > 0:\n",
        "                tagList.append(rst.one())\n",
        "            else:\n",
        "                newTag = Hashtag(name=tag)\n",
        "                sess.add(newTag)\n",
        "                sess.commit()\n",
        "                tagList.append(newTag)\n",
        "        for tag in tagList:\n",
        "            sess.add(Tags(fk1=self.pk, fk2=tag.pk))\n",
        "            sess.commit()\n",
        "            tag.cnt += 1\n",
        "    # tag 삭제\n",
        "    def __repr__(self):\n",
        "        return f'{self.pk}, {len(self.tags)}'\n",
        "\n",
        "class Hashtag(base):\n",
        "    __tablename__ = 'HASHTAG'\n",
        "    __table_args__ = {'extend_existing':True}\n",
        "    pk = Column('PK', Integer, primary_key=True)\n",
        "    name = Column('NAME', Text)\n",
        "    cnt = Column('CNT', Integer, server_default='0')\n",
        "    posts = relationship('Tags', back_populates='hashtag',\n",
        "                         uselist=True)\n",
        "    # +1, -1 함수\n",
        "    def __repr__(self):\n",
        "        return f'{self.pk}, {self.name}, {len(self.posts)}'\n",
        "\n",
        "class Tags(base):\n",
        "    __tablename__ = 'TAGS'\n",
        "    __table_args__ = {'extend_existing':True}\n",
        "    pk = Column('PK', Integer, primary_key=True)\n",
        "    fk1 = Column('FK1', None, ForeignKey('POST.PK'))\n",
        "    fk2 = Column('FK2', None, ForeignKey('HASHTAG.PK'))\n",
        "    post = relationship('Post', back_populates='tags')\n",
        "    hashtag = relationship('Hashtag', back_populates='posts')\n",
        "\n",
        "# Object/Class\n",
        "# Post           Tags           Hashtag\n",
        "# tags----      post/hashtag    ----posts\n",
        "# Posts.tags[0/1/2/3/..].hashtag -----------> Hashtag\n",
        "base.metadata.create_all(engine)\n",
        "2023-09-07 11:53:59,395 INFO sqlalchemy.engine.Engine BEGIN (implicit)\n",
        "2023-09-07 11:53:59,398 INFO sqlalchemy.engine.Engine PRAGMA main.table_info(\"POST\")\n",
        "2023-09-07 11:53:59,400 INFO sqlalchemy.engine.Engine [raw sql] ()\n",
        "2023-09-07 11:53:59,402 INFO sqlalchemy.engine.Engine PRAGMA temp.table_info(\"POST\")\n",
        "2023-09-07 11:53:59,403 INFO sqlalchemy.engine.Engine [raw sql] ()\n",
        "2023-09-07 11:53:59,403 INFO sqlalchemy.engine.Engine PRAGMA main.table_info(\"HASHTAG\")\n",
        "2023-09-07 11:53:59,404 INFO sqlalchemy.engine.Engine [raw sql] ()\n",
        "2023-09-07 11:53:59,405 INFO sqlalchemy.engine.Engine PRAGMA temp.table_info(\"HASHTAG\")\n",
        "2023-09-07 11:53:59,405 INFO sqlalchemy.engine.Engine [raw sql] ()\n",
        "2023-09-07 11:53:59,406 INFO sqlalchemy.engine.Engine PRAGMA main.table_info(\"TAGS\")\n",
        "2023-09-07 11:53:59,407 INFO sqlalchemy.engine.Engine [raw sql] ()\n",
        "2023-09-07 11:53:59,408 INFO sqlalchemy.engine.Engine PRAGMA temp.table_info(\"TAGS\")\n",
        "2023-09-07 11:53:59,409 INFO sqlalchemy.engine.Engine [raw sql] ()\n",
        "2023-09-07 11:53:59,411 INFO sqlalchemy.engine.Engine\n",
        "CREATE TABLE \"POST\" (\n",
        "\t\"PK\" INTEGER NOT NULL,\n",
        "\t\"CONTENT\" TEXT,\n",
        "\tPRIMARY KEY (\"PK\")\n",
        ")\n",
        "\n",
        "\n",
        "2023-09-07 11:53:59,411 INFO sqlalchemy.engine.Engine [no key 0.00036s] ()\n",
        "2023-09-07 11:53:59,412 INFO sqlalchemy.engine.Engine\n",
        "CREATE TABLE \"HASHTAG\" (\n",
        "\t\"PK\" INTEGER NOT NULL,\n",
        "\t\"NAME\" TEXT,\n",
        "\t\"CNT\" INTEGER DEFAULT '0',\n",
        "\tPRIMARY KEY (\"PK\")\n",
        ")\n",
        "\n",
        "\n",
        "2023-09-07 11:53:59,413 INFO sqlalchemy.engine.Engine [no key 0.00057s] ()\n",
        "2023-09-07 11:53:59,414 INFO sqlalchemy.engine.Engine\n",
        "CREATE TABLE \"TAGS\" (\n",
        "\t\"PK\" INTEGER NOT NULL,\n",
        "\t\"FK1\" INTEGER,\n",
        "\t\"FK2\" INTEGER,\n",
        "\tPRIMARY KEY (\"PK\"),\n",
        "\tFOREIGN KEY(\"FK1\") REFERENCES \"POST\" (\"PK\"),\n",
        "\tFOREIGN KEY(\"FK2\") REFERENCES \"HASHTAG\" (\"PK\")\n",
        ")\n",
        "\n",
        "\n",
        "2023-09-07 11:53:59,414 INFO sqlalchemy.engine.Engine [no key 0.00026s] ()\n",
        "2023-09-07 11:53:59,414 INFO sqlalchemy.engine.Engine COMMIT\n",
        "post1 = Post(content='내용1')\n",
        "sess.add(post1)\n",
        "sess.commit()\n",
        "2023-09-07 11:39:17,871 INFO sqlalchemy.engine.Engine BEGIN (implicit)\n",
        "2023-09-07 11:39:17,872 INFO sqlalchemy.engine.Engine INSERT INTO \"POST\" (\"CONTENT\") VALUES (?)\n",
        "2023-09-07 11:39:17,873 INFO sqlalchemy.engine.Engine [generated in 0.00049s] ('내용1',)\n",
        "2023-09-07 11:39:17,873 INFO sqlalchemy.engine.Engine COMMIT\n",
        "tag1 = Hashtag(name='해시태그1')\n",
        "sess.add(tag1)\n",
        "sess.commit()\n",
        "2023-09-07 11:39:56,131 INFO sqlalchemy.engine.Engine BEGIN (implicit)\n",
        "2023-09-07 11:39:56,136 INFO sqlalchemy.engine.Engine INSERT INTO \"HASHTAG\" (\"NAME\") VALUES (?)\n",
        "2023-09-07 11:39:56,138 INFO sqlalchemy.engine.Engine [generated in 0.00155s] ('해시태그1',)\n",
        "2023-09-07 11:39:56,140 INFO sqlalchemy.engine.Engine COMMIT\n",
        "sess.add(Tags(fk1=post1.pk, fk2=tag1.pk))\n",
        "sess.commit()\n",
        "2023-09-07 11:40:32,334 INFO sqlalchemy.engine.Engine SELECT \"HASHTAG\".\"PK\" AS \"HASHTAG_PK\", \"HASHTAG\".\"NAME\" AS \"HASHTAG_NAME\"\n",
        "FROM \"HASHTAG\"\n",
        "WHERE \"HASHTAG\".\"PK\" = ?\n",
        "2023-09-07 11:40:32,338 INFO sqlalchemy.engine.Engine [generated in 0.00398s] (1,)\n",
        "2023-09-07 11:40:32,342 INFO sqlalchemy.engine.Engine INSERT INTO \"TAGS\" (\"FK1\", \"FK2\") VALUES (?, ?)\n",
        "2023-09-07 11:40:32,342 INFO sqlalchemy.engine.Engine [generated in 0.00090s] (1, 1)\n",
        "2023-09-07 11:40:32,344 INFO sqlalchemy.engine.Engine COMMIT\n",
        "len(post1.tags), post1.tags[0].hashtag.name\n",
        "2023-09-07 11:41:01,148 INFO sqlalchemy.engine.Engine SELECT \"HASHTAG\".\"PK\" AS \"HASHTAG_PK\", \"HASHTAG\".\"NAME\" AS \"HASHTAG_NAME\"\n",
        "FROM \"HASHTAG\"\n",
        "WHERE \"HASHTAG\".\"PK\" = ?\n",
        "2023-09-07 11:41:01,153 INFO sqlalchemy.engine.Engine [cached since 28.82s ago] (1,)\n",
        "(1, '해시태그1')\n",
        "len(tag1.posts), tag1.posts[0].post.content\n",
        "(1, '내용1')\n",
        "post2 = Post(content='내용2')\n",
        "sess.add(post2)\n",
        "sess.commit()\n",
        "2023-09-07 11:54:08,765 INFO sqlalchemy.engine.Engine BEGIN (implicit)\n",
        "2023-09-07 11:54:08,769 INFO sqlalchemy.engine.Engine INSERT INTO \"POST\" (\"CONTENT\") VALUES (?)\n",
        "2023-09-07 11:54:08,770 INFO sqlalchemy.engine.Engine [generated in 0.00143s] ('내용2',)\n",
        "2023-09-07 11:54:08,772 INFO sqlalchemy.engine.Engine COMMIT\n",
        "post2.addTags(['해시태그2', '해시태그3'])\n",
        "2023-09-07 11:54:11,987 INFO sqlalchemy.engine.Engine BEGIN (implicit)\n",
        "2023-09-07 11:54:11,993 INFO sqlalchemy.engine.Engine SELECT count(*) AS count_1\n",
        "FROM (SELECT \"HASHTAG\".\"PK\" AS \"HASHTAG_PK\", \"HASHTAG\".\"NAME\" AS \"HASHTAG_NAME\", \"HASHTAG\".\"CNT\" AS \"HASHTAG_CNT\"\n",
        "FROM \"HASHTAG\"\n",
        "WHERE \"HASHTAG\".\"NAME\" = ?) AS anon_1\n",
        "2023-09-07 11:54:11,994 INFO sqlalchemy.engine.Engine [generated in 0.00123s] ('해시태그2',)\n",
        "2023-09-07 11:54:11,997 INFO sqlalchemy.engine.Engine INSERT INTO \"HASHTAG\" (\"NAME\") VALUES (?) RETURNING \"PK\", \"CNT\"\n",
        "2023-09-07 11:54:11,998 INFO sqlalchemy.engine.Engine [generated in 0.00118s] ('해시태그2',)\n",
        "2023-09-07 11:54:11,999 INFO sqlalchemy.engine.Engine COMMIT\n",
        "2023-09-07 11:54:12,000 INFO sqlalchemy.engine.Engine BEGIN (implicit)\n",
        "2023-09-07 11:54:12,000 INFO sqlalchemy.engine.Engine SELECT count(*) AS count_1\n",
        "FROM (SELECT \"HASHTAG\".\"PK\" AS \"HASHTAG_PK\", \"HASHTAG\".\"NAME\" AS \"HASHTAG_NAME\", \"HASHTAG\".\"CNT\" AS \"HASHTAG_CNT\"\n",
        "FROM \"HASHTAG\"\n",
        "WHERE \"HASHTAG\".\"NAME\" = ?) AS anon_1\n",
        "2023-09-07 11:54:12,000 INFO sqlalchemy.engine.Engine [cached since 0.007117s ago] ('해시태그3',)\n",
        "2023-09-07 11:54:12,001 INFO sqlalchemy.engine.Engine INSERT INTO \"HASHTAG\" (\"NAME\") VALUES (?) RETURNING \"PK\", \"CNT\"\n",
        "2023-09-07 11:54:12,001 INFO sqlalchemy.engine.Engine [cached since 0.004593s ago] ('해시태그3',)\n",
        "2023-09-07 11:54:12,002 INFO sqlalchemy.engine.Engine COMMIT\n",
        "2023-09-07 11:54:12,003 INFO sqlalchemy.engine.Engine BEGIN (implicit)\n",
        "2023-09-07 11:54:12,003 INFO sqlalchemy.engine.Engine SELECT \"POST\".\"PK\" AS \"POST_PK\", \"POST\".\"CONTENT\" AS \"POST_CONTENT\"\n",
        "FROM \"POST\"\n",
        "WHERE \"POST\".\"PK\" = ?\n",
        "2023-09-07 11:54:12,004 INFO sqlalchemy.engine.Engine [generated in 0.00055s] (1,)\n",
        "2023-09-07 11:54:12,006 INFO sqlalchemy.engine.Engine SELECT \"HASHTAG\".\"PK\" AS \"HASHTAG_PK\", \"HASHTAG\".\"NAME\" AS \"HASHTAG_NAME\", \"HASHTAG\".\"CNT\" AS \"HASHTAG_CNT\"\n",
        "FROM \"HASHTAG\"\n",
        "WHERE \"HASHTAG\".\"PK\" = ?\n",
        "2023-09-07 11:54:12,006 INFO sqlalchemy.engine.Engine [generated in 0.00041s] (1,)\n",
        "2023-09-07 11:54:12,007 INFO sqlalchemy.engine.Engine INSERT INTO \"TAGS\" (\"FK1\", \"FK2\") VALUES (?, ?)\n",
        "2023-09-07 11:54:12,008 INFO sqlalchemy.engine.Engine [generated in 0.00047s] (1, 1)\n",
        "2023-09-07 11:54:12,008 INFO sqlalchemy.engine.Engine COMMIT\n",
        "2023-09-07 11:54:12,009 INFO sqlalchemy.engine.Engine BEGIN (implicit)\n",
        "2023-09-07 11:54:12,009 INFO sqlalchemy.engine.Engine SELECT \"HASHTAG\".\"PK\" AS \"HASHTAG_PK\", \"HASHTAG\".\"NAME\" AS \"HASHTAG_NAME\", \"HASHTAG\".\"CNT\" AS \"HASHTAG_CNT\"\n",
        "FROM \"HASHTAG\"\n",
        "WHERE \"HASHTAG\".\"PK\" = ?\n",
        "2023-09-07 11:54:12,010 INFO sqlalchemy.engine.Engine [cached since 0.004054s ago] (1,)\n",
        "2023-09-07 11:54:12,011 INFO sqlalchemy.engine.Engine UPDATE \"HASHTAG\" SET \"CNT\"=? WHERE \"HASHTAG\".\"PK\" = ?\n",
        "2023-09-07 11:54:12,011 INFO sqlalchemy.engine.Engine [generated in 0.00039s] (1, 1)\n",
        "2023-09-07 11:54:12,012 INFO sqlalchemy.engine.Engine SELECT \"POST\".\"PK\" AS \"POST_PK\", \"POST\".\"CONTENT\" AS \"POST_CONTENT\"\n",
        "FROM \"POST\"\n",
        "WHERE \"POST\".\"PK\" = ?\n",
        "2023-09-07 11:54:12,012 INFO sqlalchemy.engine.Engine [cached since 0.008648s ago] (1,)\n",
        "2023-09-07 11:54:12,013 INFO sqlalchemy.engine.Engine SELECT \"HASHTAG\".\"PK\" AS \"HASHTAG_PK\", \"HASHTAG\".\"NAME\" AS \"HASHTAG_NAME\", \"HASHTAG\".\"CNT\" AS \"HASHTAG_CNT\"\n",
        "FROM \"HASHTAG\"\n",
        "WHERE \"HASHTAG\".\"PK\" = ?\n",
        "2023-09-07 11:54:12,013 INFO sqlalchemy.engine.Engine [cached since 0.007482s ago] (2,)\n",
        "2023-09-07 11:54:12,014 INFO sqlalchemy.engine.Engine INSERT INTO \"TAGS\" (\"FK1\", \"FK2\") VALUES (?, ?)\n",
        "2023-09-07 11:54:12,015 INFO sqlalchemy.engine.Engine [cached since 0.007397s ago] (1, 2)\n",
        "2023-09-07 11:54:12,015 INFO sqlalchemy.engine.Engine COMMIT\n",
        "2023-09-07 11:54:12,016 INFO sqlalchemy.engine.Engine BEGIN (implicit)\n",
        "2023-09-07 11:54:12,016 INFO sqlalchemy.engine.Engine SELECT \"HASHTAG\".\"PK\" AS \"HASHTAG_PK\", \"HASHTAG\".\"NAME\" AS \"HASHTAG_NAME\", \"HASHTAG\".\"CNT\" AS \"HASHTAG_CNT\"\n",
        "FROM \"HASHTAG\"\n",
        "WHERE \"HASHTAG\".\"PK\" = ?\n",
        "2023-09-07 11:54:12,017 INFO sqlalchemy.engine.Engine [cached since 0.01097s ago] (2,)\n",
        "for tag in post2.tags:\n",
        "    print(tag.hashtag)\n",
        "2023-09-07 11:54:46,933 INFO sqlalchemy.engine.Engine SELECT \"HASHTAG\".\"PK\" AS \"HASHTAG_PK\", \"HASHTAG\".\"NAME\" AS \"HASHTAG_NAME\", \"HASHTAG\".\"CNT\" AS \"HASHTAG_CNT\"\n",
        "FROM \"HASHTAG\"\n",
        "WHERE \"HASHTAG\".\"PK\" = ?\n",
        "2023-09-07 11:54:46,937 INFO sqlalchemy.engine.Engine [generated in 0.00452s] (1,)\n",
        "2023-09-07 11:54:46,943 INFO sqlalchemy.engine.Engine SELECT \"TAGS\".\"PK\" AS \"TAGS_PK\", \"TAGS\".\"FK1\" AS \"TAGS_FK1\", \"TAGS\".\"FK2\" AS \"TAGS_FK2\"\n",
        "FROM \"TAGS\"\n",
        "WHERE ? = \"TAGS\".\"FK2\"\n",
        "2023-09-07 11:54:46,944 INFO sqlalchemy.engine.Engine [generated in 0.00099s] (1,)\n",
        "1, 해시태그2, 1\n",
        "2023-09-07 11:54:46,946 INFO sqlalchemy.engine.Engine SELECT \"HASHTAG\".\"PK\" AS \"HASHTAG_PK\", \"HASHTAG\".\"NAME\" AS \"HASHTAG_NAME\", \"HASHTAG\".\"CNT\" AS \"HASHTAG_CNT\"\n",
        "FROM \"HASHTAG\"\n",
        "WHERE \"HASHTAG\".\"PK\" = ?\n",
        "2023-09-07 11:54:46,947 INFO sqlalchemy.engine.Engine [cached since 0.01388s ago] (2,)\n",
        "2023-09-07 11:54:46,948 INFO sqlalchemy.engine.Engine SELECT \"TAGS\".\"PK\" AS \"TAGS_PK\", \"TAGS\".\"FK1\" AS \"TAGS_FK1\", \"TAGS\".\"FK2\" AS \"TAGS_FK2\"\n",
        "FROM \"TAGS\"\n",
        "WHERE ? = \"TAGS\".\"FK2\"\n",
        "2023-09-07 11:54:46,948 INFO sqlalchemy.engine.Engine [cached since 0.005303s ago] (2,)\n",
        "2, 해시태그3, 1\n",
        "post3 = Post(content='내용3')\n",
        "sess.add(post3)\n",
        "sess.commit()\n",
        "2023-09-07 11:55:31,581 INFO sqlalchemy.engine.Engine INSERT INTO \"POST\" (\"CONTENT\") VALUES (?)\n",
        "2023-09-07 11:55:31,584 INFO sqlalchemy.engine.Engine [cached since 82.81s ago] ('내용3',)\n",
        "2023-09-07 11:55:31,585 INFO sqlalchemy.engine.Engine COMMIT\n",
        "post3.addTags(['해시태그1', '해시태그2'])\n",
        "2023-09-07 11:55:51,634 INFO sqlalchemy.engine.Engine BEGIN (implicit)\n",
        "2023-09-07 11:55:51,639 INFO sqlalchemy.engine.Engine SELECT count(*) AS count_1\n",
        "FROM (SELECT \"HASHTAG\".\"PK\" AS \"HASHTAG_PK\", \"HASHTAG\".\"NAME\" AS \"HASHTAG_NAME\", \"HASHTAG\".\"CNT\" AS \"HASHTAG_CNT\"\n",
        "FROM \"HASHTAG\"\n",
        "WHERE \"HASHTAG\".\"NAME\" = ?) AS anon_1\n",
        "2023-09-07 11:55:51,641 INFO sqlalchemy.engine.Engine [cached since 99.65s ago] ('해시태그1',)\n",
        "2023-09-07 11:55:51,643 INFO sqlalchemy.engine.Engine INSERT INTO \"HASHTAG\" (\"NAME\") VALUES (?) RETURNING \"PK\", \"CNT\"\n",
        "2023-09-07 11:55:51,644 INFO sqlalchemy.engine.Engine [cached since 99.65s ago] ('해시태그1',)\n",
        "2023-09-07 11:55:51,644 INFO sqlalchemy.engine.Engine COMMIT\n",
        "2023-09-07 11:55:51,645 INFO sqlalchemy.engine.Engine BEGIN (implicit)\n",
        "2023-09-07 11:55:51,646 INFO sqlalchemy.engine.Engine SELECT count(*) AS count_1\n",
        "FROM (SELECT \"HASHTAG\".\"PK\" AS \"HASHTAG_PK\", \"HASHTAG\".\"NAME\" AS \"HASHTAG_NAME\", \"HASHTAG\".\"CNT\" AS \"HASHTAG_CNT\"\n",
        "FROM \"HASHTAG\"\n",
        "WHERE \"HASHTAG\".\"NAME\" = ?) AS anon_1\n",
        "2023-09-07 11:55:51,646 INFO sqlalchemy.engine.Engine [cached since 99.65s ago] ('해시태그2',)\n",
        "2023-09-07 11:55:51,647 INFO sqlalchemy.engine.Engine SELECT \"HASHTAG\".\"PK\" AS \"HASHTAG_PK\", \"HASHTAG\".\"NAME\" AS \"HASHTAG_NAME\", \"HASHTAG\".\"CNT\" AS \"HASHTAG_CNT\"\n",
        "FROM \"HASHTAG\"\n",
        "WHERE \"HASHTAG\".\"NAME\" = ?\n",
        "2023-09-07 11:55:51,647 INFO sqlalchemy.engine.Engine [generated in 0.00035s] ('해시태그2',)\n",
        "2023-09-07 11:55:51,648 INFO sqlalchemy.engine.Engine SELECT \"POST\".\"PK\" AS \"POST_PK\", \"POST\".\"CONTENT\" AS \"POST_CONTENT\"\n",
        "FROM \"POST\"\n",
        "WHERE \"POST\".\"PK\" = ?\n",
        "2023-09-07 11:55:51,649 INFO sqlalchemy.engine.Engine [cached since 99.65s ago] (2,)\n",
        "2023-09-07 11:55:51,650 INFO sqlalchemy.engine.Engine SELECT \"HASHTAG\".\"PK\" AS \"HASHTAG_PK\", \"HASHTAG\".\"NAME\" AS \"HASHTAG_NAME\", \"HASHTAG\".\"CNT\" AS \"HASHTAG_CNT\"\n",
        "FROM \"HASHTAG\"\n",
        "WHERE \"HASHTAG\".\"PK\" = ?\n",
        "2023-09-07 11:55:51,650 INFO sqlalchemy.engine.Engine [cached since 99.64s ago] (3,)\n",
        "2023-09-07 11:55:51,651 INFO sqlalchemy.engine.Engine INSERT INTO \"TAGS\" (\"FK1\", \"FK2\") VALUES (?, ?)\n",
        "2023-09-07 11:55:51,651 INFO sqlalchemy.engine.Engine [cached since 99.64s ago] (2, 3)\n",
        "2023-09-07 11:55:51,652 INFO sqlalchemy.engine.Engine COMMIT\n",
        "2023-09-07 11:55:51,652 INFO sqlalchemy.engine.Engine BEGIN (implicit)\n",
        "2023-09-07 11:55:51,653 INFO sqlalchemy.engine.Engine SELECT \"HASHTAG\".\"PK\" AS \"HASHTAG_PK\", \"HASHTAG\".\"NAME\" AS \"HASHTAG_NAME\", \"HASHTAG\".\"CNT\" AS \"HASHTAG_CNT\"\n",
        "FROM \"HASHTAG\"\n",
        "WHERE \"HASHTAG\".\"PK\" = ?\n",
        "2023-09-07 11:55:51,653 INFO sqlalchemy.engine.Engine [cached since 99.65s ago] (3,)\n",
        "2023-09-07 11:55:51,654 INFO sqlalchemy.engine.Engine UPDATE \"HASHTAG\" SET \"CNT\"=? WHERE \"HASHTAG\".\"PK\" = ?\n",
        "2023-09-07 11:55:51,654 INFO sqlalchemy.engine.Engine [cached since 99.64s ago] (1, 3)\n",
        "2023-09-07 11:55:51,655 INFO sqlalchemy.engine.Engine SELECT \"POST\".\"PK\" AS \"POST_PK\", \"POST\".\"CONTENT\" AS \"POST_CONTENT\"\n",
        "FROM \"POST\"\n",
        "WHERE \"POST\".\"PK\" = ?\n",
        "2023-09-07 11:55:51,655 INFO sqlalchemy.engine.Engine [cached since 99.65s ago] (2,)\n",
        "2023-09-07 11:55:51,656 INFO sqlalchemy.engine.Engine SELECT \"HASHTAG\".\"PK\" AS \"HASHTAG_PK\", \"HASHTAG\".\"NAME\" AS \"HASHTAG_NAME\", \"HASHTAG\".\"CNT\" AS \"HASHTAG_CNT\"\n",
        "FROM \"HASHTAG\"\n",
        "WHERE \"HASHTAG\".\"PK\" = ?\n",
        "2023-09-07 11:55:51,656 INFO sqlalchemy.engine.Engine [cached since 99.65s ago] (1,)\n",
        "2023-09-07 11:55:51,657 INFO sqlalchemy.engine.Engine INSERT INTO \"TAGS\" (\"FK1\", \"FK2\") VALUES (?, ?)\n",
        "2023-09-07 11:55:51,657 INFO sqlalchemy.engine.Engine [cached since 99.65s ago] (2, 1)\n",
        "2023-09-07 11:55:51,658 INFO sqlalchemy.engine.Engine COMMIT\n",
        "2023-09-07 11:55:51,659 INFO sqlalchemy.engine.Engine BEGIN (implicit)\n",
        "2023-09-07 11:55:51,659 INFO sqlalchemy.engine.Engine SELECT \"HASHTAG\".\"PK\" AS \"HASHTAG_PK\", \"HASHTAG\".\"NAME\" AS \"HASHTAG_NAME\", \"HASHTAG\".\"CNT\" AS \"HASHTAG_CNT\"\n",
        "FROM \"HASHTAG\"\n",
        "WHERE \"HASHTAG\".\"PK\" = ?\n",
        "2023-09-07 11:55:51,659 INFO sqlalchemy.engine.Engine [cached since 99.65s ago] (1,)\n",
        "tag1 = sess.query(Hashtag).where(Hashtag.name == '해시태그2').one()\n",
        "2023-09-07 11:56:24,162 INFO sqlalchemy.engine.Engine UPDATE \"HASHTAG\" SET \"CNT\"=? WHERE \"HASHTAG\".\"PK\" = ?\n",
        "2023-09-07 11:56:24,165 INFO sqlalchemy.engine.Engine [cached since 132.2s ago] (2, 1)\n",
        "2023-09-07 11:56:24,167 INFO sqlalchemy.engine.Engine SELECT \"HASHTAG\".\"PK\" AS \"HASHTAG_PK\", \"HASHTAG\".\"NAME\" AS \"HASHTAG_NAME\", \"HASHTAG\".\"CNT\" AS \"HASHTAG_CNT\"\n",
        "FROM \"HASHTAG\"\n",
        "WHERE \"HASHTAG\".\"NAME\" = ?\n",
        "2023-09-07 11:56:24,168 INFO sqlalchemy.engine.Engine [cached since 32.52s ago] ('해시태그2',)\n",
        "for post in tag1.posts:\n",
        "    print(post.post.content)\n",
        "2023-09-07 11:57:02,282 INFO sqlalchemy.engine.Engine SELECT \"POST\".\"PK\" AS \"POST_PK\", \"POST\".\"CONTENT\" AS \"POST_CONTENT\"\n",
        "FROM \"POST\"\n",
        "WHERE \"POST\".\"PK\" = ?\n",
        "2023-09-07 11:57:02,288 INFO sqlalchemy.engine.Engine [cached since 170.3s ago] (1,)\n",
        "내용2\n",
        "2023-09-07 11:57:02,291 INFO sqlalchemy.engine.Engine SELECT \"POST\".\"PK\" AS \"POST_PK\", \"POST\".\"CONTENT\" AS \"POST_CONTENT\"\n",
        "FROM \"POST\"\n",
        "WHERE \"POST\".\"PK\" = ?\n",
        "2023-09-07 11:57:02,292 INFO sqlalchemy.engine.Engine [cached since 170.3s ago] (2,)\n",
        "내용3\n",
        "tag1\n",
        "1, 해시태그2, 2"
      ],
      "metadata": {
        "id": "tQXJ6lhHTF_h"
      },
      "execution_count": null,
      "outputs": []
    }
  ]
}